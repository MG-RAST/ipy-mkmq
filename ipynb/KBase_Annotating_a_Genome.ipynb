{
 "metadata": {
  "created": "2013-02-23T22:43:05.513198",
  "description": "Example of using KBNB to run the KBase tutorial: Annotating a Genome Using KBase Tools",
  "name": "KBNB: Annotating a Genome",
  "permission": "view",
  "type": "ipynb",
  "user": "public",
  "uuid": "1d8c3a6e-7f39-4a70-81f3-1dc985be2288"
 },
 "nbformat": 3,
 "nbformat_minor": 0,
 "worksheets": [
  {
   "cells": [
    {
     "cell_type": "markdown",
     "metadata": {},
     "source": "<h3>IPython implementaion of KBase tutorial: <i>Annotating a Genome Using KBase Tools</i></h3>\nhttp://kbase.us/developer-zone/tutorials/getting-started/annotating-a-genome-using-kbase-tools/"
    },
    {
     "cell_type": "markdown",
     "metadata": {},
     "source": "<h3>Using An IPython Notebook\n    <a style='cursor:pointer;clear:both;font-size:small;color:blue;padding-left:10px;' onclick='\n  if (this.innerHTML==\"show\") {\n    this.innerHTML = \"hide\";\n    document.getElementById(\"ipy_nb_doc\").style.display = \"\";\n  } else {\n    document.getElementById(\"ipy_nb_doc\").style.display = \"none\";\n    this.innerHTML = \"show\";\n}'>show</a></h3>\n<div id='ipy_nb_doc' style='display:none;'>\n<p>An <a href='http://ipython.org/ipython-doc/rel-0.13/overview.html' target='_blank'><font color='blue'>IPython notebook</font></a> is a web based python shell interface with ability to use other shells (bash, perl, R, ruby, etc.). Allows execution of code blocks (called cells) and display of the results as plain text or images or markup (html / javascript).</p>\nThe notebook page is composed of 2 parts.\n<ol>\n    <li>A top control bar with drop-down menus</li>\n    <li>An interactive notebook space below, composed of \u00e2\u0080\u0098cells\u00e2\u0080\u0099 with input and output areas</li>\n</ol>\n<p>The control menus allow manipulation of cells (add, delete, merge, split, move, execute, change type), ouput (expand, collapse, clear), and the kernel that is running the notebook code (interrupt, restart).</p>\n<p>Work within the notebook is done by entering commands into a cell, this can be done with one or more lines. To execute the commands in the cell use shift-return. Cells are numbered by execution order and may be re-ran in any order. The results (if any) are displayed in the space below that cell. Result types may be: plain text, JSON or serialized python objects, html, javascript, math equations (latex), images (png, jpg, pdf, etc.)</p>\n</div>\n<h3>Using KBase in IPython\n    <a style='cursor:pointer;clear:both;font-size:small;color:blue;padding-left:10px;' onclick='\n  if (this.innerHTML==\"show\") {\n    this.innerHTML = \"hide\";\n    document.getElementById(\"kbase_nb_doc\").style.display = \"\";\n  } else {\n    document.getElementById(\"kbase_nb_doc\").style.display = \"none\";\n    this.innerHTML = \"show\";\n  }'>show</a></h3>\n<div id='kbase_nb_doc'  style='display:none;'>\n<h4>KBase Command Line Scripts</h4>\n<p>To list available all available KBase command line scripts, run <font color='red'>print Ipy.KBASE_CMDS</font>. To view the documentation for a given KBase shell command run <font color='red'>! kb_command_name -h</font> You can also start typing a command in a cell and use the 'tab' key to get a list of available commands or to auto-complete the name. To run a KBase shell command, prepend <font color='red'>!</font> to the front of the command to execute it through the bash shell.</p><br>\n<h4>KBase Python Tools</h4>\n<p>To view the available KBase python classes and functions execute <font color='red'>print Ipy.KBASE_IPY</font>. To view the documentation for a given class or function run <font color='red'>help(class_or_func_name)</font>.</p>\n</div>"
    },
    {
     "cell_type": "code",
     "collapsed": false,
     "input": "# Select a genome\n! all_entities_Genome -f scientific_name | grep Geobacter",
     "language": "python",
     "metadata": {},
     "outputs": [
      {
       "output_type": "stream",
       "stream": "stdout",
       "text": "kb|g.1495\tGeobacter sp. M18\r\nkb|g.1494\tGeobacter sp. M18\r\nkb|g.1278\tGeobacter lovleyi SZ\r\nkb|g.483\tGeobacter sulfurreducens PCA\r\nkb|g.1029\tGeobacter uraniireducens Rf4\r\nkb|g.1314\tGeobacter bemidjiensis Bem\r\nkb|g.1496\tGeobacter sp. M21\r\nkb|g.2860\tGeobacter sulfurreducens KN400\r\nkb|g.835\tGeobacter sp. FRC-32\r\n"
      },
      {
       "output_type": "stream",
       "stream": "stdout",
       "text": "kb|g.589\tGeobacter metallireducens GS-15\r\n"
      }
     ],
     "prompt_number": 1
    },
    {
     "cell_type": "code",
     "collapsed": false,
     "input": "# Create project subdirectory\n! mkdir g.2860",
     "language": "python",
     "metadata": {},
     "outputs": [
      {
       "output_type": "stream",
       "stream": "stdout",
       "text": "mkdir: cannot create directory `g.2860': File exists\r\n"
      }
     ],
     "prompt_number": 2
    },
    {
     "cell_type": "code",
     "collapsed": false,
     "input": "# Get a FASTA file of contigs from the KBase Central Store\n! echo 'kb|g.2860' | genomes_to_contigs | contigs_to_sequences > g.2860/g.2860.contigs",
     "language": "python",
     "metadata": {},
     "outputs": [],
     "prompt_number": 3
    },
    {
     "cell_type": "code",
     "collapsed": false,
     "input": "! head -1 g.2860/g.2860.contigs",
     "language": "python",
     "metadata": {},
     "outputs": [
      {
       "output_type": "stream",
       "stream": "stdout",
       "text": ">kb|g.2860.c.0\r\n"
      }
     ],
     "prompt_number": 4
    },
    {
     "cell_type": "code",
     "collapsed": false,
     "input": "# Create a genome object to annotate\n! fasta_to_genome 'Geobacter sulfurreducens KN400' Bacteria 11 < g.2860/g.2860.contigs > g.2860/genome",
     "language": "python",
     "metadata": {},
     "outputs": [],
     "prompt_number": 5
    },
    {
     "cell_type": "code",
     "collapsed": false,
     "input": "genome_obj = json.load(open('g.2860/genome', 'r'))\nprint genome_obj.keys()\nprint '---------------'\nprint genome_obj['id'], genome_obj['scientific_name']",
     "language": "python",
     "metadata": {},
     "outputs": [
      {
       "output_type": "stream",
       "stream": "stdout",
       "text": "[u'contigs', u'domain', u'features', u'scientific_name', u'genetic_code', u'id']"
      },
      {
       "output_type": "stream",
       "stream": "stdout",
       "text": "\n---------------\nkb|g.22779 Geobacter sulfurreducens KN400\n"
      }
     ],
     "prompt_number": 6
    },
    {
     "cell_type": "code",
     "collapsed": false,
     "input": "# Annotate a genome object\n! annotate_genome < g.2860/genome > g.2860/annotated.genome\n! genomeTO_to_feature_data < g.2860/annotated.genome > g.2860/features.txt",
     "language": "python",
     "metadata": {},
     "outputs": [],
     "prompt_number": 7
    },
    {
     "cell_type": "code",
     "collapsed": false,
     "input": "ann_obj = json.load(open('g.2860/annotated.genome', 'r'))\nprint ann_obj.keys()\nprint '---------------'\nprint ann_obj['id'], ann_obj['scientific_name']\nprint '---------------'\n! head g.2860/features.txt",
     "language": "python",
     "metadata": {},
     "outputs": [
      {
       "output_type": "stream",
       "stream": "stdout",
       "text": "[u'contigs', u'domain', u'features', u'scientific_name', u'genetic_code', u'id']"
      },
      {
       "output_type": "stream",
       "stream": "stdout",
       "text": "\n---------------\nkb|g.22779 Geobacter sulfurreducens KN400\n---------------\nkb|g.22779.CDS.0\tkb|g.2860.c.0_30+1338\tCDS\tChromosomal replication initiator protein DnaA\t\tfd800fdc1c8cb7b1d3bbc7fa621dc80c\r\nkb|g.22779.CDS.1\tkb|g.2860.c.0_1594+1119\tCDS\tDNA polymerase III beta subunit (EC 2.7.7.7)\t\ta23070961b4ffffaec9f84c62d936600\r\nkb|g.22779.CDS.2\tkb|g.2860.c.0_2766+1125\tCDS\tDNA recombination and repair protein RecF\t\t421a0c2e538648e3ae0fd2ef13077d38\r\nkb|g.22779.CDS.3\tkb|g.2860.c.0_3901+2388\tCDS\tDNA gyrase subunit B (EC 5.99.1.3)\t\tf0e5e514f0048ca0aae6ab89ba1b52df\r\nkb|g.22779.CDS.4\tkb|g.2860.c.0_6416+2574\tCDS\tDNA gyrase subunit A (EC 5.99.1.3)\t\t82312a13dcdda4510cbd47bf2c7203ed\r\nkb|g.22779.CDS.5\tkb|g.2860.c.0_9060+1569\tCDS\tFIG00675799: hypothetical protein\t\t845e74d146f530de71fcce27c99ff126\r\nkb|g.22779.CDS.6\tkb|g.2860.c.0_10673+1008\tCDS\tGlycerol-3-phosphate dehydrogenase [NAD(P)+] (EC 1.1.1.94)\t\tc767c87b99e71df32c6473bb24713b1b\r\nkb|g.22779.CDS.7\tkb|g.2860.c.0_11778+2289\tCDS\tTwo-component sensor kinase SA14-24\t\t67d879ffd27ec5ae5462ccc066b19b58\r\nkb|g.22779.CDS.8\tkb|g.2860.c.0_14063+1551\tCDS\tsensory box histidine kinase/response regulator\t\tf6f6cc428ca191dbcf9e86d668cf1f8a\r\nkb|g.22779.CDS.9\tkb|g.2860.c.0_15618+1500\tCDS\tPAS/PAC sensor signal transduction histidine kinase\t\t94616224ed8e4197a231aad7b8403efa\r\n"
      }
     ],
     "prompt_number": 8
    },
    {
     "cell_type": "code",
     "collapsed": false,
     "input": "# Build a metabolic reconstruction from an annotated genome\n! genomeTO_to_reconstructionTO < g.2860/annotated.genome > g.2860/reconstruction\n! reconstructionTO_to_roles < g.2860/reconstruction > g.2860/roles\n! reconstructionTO_to_subsystems < g.2860/reconstruction > g.2860/subsystems",
     "language": "python",
     "metadata": {},
     "outputs": [],
     "prompt_number": 9
    },
    {
     "cell_type": "code",
     "collapsed": false,
     "input": "rec_obj = json.load(open('g.2860/reconstruction', 'r'))\nprint rec_obj.keys()\nprint '---------------'\nprint rec_obj['bindings'][:5]\nprint '---------------'\nprint rec_obj['subsystems'][:5]\nprint '---------------'\n! head g.2860/roles\nprint '---------------'\n! head g.2860/subsystems",
     "language": "python",
     "metadata": {},
     "outputs": [
      {
       "output_type": "stream",
       "stream": "stdout",
       "text": "[u'assignments', u'bindings', u'subsystems']"
      },
      {
       "output_type": "stream",
       "stream": "stdout",
       "text": "\n---------------\n[[u'kb|g.22779.CDS.3037', u'Flagellar hook-associated protein FlgK'], [u'kb|g.22779.CDS.3006', u'Flagellin protein FlaG'], [u'kb|g.22779.CDS.3453', u'Glutamate synthase [NADPH] large chain (EC 1.4.1.13)'], [u'kb|g.22779.CDS.1236', u'Glutamate synthase [NADPH] large chain (EC 1.4.1.13)'], [u'kb|g.22779.CDS.1233', u'Glutamate synthase [NADPH] large chain (EC 1.4.1.13)']]\n---------------\n[[u'Two cell division clusters relating to chromosome partitioning', u'missing'], [u'tRNA processing', u'1'], [u'Thioredoxin-disulfide reductase', u'2'], [u'Proline Synthesis', u'1'], [u'CBSS-138119.3.peg.2719', u'9']]\n---------------\n(3R)-hydroxymyristoyl-[acyl carrier protein] dehydratase (EC 4.2.1.-)\r\n(R)-citramalate synthase (EC 2.3.1.182)\r\n(S)-2-hydroxy-acid oxidase (EC 1.1.3.15)\r\n1-acyl-sn-glycerol-3-phosphate acyltransferase (EC 2.3.1.51)\r\n1-deoxy-D-xylulose 5-phosphate reductoisomerase (EC 1.1.1.267)\r\n1-deoxy-D-xylulose 5-phosphate synthase (EC 2.2.1.7)\r\n1-hydroxy-2-methyl-2-(E)-butenyl 4-diphosphate synthase (EC 1.17.7.1)\r\n16S rRNA processing protein RimM\r\n2'-5' RNA ligase\r\n2,3-bisphosphoglycerate-independent phosphoglycerate mutase (EC 5.4.2.1)\r\n"
      },
      {
       "output_type": "stream",
       "stream": "stdout",
       "text": "---------------\nTwo cell division clusters relating to chromosome partitioning\tmissing\r\ntRNA processing\t1\r\nThioredoxin-disulfide reductase\t2\r\nProline Synthesis\t1\r\nCBSS-138119.3.peg.2719\t9\r\nABC transporter oligopeptide (TC 3.A.1.5.1)\t2\r\nPeriplasmic disulfide interchange\t1\r\nHousecleaning nucleoside triphosphate pyrophosphatases\t1\r\nDNA gyrase subunits\t1\r\nTerminal cytochrome C oxidases\t3\r\n"
      }
     ],
     "prompt_number": 10
    },
    {
     "cell_type": "code",
     "collapsed": false,
     "input": "# Find roles that might impact metabolic models\n! all_roles_used_in_models > g.2860/all.roles\n! a_and_b g.2860/roles g.2860/all.roles > g.2860/roles.for.models",
     "language": "python",
     "metadata": {},
     "outputs": [],
     "prompt_number": 11
    },
    {
     "cell_type": "code",
     "collapsed": false,
     "input": "! head g.2860/all.roles\nprint '---------------'\n! head g.2860/roles.for.models",
     "language": "python",
     "metadata": {},
     "outputs": [
      {
       "output_type": "stream",
       "stream": "stdout",
       "text": "(3R)-hydroxymyristoyl-[acyl carrier protein] dehydratase (EC 4.2.1.-)\r\n1,2-dihydroxy-3-keto-5-methylthiopentene dioxygenase (EC 1.13.11.54)\r\n1,2-dihydroxycyclohexa-3,5-diene-1-carboxylate dehydrogenase (EC 1.3.1.25)\r\n1,3-propanediol dehydrogenase (EC 1.1.1.202)\r\n1,4-alpha-glucan (glycogen) branching enzyme (EC 2.4.1.18)\r\n1,4-dihydroxy-2-naphthoate octaprenyltransferase (EC 2.5.1.74)\r\n1-acyl-sn-glycerol-3-phosphate acyltransferase (EC 2.3.1.51)\r\n1-deoxy-D-xylulose 5-phosphate reductoisomerase (EC 1.1.1.267)\r\n1-deoxy-D-xylulose 5-phosphate synthase (EC 2.2.1.7)\r\n1-hydroxy-2-methyl-2-(E)-butenyl 4-diphosphate synthase (EC 1.17.4.3)\r\n"
      },
      {
       "output_type": "stream",
       "stream": "stdout",
       "text": "---------------"
      },
      {
       "output_type": "stream",
       "stream": "stdout",
       "text": "\n(3R)-hydroxymyristoyl-[acyl carrier protein] dehydratase (EC 4.2.1.-)\r\n1-acyl-sn-glycerol-3-phosphate acyltransferase (EC 2.3.1.51)\r\n1-deoxy-D-xylulose 5-phosphate reductoisomerase (EC 1.1.1.267)\r\n1-deoxy-D-xylulose 5-phosphate synthase (EC 2.2.1.7)\r\n2,3-bisphosphoglycerate-independent phosphoglycerate mutase (EC 5.4.2.1)\r\n2-C-methyl-D-erythritol 2,4-cyclodiphosphate synthase (EC 4.6.1.12)\r\n2-C-methyl-D-erythritol 4-phosphate cytidylyltransferase (EC 2.7.7.60)\r\n2-Keto-3-deoxy-D-manno-octulosonate-8-phosphate synthase (EC 2.5.1.55)\r\n2-dehydropantoate 2-reductase (EC 1.1.1.169)\r\n2-isopropylmalate synthase (EC 2.3.3.13)\r\n"
      }
     ],
     "prompt_number": 12
    },
    {
     "cell_type": "code",
     "collapsed": false,
     "input": "# Compare roles with those found in another strain\n! echo 'kb|g.1029' | genomes_to_fids CDS | fids_to_roles 2> /dev/null | cut -f 3 > g.2860/roles.in.g.1029\n! a_and_b g.2860/roles.in.g.1029 g.2860/all.roles > g.2860/roles.for.models.g.1029\n! a_not_b g.2860/roles.for.models g.2860/roles.for.models.g.1029 > g.2860/roles.to.search.for",
     "language": "python",
     "metadata": {},
     "outputs": [],
     "prompt_number": 13
    },
    {
     "cell_type": "code",
     "collapsed": false,
     "input": "! head g.2860/roles.in.g.1029\n! echo '---------------'\n! head g.2860/roles.for.models.g.1029\n! echo '---------------'\n! head g.2860/roles.to.search.for",
     "language": "python",
     "metadata": {},
     "outputs": [
      {
       "output_type": "stream",
       "stream": "stdout",
       "text": "HAD-superfamily hydrolase, subfamily IA, variant 1\r\nSigma-54 dependent DNA-binding response regulator\r\nLipoprotein signal peptidase (EC 3.4.23.36)\r\nhypothetical protein\r\nFIG004454: RNA binding protein\r\nABC-type antimicrobial peptide transport system, ATPase component\r\nPutative membrane protein of ExoQ family, involved in exopolysaccharide production\r\nProlipoprotein diacylglyceryl transferase (EC 2.4.99.-)\r\nFIG00680829: hypothetical protein\r\nMammalian cell entry related\r\n"
      },
      {
       "output_type": "stream",
       "stream": "stdout",
       "text": "---------------\r\n"
      },
      {
       "output_type": "stream",
       "stream": "stdout",
       "text": "(3R)-hydroxymyristoyl-[acyl carrier protein] dehydratase (EC 4.2.1.-)\r\n1-acyl-sn-glycerol-3-phosphate acyltransferase (EC 2.3.1.51)\r\n1-deoxy-D-xylulose 5-phosphate reductoisomerase (EC 1.1.1.267)\r\n1-deoxy-D-xylulose 5-phosphate synthase (EC 2.2.1.7)\r\n2,3-bisphosphoglycerate-independent phosphoglycerate mutase (EC 5.4.2.1)\r\n2-C-methyl-D-erythritol 2,4-cyclodiphosphate synthase (EC 4.6.1.12)\r\n2-C-methyl-D-erythritol 4-phosphate cytidylyltransferase (EC 2.7.7.60)\r\n2-Keto-3-deoxy-D-manno-octulosonate-8-phosphate synthase (EC 2.5.1.55)\r\n2-amino-4-hydroxy-6-hydroxymethyldihydropteridine pyrophosphokinase (EC 2.7.6.3)\r\n2-dehydropantoate 2-reductase (EC 1.1.1.169)\r\n"
      },
      {
       "output_type": "stream",
       "stream": "stdout",
       "text": "---------------\r\n"
      },
      {
       "output_type": "stream",
       "stream": "stdout",
       "text": "Acyl carrier protein phosphodiesterase (EC 3.1.4.14)\r\nAldehyde dehydrogenase (EC 1.2.1.3)\r\nAlpha,alpha-trehalose-phosphate synthase [UDP-forming] (EC 2.4.1.15)\r\nCarbamate kinase (EC 2.7.2.2)\r\nCatalase (EC 1.11.1.6)\r\nCobalt-precorrin-3b C17-methyltransferase\r\nCobyric acid synthase\r\nCysteine synthase B (EC 2.5.1.47)\r\nCytochrome c oxidase polypeptide II (EC 1.9.3.1)\r\nDNA gyrase subunit A (EC 5.99.1.3)\r\n"
      }
     ],
     "prompt_number": 14
    },
    {
     "cell_type": "code",
     "collapsed": false,
     "input": "# Create an initial metabolic model\n! genome_to_fbamodel < g.2860/annotated.genome > g.2860/initial.model\n# View the model\n! fbamodel_to_html < g.2860/initial.model > g.2860/initial.model.html",
     "language": "python",
     "metadata": {},
     "outputs": [
      {
       "output_type": "stream",
       "stream": "stdout",
       "text": "/bin/sh: genome_to_fbamodel: not found\r\n"
      },
      {
       "output_type": "stream",
       "stream": "stdout",
       "text": "/bin/sh: fbamodel_to_html: not found\r\n"
      }
     ],
     "prompt_number": 15
    },
    {
     "cell_type": "code",
     "collapsed": false,
     "input": "# Run flux balance analysis on the metabolic model\n! runfba < g.2860/initial.model > g.2860/solution.html",
     "language": "python",
     "metadata": {},
     "outputs": [
      {
       "output_type": "stream",
       "stream": "stdout",
       "text": "/bin/sh: runfba: not found\r\n"
      }
     ],
     "prompt_number": 16
    },
    {
     "cell_type": "code",
     "collapsed": false,
     "input": "# Gapfill the model\n! gapfill_fbamodel < initial.model > gapfilled.model",
     "language": "python",
     "metadata": {},
     "outputs": [
      {
       "output_type": "stream",
       "stream": "stdout",
       "text": "/bin/sh: cannot open initial.model: No such file\r\n/bin/sh: gapfill_fbamodel: not found\r\n"
      }
     ],
     "prompt_number": 17
    },
    {
     "cell_type": "code",
     "collapsed": false,
     "input": "# Run flux balance analysis on the gapfilled model\n! runfba < gapfilled.model > solution.html",
     "language": "python",
     "metadata": {},
     "outputs": [
      {
       "output_type": "stream",
       "stream": "stdout",
       "text": "/bin/sh: cannot open gapfilled.model: No such file\r\n/bin/sh: runfba: not found\r\n"
      }
     ],
     "prompt_number": 18
    },
    {
     "cell_type": "code",
     "collapsed": false,
     "input": "! kbfba-loadgenome -h",
     "language": "python",
     "metadata": {},
     "outputs": [
      {
       "output_type": "stream",
       "stream": "stdout",
       "text": "kbfba-loadgenome <Genome file | Genome ID> [-?efhloprsvw] [long options...]\r\n\t-f --fromfile      Load genome object from file\r\n\t-s --seed          Load genome from SEED\r\n\t-r --rast          Load genome from RAST\r\n\t-l --login         Login for genome source (e.g. RAST)\r\n\t-p --password      Password for genome source (e.g. RAST)\r\n\t-w --workspace     Workspace to load genome into\r\n\t-o --overwrite     Overwrite existing genome with same name\r\n\t-e --showerror     Set as 1 to show any errors in execution\r\n\t-v --verbose       Print verbose messages\r\n\t-? -h --help       Print this usage information\r\n"
      }
     ],
     "prompt_number": 23
    },
    {
     "cell_type": "code",
     "collapsed": false,
     "input": "! kbfba-exportfbamodel -h",
     "language": "python",
     "metadata": {},
     "outputs": [
      {
       "output_type": "stream",
       "stream": "stdout",
       "text": "kbfba-exportfbamodel <FBAModel ID> <Format (html,sbml,json,cytoseed,readable)> [-?ehvw] [long options...]\r\n\t-w --workspace     Workspace with model\r\n\t-e --showerror     Set as 1 to show any errors in execution\r\n\t-v --verbose       Print verbose messages\r\n\t-? -h --help       Print this usage information\r\n"
      }
     ],
     "prompt_number": 22
    },
    {
     "cell_type": "code",
     "collapsed": false,
     "input": "",
     "language": "python",
     "metadata": {},
     "outputs": []
    }
   ],
   "metadata": {}
  }
 ]
}