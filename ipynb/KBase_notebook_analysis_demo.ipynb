{
 "metadata": {
  "type": "ipynb",
  "name": "KBNB: analysis demo",
  "user": "public",
  "uuid": "737990ca-4fc7-4b13-83a6-3427557e746c",
  "created": "2013-02-22T14:25:02.105134",
  "permission": "view",
  "description": "Example of using KBNB to run an analysis of metagenomes"
 },
 "nbformat": 3,
 "nbformat_minor": 0,
 "worksheets": [
  {
   "cells": [
    {
     "cell_type": "markdown",
     "metadata": {},
     "source": "#KBase Notebook Demonstration \n#Tuesday, February 26, 2013"
    },
    {
     "cell_type": "markdown",
     "metadata": {},
     "source": "###Objective:  Obtaining identification and abundance of taxonomy and functions of metagenomic sequences.\n###Inputs: KBase metagenome IDs (single or multiple)\n###Outputs:  Flexible visualizations of taxonomic and functional profiles\n- Exploration of results at different levels\n- Subselection\n- Save data for export\n- Save figures"
    },
    {
     "cell_type": "markdown",
     "metadata": {},
     "source": "Initiate the KBase Notebook to have access to KBase functions."
    },
    {
     "cell_type": "code",
     "collapsed": false,
     "input": "init_ipy()",
     "language": "python",
     "metadata": {},
     "outputs": [
      {
       "javascript": "$.getScript(\"http://raw.github.com/MG-RAST/Retina/master/js/bootstrap.min.js\", function () {\n$.getScript(\"http://raw.github.com/MG-RAST/Retina/master/js/retina.js\", function () {\n$.getScript(\"http://raw.github.com/MG-RAST/Retina/master/js/stm.js\", function () {\n$.getScript(\"http://raw.github.com/MG-RAST/Retina/master/js/ipy.js\", function () {\n\n\t\t\t(function(){\n\t\t\t\tRetina.init( { library_resource: 'http://raw.github.com/MG-RAST/Retina/master/js/'});\n\t\t\t})();\n\t\t});\n});\n});\n});\n",
       "output_type": "display_data",
       "text": "<IPython.core.display.Javascript at 0x2bb6b10>"
      }
     ],
     "prompt_number": 1
    },
    {
     "cell_type": "markdown",
     "metadata": {},
     "source": "<p>Load the project of interest.  Here, we load all the WGS metagenomes from Kirsten Hofmockel's MG-RAST project.</p>\n\n<p>This data retrieval is being done with locally cached data. The same call is used the retrieve the data through KBase API if a locally cached version is not found.</p>"
    },
    {
     "cell_type": "code",
     "collapsed": false,
     "input": "wgs = ['mgm4509396.3','mgm4509397.3','mgm4509398.3','mgm4509399.3','mgm4509400.3','mgm4509401.3','mgm4509402.3','mgm4509403.3','mgm4509404.3','mgm4509405.3','mgm4509406.3','mgm4509407.3','mgm4510006.3','mgm4510007.3','mgm4510008.3','mgm4510009.3','mgm4511166.3','mgm4511167.3','mgm4511168.3','mgm4511169.3','mgm4511170.3','mgm4511171.3','mgm4511172.3','mgm4511173.3','mgm4511174.3','mgm4511175.3','mgm4511176.3','mgm4511177.3','mgm4512893.3','mgm4512894.3','mgm4512895.3','mgm4512896.3','mgm4512897.3','mgm4512898.3','mgm4512899.3','mgm4512900.3','mgm4512901.3','mgm4512902.3','mgm4512903.3','mgm4512946.3','mgm4512947.3','mgm4512948.3','mgm4512949.3','mgm4514436.3','mgm4514437.3','mgm4514438.3','mgm4514706.3','mgm4514707.3']\ndata = get_analysis_set(ids=wgs, method='WGS', function_source='Subsystems')",
     "language": "python",
     "metadata": {},
     "outputs": [
      {
       "output_type": "stream",
       "stream": "stdout",
       "text": "Loading AnalysisSet for selected metagenomes from cached object\n"
      }
     ],
     "prompt_number": 2
    },
    {
     "cell_type": "markdown",
     "metadata": {},
     "source": "Select the datasets of interest.  Here, we one dataset, an assembled soil metagenome, from the Hofmockel project."
    },
    {
     "cell_type": "code",
     "collapsed": false,
     "input": "sub_selected_datasets = ['mgm4512946.3']\ndata.display_mgs = sub_selected_datasets ",
     "language": "python",
     "metadata": {},
     "outputs": [],
     "prompt_number": 3
    },
    {
     "cell_type": "markdown",
     "metadata": {},
     "source": "Let's explore the taxonomic annotations against the SEED subsytem of this metagenome. "
    },
    {
     "cell_type": "code",
     "collapsed": false,
     "input": "data.barchart(annot='organism', level='domain', normalize=1, legend=False, height=200)",
     "language": "python",
     "metadata": {},
     "outputs": [
      {
       "html": "<div id='div_graph_I1D3XxAn'></div>",
       "output_type": "display_data",
       "text": "<IPython.core.display.HTML at 0x2bba050>"
      },
      {
       "javascript": "\n\t\t\t(function(){\n\t\t\t\tRetina.add_renderer({\"name\": \"graph\", \"resource\": 'http://raw.github.com/MG-RAST/Retina/master/renderers/', \"filename\": \"renderer.graph.js\" });\n\t\t\t\tRetina.load_renderer(\"graph\").then( function () { Retina.Renderer.create('graph', {width: 958, height: 200, type: 'row', target: document.getElementById('div_graph_I1D3XxAn'), data: [{\"data\": [0.6553917093189335, 0.9300459040749737, 0.57229988319975, 0.19127419836163395, 0.17575160334346043, 0.3846859606299627], \"name\": \"Hofmockel-lm-aggregates-jan2013ach\", \"fill\": \"#3366cc\"}], title: '', x_labels: [\"Archaea\", \"Bacteria\", \"Eukaryota\", \"Viruses\", \"other sequences\", \"unclassified sequences\"], x_title: '', y_title: '', show_legend: false, legend_position: 'left', title_color: 'black', x_title_color: 'black', y_title_color: 'black', x_labels_rotation: '0', x_tick_interval: 0.000000, y_tick_interval: 30.000000, x_labeled_tick_interval: 1.000000, y_labeled_tick_interval: 0.100000, default_line_color: 'black', default_line_width: 1, chartArea: [158, 0.02, 0.99, 0.95], legendArea: [0.87, 0.05, 0.2, 35]}).render(); });\n                        })();\n\t\t",
       "output_type": "display_data",
       "text": "<IPython.core.display.Javascript at 0x2bba050>"
      }
     ],
     "prompt_number": 4
    },
    {
     "cell_type": "code",
     "collapsed": false,
     "input": "data.barchart(annot='organism', level='phylum', normalize=1, legend=False, height=200)",
     "language": "python",
     "metadata": {},
     "outputs": [
      {
       "html": "<div id='div_graph_WxHGIZwy'></div>",
       "output_type": "display_data",
       "text": "<IPython.core.display.HTML at 0x2bb6d90>"
      },
      {
       "javascript": "\n\t\t\t(function(){\n\t\t\t\tRetina.add_renderer({\"name\": \"graph\", \"resource\": 'http://raw.github.com/MG-RAST/Retina/master/renderers/', \"filename\": \"renderer.graph.js\" });\n\t\t\t\tRetina.load_renderer(\"graph\").then( function () { Retina.Renderer.create('graph', {width: 908, height: 200, type: 'row', target: document.getElementById('div_graph_WxHGIZwy'), data: [{\"data\": [0.5282467456667269, 0.6025095131063126, 0.4667478355729879, 0.5060488009397524, 0.18372164002901586, 0.4089823633746495], \"name\": \"Hofmockel-lm-aggregates-jan2013ach\", \"fill\": \"#3366cc\"}], title: '', x_labels: [\"Acidobacteria\", \"Bacteroidetes\", \"Cyanobacteria\", \"Proteobacteria\", \"Spirochaetes\", \"Verrucomicrobia\"], x_title: '', y_title: '', show_legend: false, legend_position: 'left', title_color: 'black', x_title_color: 'black', y_title_color: 'black', x_labels_rotation: '0', x_tick_interval: 0.000000, y_tick_interval: 30.000000, x_labeled_tick_interval: 1.000000, y_labeled_tick_interval: 0.100000, default_line_color: 'black', default_line_width: 1, chartArea: [108, 0.02, 0.99, 0.95], legendArea: [0.87, 0.05, 0.2, 35]}).render(); });\n                        })();\n\t\t",
       "output_type": "display_data",
       "text": "<IPython.core.display.Javascript at 0x2bb6d90>"
      }
     ],
     "prompt_number": 6
    },
    {
     "cell_type": "markdown",
     "metadata": {},
     "source": "We can also look at the functional profile of the same metagenome."
    },
    {
     "cell_type": "code",
     "collapsed": false,
     "input": "data.barchart(height=500, annot='function', level='level1', legend=False, normalize=1)",
     "language": "python",
     "metadata": {},
     "outputs": [
      {
       "html": "<div id='div_graph_ZJwISjE8'></div>",
       "output_type": "display_data",
       "text": "<IPython.core.display.HTML at 0x2bb6d90>"
      },
      {
       "javascript": "\n\t\t\t(function(){\n\t\t\t\tRetina.add_renderer({\"name\": \"graph\", \"resource\": 'http://raw.github.com/MG-RAST/Retina/master/renderers/', \"filename\": \"renderer.graph.js\" });\n\t\t\t\tRetina.load_renderer(\"graph\").then( function () { Retina.Renderer.create('graph', {width: 1160, height: 500, type: 'row', target: document.getElementById('div_graph_ZJwISjE8'), data: [{\"data\": [0.8603434991625544, 0.9085826333599905, 0.5183992995948663, 0.708941685503108, 0.9643299646104238, 0.8199801259638348, 0.7062022812700918, 0.17671474318795516, 0.6782576462638435, 0.385998333736827, 0.8598480753477363, 0.7678359643325481, 0.9605238208565471, 0.6185451615238339, 0.7346623058749562, 0.8158012294375881, 0.7978039523518524, 0.5927964233815813, 0.44583381969998925, 0.5609632810154657, 0.9498719425868623, 0.9076295057994039, 0.8067635150940959, 0.8680335307207525, 0.5792325741605634, 0.8226602644504424, 0.6451521003003515, 0.8070292954877251], \"name\": \"Hofmockel-lm-aggregates-jan2013ach\", \"fill\": \"#3366cc\"}], title: '', x_labels: [\"Amino Acids and Derivatives\", \"Carbohydrates\", \"Cell Division and Cell Cycle\", \"Cell Wall and Capsule\", \"Clustering-based subsystems\", \"Cofactors, Vitamins, Prosthetic Groups, Pigments\", \"DNA Metabolism\", \"Dormancy and Sporulation\", \"Fatty Acids, Lipids, and Isoprenoids\", \"Iron acquisition and metabolism\", \"Membrane Transport\", \"Metabolism of Aromatic Compounds\", \"Miscellaneous\", \"Motility and Chemotaxis\", \"Nitrogen Metabolism\", \"Nucleosides and Nucleotides\", \"Phages, Prophages, Transposable elements, Plasmids\", \"Phosphorus Metabolism\", \"Photosynthesis\", \"Potassium metabolism\", \"Protein Metabolism\", \"RNA Metabolism\", \"Regulation and Cell signaling\", \"Respiration\", \"Secondary Metabolism\", \"Stress Response\", \"Sulfur Metabolism\", \"Virulence, Disease and Defense\"], x_title: '', y_title: '', show_legend: false, legend_position: 'left', title_color: 'black', x_title_color: 'black', y_title_color: 'black', x_labels_rotation: '0', x_tick_interval: 0.000000, y_tick_interval: 30.000000, x_labeled_tick_interval: 1.000000, y_labeled_tick_interval: 0.100000, default_line_color: 'black', default_line_width: 1, chartArea: [360, 0.02, 0.99, 0.95], legendArea: [0.87, 0.05, 0.2, 35]}).render(); });\n                        })();\n\t\t",
       "output_type": "display_data",
       "text": "<IPython.core.display.Javascript at 0x2bb6d90>"
      }
     ],
     "prompt_number": 7
    },
    {
     "cell_type": "code",
     "collapsed": false,
     "input": "data.barchart(height=2500, annot='function', level='level2', legend=False, normalize=1)",
     "language": "python",
     "metadata": {},
     "outputs": [
      {
       "html": "<div id='div_graph_a240uVJ3'></div>",
       "output_type": "display_data",
       "text": "<IPython.core.display.HTML at 0x2bb6d50>"
      },
      {
       "javascript": "\n\t\t\t(function(){\n\t\t\t\tRetina.add_renderer({\"name\": \"graph\", \"resource\": 'http://raw.github.com/MG-RAST/Retina/master/renderers/', \"filename\": \"renderer.graph.js\" });\n\t\t\t\tRetina.load_renderer(\"graph\").then( function () { Retina.Renderer.create('graph', {width: 1440, height: 2500, type: 'row', target: document.getElementById('div_graph_a240uVJ3'), data: [{\"data\": [0.731549951823245, 0.6549208012367891, 0.6036815834329492, 0.6983468917880261, 0.7591235261866709, 0.6615536708756292, 0.741060640504119, 0.7718919515229286, 0.7636086428458881, 0.688755618120749, 0.5161832063246203, 0.626570513581401, 0.72419565058013, 0.6190413808920732, 0.7018473043799196, 0.7946278195222263, 0.7668661607176467, 0.2508412119786925, 0.4092682706187442, 0.7731685069588626, 0.6007507984174104, 0.5497829854089942, 0.4854863622890381, 0.6985187133232125, 0.6912380965408931, 0.8588761397928304, 0.3990744082618754, 0.5529054928115289, 0.5372949255014967, 0.7079637412984738, 0.6616015745346554, 0.2942676706901263, 0.5546867785838466, 0.464586041576519, 0.7177391045444681, 0.6719120744781668, 0.5910975915071497, 0.3645667300805731, 0.5621317244804065, 0.578272194903456, 0.8052098450867459, 0.7976210352366151, 0.5846509816596513, 0.6307890664217407, 0.6507543625983317, 0.7448840803668697, 0.7888489465650195, 0.7929453055466469, 0.8699212627254265, 0.6808109534021397, 0.7444755002684318, 0.783388117394721, 0.7634832838214641, 0.45440386906507024, 0.7887927652343109, 0.8445820455853609, 0.7029028522265861, 0.7542646458850649, 0.5640197389677736, 0.7447734345795972, 0.6084055874502974, 0.7097486358511247, 0.6807003562031925, 0.4910365435675536, 0.45553082616457746, 0.5653153469569147, 0.5614955871649047, 0.5756040470428626, 0.7443002838577077, 0.6929745142369031, 0.6532689704328367, 0.7262113796599933, 0.5818115869883537, 0.5078922771450199, 0.5459349581948024, 0.43899140308398443, 0.8296145087436444, 0.7802933831995064, 0.6581535291847807, 0.5788576322781691, 0.799327240944979, 0.7050134973774714, 0.7131898183076235, 0.8025861944749038, 0.7404127806741049, 0.7455048893822939, 0.7537268004735004, 0.8432509582880148, 0.7705379583996624, 0.815264922396342, 0.612681482741279, 0.8497414393816844, 0.5996877445144226, 0.7245248936137678, 0.5871199928294529, 0.710835571010721, 0.5760367164529748, 0.9442823176257052, 0.6696220115710408, 0.7072038602534679, 0.6358520173760884, 0.5240491548713483, 0.5054017875296279, 0.5075790191965042, 0.7479829293760462, 0.6770441983170459, 0.4511980830258828, 0.8353031623156103, 0.9095962398773367, 0.824794512702967, 0.631529319306501, 0.7684896182536669, 0.7808899577417637, 0.655772716906828, 0.7553099853124416, 0.7607529496082761, 0.5393407559844491, 0.728634664113674, 0.6876746468002977, 0.6544998922384511, 0.7410228798019091, 0.7506017393378023, 0.8266704727831428, 0.3430698799855532, 0.6239111564229148, 0.6633055609444984, 0.568525804884775, 0.6833903006632345, 0.8156655214368059, 0.5691829326370245, 0.6997747817318769, 0.8081628178860717, 0.9121976580844502, 0.528977024366082, 0.6563752164112184, 0.4179484364313371, 0.8604811677470857, 0.7388510214726153, 0.6295829402092586, 0.6033781737815088, 0.6206227088488643, 0.5159735623436279, 0.6992974538230787, 0.5734972659662653, 0.545686636010947, 0.6435020077208277, 0.5919538270885432, 0.5914063248629383, 0.027909302585708853, 0.5707341796778072, 0.7179257416899981, 0.6346394835019198, 0.7253382398371674, 0.5324109195268496, 0.5824824606790007, 0.6641213226205183, 0.8116343275398884, 0.6132336038056455, 0.6427335798029442, 0.4567978905201242, 0.6185832287089362, 0.616479400091718, 0.6519004614117139, 0.46626086783988274, 0.606472456968783, 0.5263321249706696, 0.567147215050989], \"name\": \"Hofmockel-lm-aggregates-jan2013ach\", \"fill\": \"#3366cc\"}], title: '', x_labels: [\"ABC transporters\", \"ATP synthases\", \"Acid stress\", \"Adhesion\", \"Alanine, serine, and glycine\", \"Aminosugars\", \"Anaerobic degradation of aromatic compounds\", \"Arginine; urea cycle, polyamines\", \"Aromatic amino acids and derivatives\", \"Bacterial cytostatics, differentiation factors and antibiotics\", \"Bacteriocins, ribosomally synthesized antibacterial peptides\", \"Biologically active compounds in metazoan cell defence and differentiation\", \"Biosynthesis of galactoglycans and related lipopolysacharides\", \"Biosynthesis of phenylpropanoids\", \"Biotin\", \"Branched-chain amino acids\", \"CO2 fixation\", \"CRISPRs and associated hypotheticals\", \"CRISPs\", \"Capsular and extracellular polysacchrides\", \"Carbohydrates\", \"Carotenoid biosynthesis\", \"Catabolism of an unknown compound\", \"Cell Division\", \"Cell wall of Mycobacteria\", \"Central carbohydrate metabolism\", \"Chemotaxis, response regulators\", \"Choline bitartrate degradation, putative\", \"Chromosome Replication\", \"Clustering-based subsystems\", \"Coenzyme A\", \"Coenzyme B\", \"Coenzyme F420\", \"Coenzyme M\", \"Cold shock\", \"Cytochrome biogenesis\", \"D-tyrosyl-tRNA(Tyr) deacylase (EC 3.1.-.-) cluster\", \"DNA metabolism\", \"DNA polymerase III epsilon cluster\", \"DNA recombination\", \"DNA repair\", \"DNA replication\", \"DNA uptake, competence\", \"Dessication stress\", \"Detection\", \"Detoxification\", \"Di- and oligosaccharides\", \"Electron accepting reactions\", \"Electron donating reactions\", \"Electron transport and photophosphorylation\", \"Fatty acid metabolic cluster\", \"Fatty acids\", \"Fermentation\", \"Flagella protein?\", \"Flagellar motility in Prokaryota\", \"Folate and pterines\", \"Gene Transfer Agent (GTA)\", \"Glutamine, glutamate, aspartate, asparagine; ammonia assimilation\", \"Glycoside hydrolases\", \"Gram-Negative cell wall components\", \"Gram-Positive cell wall components\", \"Heat shock\", \"Histidine Metabolism\", \"Hypothetical Related to Dihydroorate Dehydrogenase\", \"Hypothetical associated with RecF\", \"Hypothetical in Lysine biosynthetic cluster\", \"Hypothetical lipase related to Phosphatidate metabolism\", \"Hypothetical protein possible functionally linked with Alanyl-tRNA synthetase\", \"Inorganic sulfur assimilation\", \"Invasion and intracellular resistance\", \"Isoprenoid/cell wall biosynthesis: PREDICTED UNDECAPRENYL DIPHOSPHATE PHOSPHATASE\", \"Isoprenoids\", \"Light-harvesting complexes\", \"Lipid-derived mediators\", \"Lipoic acid\", \"Lysine Biosynthesis\", \"Lysine, threonine, methionine, and cysteine\", \"Metabolism of central aromatic intermediates\", \"Methylamine utilization\", \"Molybdopterin oxidoreductase\", \"Monosaccharides\", \"NAD and NADP\", \"Nucleotidyl-phosphate metabolic cluster\", \"One-carbon Metabolism\", \"Organic acids\", \"Organic sulfur assimilation\", \"Osmotic stress\", \"Oxidative stress\", \"Pathogenicity islands\", \"Peripheral pathways for catabolism of aromatic compounds\", \"Periplasmic Stress\", \"Phages, Prophages\", \"Phosphate metabolism\", \"Phospholipids\", \"Plant Alkaloids\", \"Plant Hormones\", \"Plant Octadecanoids\", \"Plant-Prokaryote DOE project\", \"Plasmid related functions\", \"Polysaccharides\", \"Probably GTP or GMP signaling related\", \"Probably Pyrimidine biosynthesis-related\", \"Probably Ybbk-related hypothetical membrane proteins\", \"Probably organic hydroperoxide resistance related hypothetical protein\", \"Programmed Cell Death and Toxin-antitoxin Systems\", \"Proline and 4-hydroxyproline\", \"Proteasome related clusters\", \"Protein and nucleoprotein secretion system, Type IV\", \"Protein biosynthesis\", \"Protein degradation\", \"Protein export?\", \"Protein folding\", \"Protein processing and modification\", \"Protein secretion system, Type I\", \"Protein secretion system, Type II\", \"Protein secretion system, Type III\", \"Protein secretion system, Type V\", \"Protein secretion system, Type VI\", \"Protein secretion system, Type VII (Chaperone/Usher pathway, CU)\", \"Protein secretion system, Type VIII (Extracellular nucleation/precipitation pathway, ENP)\", \"Protein translocation across cytoplasmic membrane\", \"Proteolytic pathway\", \"Purines\", \"Putative GGDEF domain protein related to agglutinin secretion\", \"Putative Isoquinoline 1-oxidoreductase subunit\", \"Putative asociate of RNA polymerase sigma-54 factor rpoN\", \"Putrescine/GABA utilization cluster-temporal,to add to SSs\", \"Pyridoxine\", \"Pyrimidines\", \"Pyruvate kinase associated cluster\", \"Quinone cofactors\", \"Quorum sensing and biofilm formation\", \"RNA processing and modification\", \"Recombination related cluster\", \"Regulation of virulence\", \"Related to Menaquinone-cytochrome C reductase \", \"Resistance to antibiotics and toxic compounds\", \"Reverse electron transport\", \"Riboflavin, FMN, FAD\", \"Ribosomal Protein L28P relates to a set of uncharacterized proteins\", \"Ribosome-related cluster\", \"Sarcosine oxidase\", \"Selenoproteins\", \"Shiga toxin cluster\", \"Siderophores\", \"Signal transduction in Eukaryotes\", \"Social motility and nonflagellar swimming in bacteria\", \"Sodium Ion-Coupled Energetics\", \"Spore DNA protection\", \"Sugar Phosphotransferase Systems, PTS\", \"Sugar alcohols\", \"Sulfatases and sulfatase modifying factor 1 (and a hypothetical)\", \"Tetrapyrroles\", \"Three hypotheticals linked to lipoprotein biosynthesis\", \"TldD cluster\", \"Toxins and superantigens\", \"Transcription\", \"Translation\", \"Transposable elements\", \"Triacylglycerols\", \"Tricarboxylate transporter\", \"Two related proteases\", \"Uni- Sym- and Antiporters\", \"alpha-proteobacterial cluster of hypotheticals\", \"proteosome related\", \"recX and regulatory cluster\", \"tRNA sulfuration\"], x_title: '', y_title: '', show_legend: false, legend_position: 'left', title_color: 'black', x_title_color: 'black', y_title_color: 'black', x_labels_rotation: '0', x_tick_interval: 0.000000, y_tick_interval: 30.000000, x_labeled_tick_interval: 1.000000, y_labeled_tick_interval: 0.100000, default_line_color: 'black', default_line_width: 1, chartArea: [640, 0.02, 0.99, 0.95], legendArea: [0.87, 0.05, 0.2, 35]}).render(); });\n                        })();\n\t\t",
       "output_type": "display_data",
       "text": "<IPython.core.display.Javascript at 0x2bb6d50>"
      }
     ],
     "prompt_number": 8
    },
    {
     "cell_type": "markdown",
     "metadata": {},
     "source": "We can focus in on a particular subsystem of interest to explore.  Let's take a look at functions related to amino acid and derivative production."
    },
    {
     "cell_type": "code",
     "collapsed": false,
     "input": "data.barchart(level=\"level2\", parent=[\"Amino Acids and Derivatives\"], annot=\"function\", legend=False, height=250)",
     "language": "python",
     "metadata": {},
     "outputs": [
      {
       "html": "<div id='div_graph_PZ3wrtVw'></div>",
       "output_type": "display_data",
       "text": "<IPython.core.display.HTML at 0x2bb6d50>"
      },
      {
       "javascript": "\n\t\t\t(function(){\n\t\t\t\tRetina.add_renderer({\"name\": \"graph\", \"resource\": 'http://raw.github.com/MG-RAST/Retina/master/renderers/', \"filename\": \"renderer.graph.js\" });\n\t\t\t\tRetina.load_renderer(\"graph\").then( function () { Retina.Renderer.create('graph', {width: 1268, height: 250, type: 'row', target: document.getElementById('div_graph_PZ3wrtVw'), data: [{\"data\": [0.7591235261866709, 0.7718919515229286, 0.7636086428458881, 0.7946278195222263, 0.7542646458850649, 0.6807003562031925, 0.8296145087436444, 0.6770441983170459], \"name\": \"Hofmockel-lm-aggregates-jan2013ach\", \"fill\": \"#3366cc\"}], title: '', x_labels: [\"Alanine, serine, and glycine\", \"Arginine; urea cycle, polyamines\", \"Aromatic amino acids and derivatives\", \"Branched-chain amino acids\", \"Glutamine, glutamate, aspartate, asparagine; ammonia assimilation\", \"Histidine Metabolism\", \"Lysine, threonine, methionine, and cysteine\", \"Proline and 4-hydroxyproline\"], x_title: '', y_title: '', show_legend: false, legend_position: 'left', title_color: 'black', x_title_color: 'black', y_title_color: 'black', x_labels_rotation: '0', x_tick_interval: 0.000000, y_tick_interval: 30.000000, x_labeled_tick_interval: 1.000000, y_labeled_tick_interval: 0.100000, default_line_color: 'black', default_line_width: 1, chartArea: [468, 0.02, 0.99, 0.95], legendArea: [0.87, 0.05, 0.2, 35]}).render(); });\n                        })();\n\t\t",
       "output_type": "display_data",
       "text": "<IPython.core.display.Javascript at 0x2bb6d50>"
      }
     ],
     "prompt_number": 9
    },
    {
     "cell_type": "markdown",
     "metadata": {},
     "source": "Similarly, we could also explore all the taxa which are in the domain Bacteria."
    },
    {
     "cell_type": "code",
     "collapsed": false,
     "input": "data.barchart(annot='organism', level='phylum', parent=['Bacteria'], legend=False, height=200)",
     "language": "python",
     "metadata": {},
     "outputs": [
      {
       "html": "<div id='div_graph_vZKR6rmf'></div>",
       "output_type": "display_data",
       "text": "<IPython.core.display.HTML at 0x7f64c8087850>"
      },
      {
       "javascript": "\n\t\t\t(function(){\n\t\t\t\tRetina.add_renderer({\"name\": \"graph\", \"resource\": 'http://raw.github.com/MG-RAST/Retina/master/renderers/', \"filename\": \"renderer.graph.js\" });\n\t\t\t\tRetina.load_renderer(\"graph\").then( function () { Retina.Renderer.create('graph', {width: 908, height: 200, type: 'row', target: document.getElementById('div_graph_vZKR6rmf'), data: [{\"data\": [0.5282467456667269, 0.6025095131063126, 0.4667478355729879, 0.5060488009397524, 0.18372164002901586, 0.4089823633746495], \"name\": \"Hofmockel-lm-aggregates-jan2013ach\", \"fill\": \"#3366cc\"}], title: '', x_labels: [\"Acidobacteria\", \"Bacteroidetes\", \"Cyanobacteria\", \"Proteobacteria\", \"Spirochaetes\", \"Verrucomicrobia\"], x_title: '', y_title: '', show_legend: false, legend_position: 'left', title_color: 'black', x_title_color: 'black', y_title_color: 'black', x_labels_rotation: '0', x_tick_interval: 0.000000, y_tick_interval: 30.000000, x_labeled_tick_interval: 1.000000, y_labeled_tick_interval: 0.100000, default_line_color: 'black', default_line_width: 1, chartArea: [108, 0.02, 0.99, 0.95], legendArea: [0.87, 0.05, 0.2, 35]}).render(); });\n                        })();\n\t\t",
       "output_type": "display_data",
       "text": "<IPython.core.display.Javascript at 0x7f64c8087850>"
      }
     ],
     "prompt_number": 11
    },
    {
     "cell_type": "markdown",
     "metadata": {},
     "source": "Data can either be used within the notebook (shown in matR demo) or be exported into tab delimited files for further analysis if you prefer.  Here, we export the domain annotations to a file called \"phylum-demo.tab\"."
    },
    {
     "cell_type": "code",
     "collapsed": false,
     "input": "#Exporting data out into a a file\nfilename = 'phylum-demo.tab'\ndata.domain['abundance'].dump(fname=filename, fformat='tab', cols=sub_selected_datasets, normalize=1, col_name=True)\nprint 'Wrote data to file: ' + filename",
     "language": "python",
     "metadata": {},
     "outputs": [
      {
       "output_type": "stream",
       "stream": "stdout",
       "text": "Wrote data to file: phylum-demo.tab\n"
      }
     ],
     "prompt_number": 12
    },
    {
     "cell_type": "markdown",
     "metadata": {},
     "source": "Here's what the file looks like..."
    },
    {
     "cell_type": "code",
     "collapsed": false,
     "input": "! cat phylum-demo.tab",
     "language": "python",
     "metadata": {},
     "outputs": [
      {
       "output_type": "stream",
       "stream": "stdout",
       "text": "\tHofmockel-lm-aggregates-jan2013ach\r\nArchaea (Archaea)\t0.655391709319\r\nBacteria (Bacteria)\t0.930045904075\r\nEukaryota (Eukaryota)\t0.5722998832\r\nViruses (Viruses)\t0.191274198362\r\nother sequences (other sequences)\t0.175751603343\r\nunclassified sequences (unclassified sequences)\t0.38468596063\r\n"
      }
     ],
     "prompt_number": 13
    },
    {
     "cell_type": "markdown",
     "metadata": {},
     "source": "One can also compare multiple metagenomic datasets.  Let's take a look at four of the Hofmockel soil assembled metagenomes. "
    },
    {
     "cell_type": "code",
     "collapsed": false,
     "input": "sub_selected_datasets = ['mgm4512946.3', 'mgm4512947.3', 'mgm4512948.3', 'mgm4512949.3']\ndata.display_mgs = sub_selected_datasets ",
     "language": "python",
     "metadata": {},
     "outputs": [],
     "prompt_number": 14
    },
    {
     "cell_type": "code",
     "collapsed": false,
     "input": "data.barchart(level=\"level2\", parent=[\"Amino Acids and Derivatives\"], annot=\"function\", col_name=False, height=300, normalize=1)",
     "language": "python",
     "metadata": {},
     "outputs": [
      {
       "html": "<div id='div_graph_dgOWRFKu'></div>",
       "output_type": "display_data",
       "text": "<IPython.core.display.HTML at 0x7f64c8087890>"
      },
      {
       "javascript": "\n\t\t\t(function(){\n\t\t\t\tRetina.add_renderer({\"name\": \"graph\", \"resource\": 'http://raw.github.com/MG-RAST/Retina/master/renderers/', \"filename\": \"renderer.graph.js\" });\n\t\t\t\tRetina.load_renderer(\"graph\").then( function () { Retina.Renderer.create('graph', {width: 1268, height: 300, type: 'row', target: document.getElementById('div_graph_dgOWRFKu'), data: [{\"data\": [0.7591235261866709, 0.7718919515229286, 0.7636086428458881, 0.7946278195222263, 0.7542646458850649, 0.6807003562031925, 0.8296145087436444, 0.6770441983170459], \"name\": \"mgm4512946.3\", \"fill\": \"#3366cc\"}, {\"data\": [0.7607996596227175, 0.7673256471786447, 0.7659894411615441, 0.7952280151124203, 0.7531905918307327, 0.680145341345034, 0.8271842228596247, 0.6772830831726602], \"name\": \"mgm4512947.3\", \"fill\": \"#dc3912\"}, {\"data\": [0.7588075204095769, 0.7657860664501124, 0.760934487058883, 0.798973360687798, 0.7524656183597258, 0.6814972875484926, 0.8265352443770537, 0.673384130663572], \"name\": \"mgm4512948.3\", \"fill\": \"#ff9900\"}, {\"data\": [0.7588497379311081, 0.7709258593701673, 0.7642518359809556, 0.7956347990113584, 0.757276169328416, 0.6766152005597865, 0.8319252429617129, 0.6713869077132811], \"name\": \"mgm4512949.3\", \"fill\": \"#109618\"}], title: '', x_labels: [\"Alanine, serine, and glycine\", \"Arginine; urea cycle, polyamines\", \"Aromatic amino acids and derivatives\", \"Branched-chain amino acids\", \"Glutamine, glutamate, aspartate, asparagine; ammonia assimilation\", \"Histidine Metabolism\", \"Lysine, threonine, methionine, and cysteine\", \"Proline and 4-hydroxyproline\"], x_title: '', y_title: '', show_legend: true, legend_position: 'left', title_color: 'black', x_title_color: 'black', y_title_color: 'black', x_labels_rotation: '0', x_tick_interval: 0.000000, y_tick_interval: 30.000000, x_labeled_tick_interval: 1.000000, y_labeled_tick_interval: 0.100000, default_line_color: 'black', default_line_width: 1, chartArea: [468, 0.02, 0.85, 0.95], legendArea: [0.87, 0.05, 0.2, 140]}).render(); });\n                        })();\n\t\t",
       "output_type": "display_data",
       "text": "<IPython.core.display.Javascript at 0x7f64c8087890>"
      }
     ],
     "prompt_number": 16
    },
    {
     "cell_type": "code",
     "collapsed": false,
     "input": "data.heatmap( annot=\"organism\", level=\"phylum\", parent=['Bacteria'], col_name=False, normalize=1)",
     "language": "python",
     "metadata": {},
     "outputs": [
      {
       "html": "<div id='div_heatmap_SdbBgve7'></div>",
       "output_type": "display_data",
       "text": "<IPython.core.display.HTML at 0x7f6495f905d0>"
      },
      {
       "javascript": "\n            (function(){\n                Retina.add_renderer({ name: 'heatmap', resource: 'http://raw.github.com/MG-RAST/Retina/master/renderers/', filename: 'renderer.heatmap.js' });\n                Retina.load_renderer('heatmap').then( function () {\n                    window.heatmap_QHXAVuUi = Retina.Renderer.create('heatmap', {width: 808, height: 600, target: document.getElementById('div_heatmap_SdbBgve7'), data: {\"colindex\": [4, 2, 1, 3], \"rows\": [\"Acidobacteria\", \"Bacteroidetes\", \"Cyanobacteria\", \"Proteobacteria\", \"Spirochaetes\", \"Verrucomicrobia\"], \"rowindex\": [5, 3, 6, 2, 1, 4], \"rowdend\": [[-1, -4, 0.0194797831044689], [-3, -6, 0.074015148170041], [-2, 1, 0.105055546994529], [2, 3, 0.288069646728469], [-5, 4, 0.522176801615722]], \"coldend\": [[-2, -4, 0.026666618262545], [-1, 1, 0.0536577131367657], [-3, 2, 0.0929758203966873]], \"data\": [[0.528246745667, 0.531996713272, 0.563472119056, 0.487787981476], [0.602509513106, 0.629847409513, 0.621142820488, 0.622358201187], [0.466747835573, 0.404351131668, 0.318790714178, 0.430652372411], [0.50604880094, 0.513466641646, 0.54555479391, 0.510710020519], [0.183721640029, 0.311997627942, 0.106588295718, 0.304837914913], [0.408982363375, 0.349646644084, 0.421784697552, 0.408563287777]], \"columns\": [\"mgm4512946.3\", \"mgm4512947.3\", \"mgm4512948.3\", \"mgm4512949.3\"]}, selectedRows: [], tree_height: 50, tree_width: 200, legend_height: 250, legend_width: 108, row_text_size: 15, col_text_size: 15, min_cell_height: 19} );\n                    window.heatmap_QHXAVuUi.render();\n                });\n            })();\n        ",
       "output_type": "display_data",
       "text": "<IPython.core.display.Javascript at 0x7f6495f905d0>"
      }
     ],
     "prompt_number": 17
    },
    {
     "cell_type": "code",
     "collapsed": false,
     "input": "filename = 'phylum-demo-groups.tab'\ndata.domain['abundance'].dump(fname=filename, fformat='tab', cols=sub_selected_datasets, normalize=1)\nprint 'Wrote data to file: ' + filename\n#normalization doesn't work here other",
     "language": "python",
     "metadata": {},
     "outputs": [
      {
       "output_type": "stream",
       "stream": "stdout",
       "text": "Wrote data to file: phylum-demo-groups.tab\n"
      }
     ],
     "prompt_number": 18
    },
    {
     "cell_type": "code",
     "collapsed": false,
     "input": "! cat phylum-demo-groups.tab",
     "language": "python",
     "metadata": {},
     "outputs": [
      {
       "output_type": "stream",
       "stream": "stdout",
       "text": "\tHofmockel-lm-aggregates-jan2013ach\tHofmockel-micro-aggregates-jan2013ach\tHofmockel-small-aggregates-jan2013ach\tHofmockel-ws-aggregates-jan2013ach\r\nArchaea (Archaea)\t0.655391709319\t0.648887166976\t0.680524251872\t0.681550533757\r\nBacteria (Bacteria)\t0.930045904075\t0.930813151553\t0.907299212107\t0.912903919843\r\nEukaryota (Eukaryota)\t0.5722998832\t0.568094272743\t0.56669858985\t0.565264741789\r\nViruses (Viruses)\t0.191274198362\t0.202355987044\t0.188273251796\t0.207824019207\r\nother sequences (other sequences)\t0.175751603343\t0.157268107819\t0.152826042114\t0.14836073582\r\nunclassified sequences (unclassified sequences)\t0.38468596063\t0.402030572794\t0.41382791119\t0.393545308514\r\n"
      }
     ],
     "prompt_number": 19
    },
    {
     "cell_type": "markdown",
     "metadata": {},
     "source": "KBase Notebook functions can be used to explore both taxonomy and functions."
    },
    {
     "cell_type": "code",
     "collapsed": false,
     "input": "data.heatmap(annot='function', level='level1', col_name=False, normalize=1)",
     "language": "python",
     "metadata": {},
     "outputs": [
      {
       "html": "<div id='div_heatmap_gp6UtmK4'></div>",
       "output_type": "display_data",
       "text": "<IPython.core.display.HTML at 0x7f6495f90610>"
      },
      {
       "javascript": "\n            (function(){\n                Retina.add_renderer({ name: 'heatmap', resource: 'http://raw.github.com/MG-RAST/Retina/master/renderers/', filename: 'renderer.heatmap.js' });\n                Retina.load_renderer('heatmap').then( function () {\n                    window.heatmap_NcRlgV6e = Retina.Renderer.create('heatmap', {width: 1060, height: 600, target: document.getElementById('div_heatmap_gp6UtmK4'), data: {\"colindex\": [2, 1, 4, 3], \"rows\": [\"Amino Acids and Derivatives\", \"Carbohydrates\", \"Cell Division and Cell Cycle\", \"Cell Wall and Capsule\", \"Clustering-based subsystems\", \"Cofactors, Vitamins, Prosthetic Groups, Pigments\", \"DNA Metabolism\", \"Dormancy and Sporulation\", \"Fatty Acids, Lipids, and Isoprenoids\", \"Iron acquisition and metabolism\", \"Membrane Transport\", \"Metabolism of Aromatic Compounds\", \"Miscellaneous\", \"Motility and Chemotaxis\", \"Nitrogen Metabolism\", \"Nucleosides and Nucleotides\", \"Phages, Prophages, Transposable elements, Plasmids\", \"Phosphorus Metabolism\", \"Photosynthesis\", \"Potassium metabolism\", \"Protein Metabolism\", \"RNA Metabolism\", \"Regulation and Cell signaling\", \"Respiration\", \"Secondary Metabolism\", \"Stress Response\", \"Sulfur Metabolism\", \"Virulence, Disease and Defense\"], \"rowindex\": [12, 16, 6, 26, 17, 23, 28, 21, 5, 13, 2, 22, 24, 1, 11, 15, 4, 7, 9, 27, 14, 18, 25, 3, 20, 8, 10, 19], \"rowdend\": [[-1, -11, 0.000994492887776016], [-2, -22, 0.00158500090662112], [-23, -28, 0.00201121002333012], [-6, -26, 0.00237562210465378], [-5, -13, 0.00239227008065668], [-16, 4, 0.00412595580391847], [-24, 1, 0.0048366614809829], [-21, 5, 0.0057503917883202], [-18, -25, 0.00634965240597161], [-17, 3, 0.00646913327580895], [-4, -7, 0.00904640739883378], [-15, 11, 0.020504844048218], [-9, -27, 0.0216159560165309], [6, 10, 0.0258273780607703], [-14, 9, 0.0259750477881704], [-3, -20, 0.0261056105835555], [-12, 14, 0.0413569499543396], [2, 7, 0.0563789447009813], [12, 13, 0.0669346073832461], [-10, -19, 0.0868804871216319], [15, 16, 0.0942957906074514], [8, 18, 0.126118773362479], [17, 22, 0.32194911097952], [19, 21, 0.332623871426225], [-8, 20, 0.490597756107235], [24, 25, 0.912510389386731], [23, 26, 1.68677140336413]], \"coldend\": [[-1, -2, 0.00177093536830327], [-4, 1, 0.00253004594183929], [-3, 2, 0.0075229383874903]], \"data\": [[0.860343499163, 0.863562537808, 0.866306467753, 0.862909006283], [0.90858263336, 0.908098158494, 0.907387496207, 0.907527416012], [0.518399299595, 0.523145821728, 0.542034769171, 0.520144919556], [0.708941685503, 0.704048230725, 0.686162949064, 0.702158470113], [0.96432996461, 0.963364021385, 0.96223868207, 0.963713206855], [0.819980125964, 0.818816578748, 0.822243069244, 0.82406626824], [0.70620228127, 0.710645554183, 0.720907783342, 0.709173189571], [0.176714743188, 0.17961428939, 0.187371735659, 0.178323038807], [0.678257646264, 0.67930914583, 0.673443749417, 0.673863751724], [0.385998333737, 0.378678178551, 0.349690937779, 0.394711455314], [0.859848075348, 0.862952547557, 0.86068890702, 0.863047693023], [0.767835964333, 0.771907694266, 0.76399930333, 0.766280059018], [0.960523820857, 0.960560334724, 0.953017680439, 0.961150118669], [0.618545161524, 0.621161449074, 0.612885446494, 0.608099203105], [0.734662305875, 0.72990128086, 0.733362549365, 0.727525654806], [0.815801229438, 0.817613270802, 0.827059940195, 0.815825030221], [0.797803952352, 0.794926271554, 0.792871502679, 0.799568994758], [0.592796423382, 0.59101148318, 0.595491817033, 0.589075975928], [0.4458338197, 0.44275266555, 0.458343394909, 0.449317371874], [0.560963281015, 0.559481722323, 0.542930455944, 0.553131642694], [0.949871942587, 0.949167273564, 0.955802752708, 0.954796207566], [0.907629505799, 0.906798861254, 0.912405142294, 0.911780634324], [0.806763515094, 0.805866561819, 0.806762907725, 0.806287609326], [0.868033530721, 0.86916852006, 0.870324646771, 0.869149059033], [0.579232574161, 0.585293221686, 0.601257197622, 0.584163759718], [0.82266026445, 0.820756130088, 0.81332004922, 0.822015731417], [0.6451521003, 0.645850162233, 0.652336889149, 0.647072474034], [0.807029295488, 0.80428500764, 0.798088752474, 0.803859033087]], \"columns\": [\"mgm4512946.3\", \"mgm4512947.3\", \"mgm4512948.3\", \"mgm4512949.3\"]}, selectedRows: [], tree_height: 50, tree_width: 200, legend_height: 250, legend_width: 360, row_text_size: 15, col_text_size: 15, min_cell_height: 19} );\n                    window.heatmap_NcRlgV6e.render();\n                });\n            })();\n        ",
       "output_type": "display_data",
       "text": "<IPython.core.display.Javascript at 0x7f6495f90610>"
      }
     ],
     "prompt_number": 20
    },
    {
     "cell_type": "markdown",
     "metadata": {},
     "source": "<p>Specific functions can be targetted for exploration.  Here, we take a look at the domains which are associated with the nosZ gene (SS0496) in the four assembled metagenomes.</p>\n<p>This data retrieval is being done with locally cached data, to retrive the data through the KBase API and save the results locally use:\n<br><blockquote>\nnew_data = Analysis(ids=sub_selected_datasets, annotation='organism', level='phylum', e_val=5, ident=60, alen=15, filter_source='Subsystems', filters=['SS00496'])\nnew_data.dump(fname='cache/cross_analysis_phylum_SS00496.biom', fformat='biom')\n</blockquote></p>"
    },
    {
     "cell_type": "code",
     "collapsed": false,
     "input": "new_data = Analysis(bfile='cache/cross_analysis_phylum_SS00496.biom')\nnew_data.barchart(col_name=False, normalize=1)\nnew_data.heatmap(col_name=False, normalize=1)",
     "language": "python",
     "metadata": {},
     "outputs": [
      {
       "html": "<div id='div_graph_kVL5L03G'></div>",
       "output_type": "display_data",
       "text": "<IPython.core.display.HTML at 0x7f6495f90750>"
      },
      {
       "javascript": "\n\t\t\t(function(){\n\t\t\t\tRetina.add_renderer({\"name\": \"graph\", \"resource\": 'http://raw.github.com/MG-RAST/Retina/master/renderers/', \"filename\": \"renderer.graph.js\" });\n\t\t\t\tRetina.load_renderer(\"graph\").then( function () { Retina.Renderer.create('graph', {width: 1160, height: 720, type: 'row', target: document.getElementById('div_graph_kVL5L03G'), data: [{\"data\": [0.4272786762036204, 0.8432492316029688, 0.6899016609573925, 0.2307706407871596, 0.12192093730501337, 0.6299903537957193, 0.15384709385810638, 0.6337273135860068, 0.5712546253659004, 0.15384709385810638, 0.7209940253112536, 0.7433551653313896, 0.2757680311631197, 0.17861094477295508, 0.47306036114902805, 0.949844122401, 0.0, 0.12192093730501337, 0.0, 0.3615744952456118, 0.5018155242713377, 0.40657188562157204, 0.25553449170200826, 0.17861094477295508], \"name\": \"mgm4512946.3\", \"fill\": \"#3366cc\"}, {\"data\": [0.42578493958287406, 0.8573497989537378, 0.7068054776144115, 0.11118942170558654, 0.18663334881901755, 0.6358413012789048, 0.26207727593244856, 0.6045292424339711, 0.5853848485840276, 0.11118942170558654, 0.6884148078359827, 0.7413836219762517, 0.11118942170558654, 0.11118942170558654, 0.4476264557093885, 0.9567366252011922, 0.18663334881901755, 0.26207727593244856, 0.11118942170558654, 0.26207727593244856, 0.5881405041126205, 0.4476264557093885, 0.11118942170558654, 0.11118942170558654], \"name\": \"mgm4512947.3\", \"fill\": \"#dc3912\"}, {\"data\": [0.41696606395300145, 0.9158042041758886, 0.6947197253980539, 0.1407548652212704, 0.1407548652212704, 0.6325318892637574, 0.27886046458713587, 0.6247535858489548, 0.22788979699601433, 0.1407548652212704, 0.7078111071990283, 0.7723025346134668, 0.3150247287707583, 0.1407548652212704, 0.4725084765969953, 1.0, 0.1407548652212704, 0.44219220329062336, 0.1407548652212704, 0.1407548652212704, 0.4531303281366238, 0.4021596605455023, 0.1407548652212704, 0.1407548652212704], \"name\": \"mgm4512948.3\", \"fill\": \"#ff9900\"}, {\"data\": [0.4885559495777795, 0.8102171886546198, 0.7273273758065786, 0.03941991234032257, 0.03941991234032257, 0.6169932905688063, 0.29749027890740726, 0.618281563788713, 0.5796700140096247, 0.03941991234032257, 0.6893737280089218, 0.7504327448623701, 0.3081725043393863, 0.03941991234032257, 0.503776387516828, 0.9411576692607251, 0.2856816265452239, 0.2575146733119267, 0.19479375499770565, 0.38585942566807785, 0.4583324517430689, 0.3179246121001563, 0.19479375499770565, 0.03941991234032257], \"name\": \"mgm4512949.3\", \"fill\": \"#109618\"}], title: '', x_labels: [\"Acidobacteria\", \"Actinobacteria\", \"Bacteroidetes\", \"Chlamydiae\", \"Chlorobi\", \"Chloroflexi\", \"Crenarchaeota\", \"Cyanobacteria\", \"Deinococcus-Thermus\", \"Dictyoglomi\", \"Euryarchaeota\", \"Firmicutes\", \"Fusobacteria\", \"Korarchaeota\", \"Planctomycetes\", \"Proteobacteria\", \"Spirochaetes\", \"Streptophyta\", \"Tenericutes\", \"Thermotogae\", \"Verrucomicrobia\", \"unclassified (derived from Bacteria)\", \"unclassified (derived from Eukaryota)\", \"unclassified (derived from unclassified sequences)\"], x_title: '', y_title: '', show_legend: true, legend_position: 'left', title_color: 'black', x_title_color: 'black', y_title_color: 'black', x_labels_rotation: '0', x_tick_interval: 0.000000, y_tick_interval: 30.000000, x_labeled_tick_interval: 1.000000, y_labeled_tick_interval: 0.100000, default_line_color: 'black', default_line_width: 1, chartArea: [360, 0.02, 0.85, 0.95], legendArea: [0.87, 0.05, 0.2, 140]}).render(); });\n                        })();\n\t\t",
       "output_type": "display_data",
       "text": "<IPython.core.display.Javascript at 0x15d4d90>"
      },
      {
       "html": "<div id='div_heatmap_X4RKcO69'></div>",
       "output_type": "display_data",
       "text": "<IPython.core.display.HTML at 0x7f64a4dd5dd0>"
      },
      {
       "javascript": "\n            (function(){\n                Retina.add_renderer({ name: 'heatmap', resource: 'http://raw.github.com/MG-RAST/Retina/master/renderers/', filename: 'renderer.heatmap.js' });\n                Retina.load_renderer('heatmap').then( function () {\n                    window.heatmap_5VGiPm0y = Retina.Renderer.create('heatmap', {width: 1060, height: 600, target: document.getElementById('div_heatmap_X4RKcO69'), data: {\"colindex\": [3, 2, 1, 4], \"rows\": [\"Acidobacteria\", \"Actinobacteria\", \"Bacteroidetes\", \"Chlamydiae\", \"Chlorobi\", \"Chloroflexi\", \"Crenarchaeota\", \"Cyanobacteria\", \"Deinococcus-Thermus\", \"Dictyoglomi\", \"Euryarchaeota\", \"Firmicutes\", \"Fusobacteria\", \"Korarchaeota\", \"Planctomycetes\", \"Proteobacteria\", \"Spirochaetes\", \"Streptophyta\", \"Tenericutes\", \"Thermotogae\", \"Verrucomicrobia\", \"unclassified (derived from Bacteria)\", \"unclassified (derived from Eukaryota)\", \"unclassified (derived from unclassified sequences)\"], \"rowindex\": [9, 22, 21, 1, 15, 2, 16, 6, 8, 12, 3, 11, 5, 4, 10, 14, 24, 17, 19, 7, 18, 20, 13, 23], \"rowdend\": [[-14, -24, 0], [-6, -8, 0.00882903708592695], [-3, -11, 0.0178705504748772], [-10, 1, 0.0360784060447042], [-1, -15, 0.037856348542111], [-12, 3, 0.0386712650670189], [-2, -16, 0.0578907368639611], [-21, 5, 0.0811863614692141], [-4, 4, 0.0833150025089799], [-22, 8, 0.110649793633125], [-7, -18, 0.113312015450828], [2, 6, 0.140791331453836], [-17, -19, 0.156945236400835], [-13, -23, 0.179792839559534], [-9, 10, 0.200149936033202], [-5, 9, 0.205292799827114], [-20, 14, 0.252075806854383], [7, 12, 0.309459417004177], [11, 17, 0.377972966197813], [13, 19, 0.582622617876265], [15, 18, 0.866703945359404], [16, 20, 1.32417357203563], [21, 22, 4.11000026862924]], \"coldend\": [[-2, -3, 0.0805600441414605], [-1, 1, 0.0936912510488221], [-4, 2, 0.0996362986428486]], \"data\": [[0.427278676204, 0.425784939583, 0.416966063953, 0.488555949578], [0.843249231603, 0.857349798954, 0.915804204176, 0.810217188655], [0.689901660957, 0.706805477614, 0.694719725398, 0.727327375807], [0.230770640787, 0.111189421706, 0.140754865221, 0.0394199123403], [0.121920937305, 0.186633348819, 0.140754865221, 0.0394199123403], [0.629990353796, 0.635841301279, 0.632531889264, 0.616993290569], [0.153847093858, 0.262077275932, 0.278860464587, 0.297490278907], [0.633727313586, 0.604529242434, 0.624753585849, 0.618281563789], [0.571254625366, 0.585384848584, 0.227889796996, 0.57967001401], [0.153847093858, 0.111189421706, 0.140754865221, 0.0394199123403], [0.720994025311, 0.688414807836, 0.707811107199, 0.689373728009], [0.743355165331, 0.741383621976, 0.772302534613, 0.750432744862], [0.275768031163, 0.111189421706, 0.315024728771, 0.308172504339], [0.178610944773, 0.111189421706, 0.140754865221, 0.0394199123403], [0.473060361149, 0.447626455709, 0.472508476597, 0.503776387517], [0.949844122401, 0.956736625201, 1.0, 0.941157669261], [0.0, 0.186633348819, 0.140754865221, 0.285681626545], [0.121920937305, 0.262077275932, 0.442192203291, 0.257514673312], [0.0, 0.111189421706, 0.140754865221, 0.194793754998], [0.361574495246, 0.262077275932, 0.140754865221, 0.385859425668], [0.501815524271, 0.588140504113, 0.453130328137, 0.458332451743], [0.406571885622, 0.447626455709, 0.402159660546, 0.3179246121], [0.255534491702, 0.111189421706, 0.140754865221, 0.194793754998], [0.178610944773, 0.111189421706, 0.140754865221, 0.0394199123403]], \"columns\": [\"mgm4512946.3\", \"mgm4512947.3\", \"mgm4512948.3\", \"mgm4512949.3\"]}, selectedRows: [], tree_height: 50, tree_width: 200, legend_height: 250, legend_width: 360, row_text_size: 15, col_text_size: 15, min_cell_height: 19} );\n                    window.heatmap_5VGiPm0y.render();\n                });\n            })();\n        ",
       "output_type": "display_data",
       "text": "<IPython.core.display.Javascript at 0x7f64a4dd5dd0>"
      }
     ],
     "prompt_number": 21
    },
    {
     "cell_type": "markdown",
     "metadata": {},
     "source": "Sequences can be recovered from specific annotations.  Here, we retrieve the sequences which match the organism M. gryphiswaldense and nosZ gene."
    },
    {
     "cell_type": "code",
     "collapsed": false,
     "input": "organism_text = 'Magnetospirillum gryphiswaldense'\nfunction_text = 'Nitrous-oxide reductase (EC 1.7.99.6)'\n\nimport urllib\nmgid = 'mgm4512947.3'\n\nparams = [('data_type', 'organism'), ('annotation', organism_text), ('auth', 'VfefQv3xjSusda76X4j8BmGMi')]\nseq_info = obj_from_url(Ipy.API_URL+'sequences/'+mgid+'?'+urllib.urlencode(params, True))\norganism_tuples = []\nfor organism in seq_info['data']:\n    for otup in seq_info['data'][organism]:\n        organism_tuples.append(otup)\n\nparams = [('data_type', 'function'), ('annotation', function_text), ('auth', 'VfefQv3xjSusda76X4j8BmGMi')]\nseq_info = obj_from_url(Ipy.API_URL+'sequences/'+mgid+'?'+urllib.urlencode(params, True))\nfunction_tuples = []\nfor function in seq_info['data']:\n    for ftup in seq_info['data'][function]:\n        function_tuples.append(ftup)\n\nfor otup in organism_tuples:\n    for ftup in function_tuples:\n        if(otup[0] == ftup[0]):\n            print \">\" + otup[0], otup[1]\n            \n# this takes a long time.\n# this does not work offline!",
     "language": "python",
     "metadata": {},
     "outputs": [
      {
       "output_type": "stream",
       "stream": "stdout",
       "text": ">mgm4512947.3|micro-assembly_755886_len236_[cov=2.000000] GCGGCGACTACGACGGCAAGTACCTCTTCATCGGCGACAAGGCCAACGCCCGCGTCGCCGTGATCGATCTCCACGACTTCACGACCAAGCAGATCGTCACCACCGAGCTCATCGGCTCCGATCACGGCGCCGCCTTCGTCACGCCCAACACCGAGTACGTCATCGAGACCTCGCAGTACCCGACGCCGCTGGGCGGCGAGTACGCCGATCCCAAGCAGTTCAACGACAAGTACCGC\n"
      }
     ],
     "prompt_number": 22
    },
    {
     "cell_type": "code",
     "collapsed": false,
     "input": "",
     "language": "python",
     "metadata": {},
     "outputs": [],
     "prompt_number": 76
    }
   ],
   "metadata": {}
  }
 ]
}