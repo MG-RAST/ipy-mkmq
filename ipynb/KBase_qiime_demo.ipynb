{
 "metadata": {
  "created": "2013-03-25T21:24:31.436741",
  "description": "Example of using a KBNB to run a QIIME workflow",
  "name": "KBNB: QIIME demo",
  "permission": "view",
  "type": "ipynb",
  "user": "public",
  "uuid": "cab33bc1-7dba-4b7a-9077-9c61c55a7a98"
 },
 "nbformat": 3,
 "nbformat_minor": 0,
 "worksheets": [
  {
   "cells": [
    {
     "cell_type": "markdown",
     "metadata": {},
     "source": "## Notebook preparation\n\nThis notebook illustrates the commands in the [Illumina Overview Tutorial](http://qiime.org/svn_documentation/tutorials/illumina_overview_tutorial.html), as well as some features that are convenient for working with the [IPython Notebook](http://ipython.org/ipython-doc/dev/interactive/htmlnotebook.html) and [QIIME](http://www.qiime.org). \n\nThis tutorial makes use of the ``12_10`` release of the [Greengenes](http://www.ncbi.nlm.nih.gov/pubmed/22134646) reference OTUs. You can always find a link to the latest version of the reference OTUs on the [QIIME resources page](http://qiime.org/home_static/dataFiles.html)."
    },
    {
     "cell_type": "markdown",
     "metadata": {},
     "source": "## Getting started\n\nWe'll begin by downloading data and initializing some variables to configure our IPython computing environment."
    },
    {
     "cell_type": "code",
     "collapsed": false,
     "input": "# need to reset this if running notebook multiple times\nbase_dir = 'qiime_test'\n!rm -rf $base_dir\n!mkdir $base_dir",
     "language": "python",
     "metadata": {},
     "outputs": []
    },
    {
     "cell_type": "code",
     "collapsed": false,
     "input": "!wget https://s3.amazonaws.com/qiime-tutorial/moving_pictures_tutorial.tgz\n!wget ftp://greengenes.microbio.me/greengenes_release/gg_12_10/gg_12_10_otus.tar.gz\n!tar -xzf moving_pictures_tutorial.tgz -C $base_dir\n!tar -xzf gg_12_10_otus.tar.gz -C $base_dir\n!rm moving_pictures_tutorial.tgz gg_12_10_otus.tar.gz\n!wget -O $base_dir/core_set_aligned.fasta.imputed http://greengenes.lbl.gov/Download/Sequence_Data/Fasta_data_files/core_set_aligned.fasta.imputed\n!wget -O $base_dir/lanemask_in_1s_and_0s http://greengenes.lbl.gov/Download/Sequence_Data/lanemask_in_1s_and_0s",
     "language": "python",
     "metadata": {},
     "outputs": [
      {
       "output_type": "stream",
       "stream": "stdout",
       "text": "--2013-03-25 18:06:25--  https://s3.amazonaws.com/qiime-tutorial/moving_pictures_tutorial.tgz\r\nResolving s3.amazonaws.com... 176.32.98.231\r\nConnecting to s3.amazonaws.com|176.32.98.231|:443... "
      },
      {
       "output_type": "stream",
       "stream": "stdout",
       "text": "connected.\r\n"
      },
      {
       "output_type": "stream",
       "stream": "stdout",
       "text": "HTTP request sent, awaiting response... "
      },
      {
       "output_type": "stream",
       "stream": "stdout",
       "text": "200 OK\r\nLength: 29124406 (28M) [application/x-compressed]\r\nSaving to: `moving_pictures_tutorial.tgz'\r\n\r\n\r 0% [                                       ] 0           --.-K/s              "
      },
      {
       "output_type": "stream",
       "stream": "stdout",
       "text": "\r 0% [                                       ] 215,612     1.01M/s              "
      },
      {
       "output_type": "stream",
       "stream": "stdout",
       "text": "\r 2% [>                                      ] 827,612     1.91M/s              "
      },
      {
       "output_type": "stream",
       "stream": "stdout",
       "text": "\r 6% [=>                                     ] 1,871,612   2.89M/s              "
      },
      {
       "output_type": "stream",
       "stream": "stdout",
       "text": "\r10% [===>                                   ] 3,194,612   3.72M/s              "
      },
      {
       "output_type": "stream",
       "stream": "stdout",
       "text": "\r14% [====>                                  ] 4,229,612   3.96M/s              "
      },
      {
       "output_type": "stream",
       "stream": "stdout",
       "text": "\r18% [======>                                ] 5,291,612   4.13M/s              "
      },
      {
       "output_type": "stream",
       "stream": "stdout",
       "text": "\r21% [=======>                               ] 6,389,612   4.29M/s              "
      },
      {
       "output_type": "stream",
       "stream": "stdout",
       "text": "\r25% [=========>                             ] 7,487,612   4.40M/s              "
      },
      {
       "output_type": "stream",
       "stream": "stdout",
       "text": "\r29% [==========>                            ] 8,576,612   4.49M/s              "
      },
      {
       "output_type": "stream",
       "stream": "stdout",
       "text": "\r32% [===========>                           ] 9,512,612   4.49M/s              "
      },
      {
       "output_type": "stream",
       "stream": "stdout",
       "text": "\r36% [=============>                         ] 10,547,612  4.52M/s              "
      },
      {
       "output_type": "stream",
       "stream": "stdout",
       "text": "\r39% [==============>                        ] 11,618,612  4.57M/s              "
      },
      {
       "output_type": "stream",
       "stream": "stdout",
       "text": "\r43% [===============>                       ] 12,671,612  4.60M/s              "
      },
      {
       "output_type": "stream",
       "stream": "stdout",
       "text": "\r47% [=================>                     ] 13,787,612  4.65M/s              "
      },
      {
       "output_type": "stream",
       "stream": "stdout",
       "text": "\r51% [==================>                    ] 14,903,612  4.69M/s  eta 3s      "
      },
      {
       "output_type": "stream",
       "stream": "stdout",
       "text": "\r54% [====================>                  ] 15,983,612  4.92M/s  eta 3s      "
      },
      {
       "output_type": "stream",
       "stream": "stdout",
       "text": "\r58% [=====================>                 ] 17,099,612  5.09M/s  eta 3s      "
      },
      {
       "output_type": "stream",
       "stream": "stdout",
       "text": "\r62% [=======================>               ] 18,116,612  5.15M/s  eta 3s      "
      },
      {
       "output_type": "stream",
       "stream": "stdout",
       "text": "\r65% [========================>              ] 19,043,612  4.94M/s  eta 3s      "
      },
      {
       "output_type": "stream",
       "stream": "stdout",
       "text": "\r68% [=========================>             ] 20,087,612  4.94M/s  eta 2s      "
      },
      {
       "output_type": "stream",
       "stream": "stdout",
       "text": "\r72% [===========================>           ] 21,149,612  4.94M/s  eta 2s      "
      },
      {
       "output_type": "stream",
       "stream": "stdout",
       "text": "\r76% [============================>          ] 22,175,612  4.92M/s  eta 2s      "
      },
      {
       "output_type": "stream",
       "stream": "stdout",
       "text": "\r79% [==============================>        ] 23,264,612  4.93M/s  eta 2s      "
      },
      {
       "output_type": "stream",
       "stream": "stdout",
       "text": "\r83% [===============================>       ] 24,263,612  4.89M/s  eta 2s      "
      },
      {
       "output_type": "stream",
       "stream": "stdout",
       "text": "\r86% [================================>      ] 25,118,612  4.87M/s  eta 1s      "
      },
      {
       "output_type": "stream",
       "stream": "stdout",
       "text": "\r89% [==================================>    ] 26,198,612  4.88M/s  eta 1s      "
      },
      {
       "output_type": "stream",
       "stream": "stdout",
       "text": "\r93% [===================================>   ] 27,296,612  4.89M/s  eta 1s      "
      },
      {
       "output_type": "stream",
       "stream": "stdout",
       "text": "\r97% [=====================================> ] 28,394,612  4.91M/s  eta 1s      "
      },
      {
       "output_type": "stream",
       "stream": "stdout",
       "text": "\r100%[======================================>] 29,124,406  4.90M/s   in 5.8s    \r\n\r\n2013-03-25 18:06:31 (4.77 MB/s) - `moving_pictures_tutorial.tgz' saved [29124406/29124406]\r\n\r\n"
      },
      {
       "output_type": "stream",
       "stream": "stdout",
       "text": "--2013-03-25 18:06:31--  ftp://greengenes.microbio.me/greengenes_release/gg_12_10/gg_12_10_otus.tar.gz\r\n           => `gg_12_10_otus.tar.gz'\r\nResolving greengenes.microbio.me... 128.138.93.17\r\nConnecting to greengenes.microbio.me|128.138.93.17|:21... connected.\r\nLogging in as anonymous ... "
      },
      {
       "output_type": "stream",
       "stream": "stdout",
       "text": "Logged in!\r\n==> SYST ... "
      },
      {
       "output_type": "stream",
       "stream": "stdout",
       "text": "done.    ==> PWD ... done.\r\n==> TYPE I ... "
      },
      {
       "output_type": "stream",
       "stream": "stdout",
       "text": "done.  ==> CWD (1) /greengenes_release/gg_12_10 ... done.\r\n==> SIZE gg_12_10_otus.tar.gz ... "
      },
      {
       "output_type": "stream",
       "stream": "stdout",
       "text": "135667617\r\n==> PASV ... "
      },
      {
       "output_type": "stream",
       "stream": "stdout",
       "text": "done.    ==> RETR gg_12_10_otus.tar.gz ... done.\r\nLength: 135667617 (129M) (unauthoritative)\r\n\r\n\r 0% [                                       ] 0           --.-K/s              "
      },
      {
       "output_type": "stream",
       "stream": "stdout",
       "text": "\r 0% [                                       ] 118,736      555K/s              "
      },
      {
       "output_type": "stream",
       "stream": "stdout",
       "text": "\r 0% [                                       ] 524,632     1.20M/s              "
      },
      {
       "output_type": "stream",
       "stream": "stdout",
       "text": "\r 0% [                                       ] 906,904     1.38M/s              "
      },
      {
       "output_type": "stream",
       "stream": "stdout",
       "text": "\r 1% [                                       ] 1,361,120   1.55M/s              "
      },
      {
       "output_type": "stream",
       "stream": "stdout",
       "text": "\r 1% [                                       ] 1,879,504   1.71M/s              "
      },
      {
       "output_type": "stream",
       "stream": "stdout",
       "text": "\r 1% [                                       ] 2,447,120   1.86M/s              "
      },
      {
       "output_type": "stream",
       "stream": "stdout",
       "text": "\r 2% [                                       ] 2,976,096   1.94M/s              "
      },
      {
       "output_type": "stream",
       "stream": "stdout",
       "text": "\r 2% [>                                      ] 3,497,376   1.99M/s              "
      },
      {
       "output_type": "stream",
       "stream": "stdout",
       "text": "\r 2% [>                                      ] 4,010,960   2.03M/s              "
      },
      {
       "output_type": "stream",
       "stream": "stdout",
       "text": "\r 3% [>                                      ] 4,629,256   2.11M/s              "
      },
      {
       "output_type": "stream",
       "stream": "stdout",
       "text": "\r 3% [>                                      ] 5,423,216   2.24M/s              "
      },
      {
       "output_type": "stream",
       "stream": "stdout",
       "text": "\r 4% [>                                      ] 6,197,440   2.35M/s              "
      },
      {
       "output_type": "stream",
       "stream": "stdout",
       "text": "\r 5% [=>                                     ] 6,975,016   2.44M/s              "
      },
      {
       "output_type": "stream",
       "stream": "stdout",
       "text": "\r 5% [=>                                     ] 7,758,384   2.52M/s              "
      },
      {
       "output_type": "stream",
       "stream": "stdout",
       "text": "\r 6% [=>                                     ] 8,555,240   2.59M/s  eta 47s     "
      },
      {
       "output_type": "stream",
       "stream": "stdout",
       "text": "\r 6% [=>                                     ] 9,319,328   2.75M/s  eta 47s     "
      },
      {
       "output_type": "stream",
       "stream": "stdout",
       "text": "\r 6% [=>                                     ] 9,429,832   2.59M/s  eta 47s     "
      },
      {
       "output_type": "stream",
       "stream": "stdout",
       "text": "\r 7% [==>                                    ] 10,511,488  2.73M/s  eta 47s     "
      },
      {
       "output_type": "stream",
       "stream": "stdout",
       "text": "\r 8% [==>                                    ] 11,278,472  2.84M/s  eta 47s     "
      },
      {
       "output_type": "stream",
       "stream": "stdout",
       "text": "\r 8% [==>                                    ] 12,075,328  2.95M/s  eta 44s     "
      },
      {
       "output_type": "stream",
       "stream": "stdout",
       "text": "\r 9% [==>                                    ] 12,856,792  3.01M/s  eta 44s     "
      },
      {
       "output_type": "stream",
       "stream": "stdout",
       "text": "\r10% [==>                                    ] 13,624,232  3.06M/s  eta 44s     "
      },
      {
       "output_type": "stream",
       "stream": "stdout",
       "text": "\r10% [===>                                   ] 14,421,088  3.15M/s  eta 44s     "
      },
      {
       "output_type": "stream",
       "stream": "stdout",
       "text": "\r11% [===>                                   ] 15,190,968  3.21M/s  eta 44s     "
      },
      {
       "output_type": "stream",
       "stream": "stdout",
       "text": "\r11% [===>                                   ] 15,969,992  3.27M/s  eta 40s     "
      },
      {
       "output_type": "stream",
       "stream": "stdout",
       "text": "\r12% [===>                                   ] 16,766,848  3.31M/s  eta 40s     "
      },
      {
       "output_type": "stream",
       "stream": "stdout",
       "text": "\r12% [====>                                  ] 17,548,768  3.31M/s  eta 40s     "
      },
      {
       "output_type": "stream",
       "stream": "stdout",
       "text": "\r13% [====>                                  ] 18,330,688  3.32M/s  eta 40s     "
      },
      {
       "output_type": "stream",
       "stream": "stdout",
       "text": "\r14% [====>                                  ] 19,102,016  3.31M/s  eta 40s     "
      },
      {
       "output_type": "stream",
       "stream": "stdout",
       "text": "\r14% [====>                                  ] 19,894,528  3.31M/s  eta 37s     "
      },
      {
       "output_type": "stream",
       "stream": "stdout",
       "text": "\r15% [====>                                  ] 20,674,544  3.32M/s  eta 37s     "
      },
      {
       "output_type": "stream",
       "stream": "stdout",
       "text": "\r15% [=====>                                 ] 21,458,368  3.64M/s  eta 37s     "
      },
      {
       "output_type": "stream",
       "stream": "stdout",
       "text": "\r16% [=====>                                 ] 22,231,144  3.54M/s  eta 37s     "
      },
      {
       "output_type": "stream",
       "stream": "stdout",
       "text": "\r16% [=====>                                 ] 23,015,960  3.55M/s  eta 37s     "
      },
      {
       "output_type": "stream",
       "stream": "stdout",
       "text": "\r17% [=====>                                 ] 23,804,128  3.55M/s  eta 35s     "
      },
      {
       "output_type": "stream",
       "stream": "stdout",
       "text": "\r18% [======>                                ] 24,639,168  3.57M/s  eta 35s     "
      },
      {
       "output_type": "stream",
       "stream": "stdout",
       "text": "\r18% [======>                                ] 25,433,128  3.57M/s  eta 35s     "
      },
      {
       "output_type": "stream",
       "stream": "stdout",
       "text": "\r19% [======>                                ] 26,379,664  3.62M/s  eta 35s     "
      },
      {
       "output_type": "stream",
       "stream": "stdout",
       "text": "\r20% [======>                                ] 27,428,016  3.70M/s  eta 35s     "
      },
      {
       "output_type": "stream",
       "stream": "stdout",
       "text": "\r20% [=======>                               ] 28,480,712  3.78M/s  eta 32s     "
      },
      {
       "output_type": "stream",
       "stream": "stdout",
       "text": "\r21% [=======>                               ] 29,473,048  3.85M/s  eta 32s     "
      },
      {
       "output_type": "stream",
       "stream": "stdout",
       "text": "\r22% [=======>                               ] 30,468,816  3.93M/s  eta 32s     "
      },
      {
       "output_type": "stream",
       "stream": "stdout",
       "text": "\r23% [========>                              ] 31,546,128  4.01M/s  eta 32s     "
      },
      {
       "output_type": "stream",
       "stream": "stdout",
       "text": "\r24% [========>                              ] 32,690,504  4.11M/s  eta 32s     "
      },
      {
       "output_type": "stream",
       "stream": "stdout",
       "text": "\r24% [========>                              ] 33,773,608  4.21M/s  eta 29s     "
      },
      {
       "output_type": "stream",
       "stream": "stdout",
       "text": "\r25% [=========>                             ] 34,816,168  4.28M/s  eta 29s     "
      },
      {
       "output_type": "stream",
       "stream": "stdout",
       "text": "\r26% [=========>                             ] 35,911,848  4.36M/s  eta 29s     "
      },
      {
       "output_type": "stream",
       "stream": "stdout",
       "text": "\r27% [=========>                             ] 37,487,728  4.63M/s  eta 29s     "
      },
      {
       "output_type": "stream",
       "stream": "stdout",
       "text": "\r28% [==========>                            ] 39,101,792  4.85M/s  eta 29s     "
      },
      {
       "output_type": "stream",
       "stream": "stdout",
       "text": "\r29% [==========>                            ] 40,665,632  5.13M/s  eta 25s     "
      },
      {
       "output_type": "stream",
       "stream": "stdout",
       "text": "\r31% [===========>                           ] 42,229,472  5.32M/s  eta 25s     "
      },
      {
       "output_type": "stream",
       "stream": "stdout",
       "text": "\r32% [===========>                           ] 43,793,312  5.52M/s  eta 25s     "
      },
      {
       "output_type": "stream",
       "stream": "stdout",
       "text": "\r33% [============>                          ] 45,878,432  5.93M/s  eta 25s     "
      },
      {
       "output_type": "stream",
       "stream": "stdout",
       "text": "\r35% [============>                          ] 47,978,032  6.23M/s  eta 25s     "
      },
      {
       "output_type": "stream",
       "stream": "stdout",
       "text": "\r36% [=============>                         ] 50,063,608  6.50M/s  eta 20s     "
      },
      {
       "output_type": "stream",
       "stream": "stdout",
       "text": "\r38% [==============>                        ] 52,275,696  6.92M/s  eta 20s     "
      },
      {
       "output_type": "stream",
       "stream": "stdout",
       "text": "\r40% [==============>                        ] 54,870,512  7.34M/s  eta 20s     "
      },
      {
       "output_type": "stream",
       "stream": "stdout",
       "text": "\r42% [===============>                       ] 57,476,912  7.76M/s  eta 20s     "
      },
      {
       "output_type": "stream",
       "stream": "stdout",
       "text": "\r44% [================>                      ] 60,155,712  8.31M/s  eta 20s     "
      },
      {
       "output_type": "stream",
       "stream": "stdout",
       "text": "\r46% [=================>                     ] 63,276,152  8.87M/s  eta 15s     "
      },
      {
       "output_type": "stream",
       "stream": "stdout",
       "text": "\r48% [==================>                    ] 66,405,280  9.42M/s  eta 15s     "
      },
      {
       "output_type": "stream",
       "stream": "stdout",
       "text": "\r51% [===================>                   ] 69,800,840  10.2M/s  eta 15s     "
      },
      {
       "output_type": "stream",
       "stream": "stdout",
       "text": "\r54% [====================>                  ] 73,456,048  10.8M/s  eta 15s     "
      },
      {
       "output_type": "stream",
       "stream": "stdout",
       "text": "\r56% [=====================>                 ] 76,702,008  11.3M/s  eta 15s     "
      },
      {
       "output_type": "stream",
       "stream": "stdout",
       "text": "\r59% [======================>                ] 80,876,592  12.2M/s  eta 9s      "
      },
      {
       "output_type": "stream",
       "stream": "stdout",
       "text": "\r62% [=======================>               ] 85,039,592  12.9M/s  eta 9s      "
      },
      {
       "output_type": "stream",
       "stream": "stdout",
       "text": "\r66% [========================>              ] 89,665,952  13.7M/s  eta 9s      "
      },
      {
       "output_type": "stream",
       "stream": "stdout",
       "text": "\r69% [==========================>            ] 94,357,472  14.7M/s  eta 9s      "
      },
      {
       "output_type": "stream",
       "stream": "stdout",
       "text": "\r73% [===========================>           ] 99,570,272  15.6M/s  eta 9s      "
      },
      {
       "output_type": "stream",
       "stream": "stdout",
       "text": "\r77% [=============================>         ] 104,726,600 16.4M/s  eta 4s      "
      },
      {
       "output_type": "stream",
       "stream": "stdout",
       "text": "\r77% [=============================>         ] 105,578,024 16.2M/s  eta 4s      "
      },
      {
       "output_type": "stream",
       "stream": "stdout",
       "text": "\r78% [=============================>         ] 107,128,832 15.8M/s  eta 4s      "
      },
      {
       "output_type": "stream",
       "stream": "stdout",
       "text": "\r81% [==============================>        ] 110,061,032 15.8M/s  eta 4s      "
      },
      {
       "output_type": "stream",
       "stream": "stdout",
       "text": "\r83% [===============================>       ] 113,840,312 16.3M/s  eta 4s      "
      },
      {
       "output_type": "stream",
       "stream": "stdout",
       "text": "\r86% [================================>      ] 118,025,032 16.6M/s  eta 2s      "
      },
      {
       "output_type": "stream",
       "stream": "stdout",
       "text": "\r90% [==================================>    ] 122,180,792 16.9M/s  eta 2s      "
      },
      {
       "output_type": "stream",
       "stream": "stdout",
       "text": "\r93% [===================================>   ] 126,365,512 17.2M/s  eta 2s      "
      },
      {
       "output_type": "stream",
       "stream": "stdout",
       "text": "\r96% [====================================>  ] 130,586,432 17.3M/s  eta 2s      "
      },
      {
       "output_type": "stream",
       "stream": "stdout",
       "text": "\r99% [=====================================> ] 135,277,952 17.7M/s  eta 2s      \r100%[======================================>] 135,667,617 17.7M/s   in 17s     \r\n\r\n"
      },
      {
       "output_type": "stream",
       "stream": "stdout",
       "text": "2013-03-25 18:06:48 (7.75 MB/s) - `gg_12_10_otus.tar.gz' saved [135667617]\r\n\r\n"
      },
      {
       "output_type": "stream",
       "stream": "stdout",
       "text": "--2013-03-25 18:06:56--  http://greengenes.lbl.gov/Download/Sequence_Data/Fasta_data_files/core_set_aligned.fasta.imputed\r\nResolving greengenes.lbl.gov... "
      },
      {
       "output_type": "stream",
       "stream": "stdout",
       "text": "128.32.248.7\r\nConnecting to greengenes.lbl.gov|128.32.248.7|:80... "
      },
      {
       "output_type": "stream",
       "stream": "stdout",
       "text": "connected.\r\nHTTP request sent, awaiting response... "
      },
      {
       "output_type": "stream",
       "stream": "stdout",
       "text": "200 OK\r\nLength: 37975992 (36M) [text/plain]\r\nSaving to: `qiime_test/core_set_aligned.fasta.imputed'\r\n\r\n\r 0% [                                       ] 0           --.-K/s              "
      },
      {
       "output_type": "stream",
       "stream": "stdout",
       "text": "\r 0% [                                       ] 22,977       110K/s              "
      },
      {
       "output_type": "stream",
       "stream": "stdout",
       "text": "\r 0% [                                       ] 66,721       159K/s              "
      },
      {
       "output_type": "stream",
       "stream": "stdout",
       "text": "\r 0% [                                       ] 113,265      180K/s              "
      },
      {
       "output_type": "stream",
       "stream": "stdout",
       "text": "\r 0% [                                       ] 206,289      246K/s              "
      },
      {
       "output_type": "stream",
       "stream": "stdout",
       "text": "\r 0% [                                       ] 321,201      307K/s              "
      },
      {
       "output_type": "stream",
       "stream": "stdout",
       "text": "\r 1% [                                       ] 470,281      374K/s              "
      },
      {
       "output_type": "stream",
       "stream": "stdout",
       "text": "\r 1% [                                       ] 568,809      387K/s              "
      },
      {
       "output_type": "stream",
       "stream": "stdout",
       "text": "\r 1% [                                       ] 689,161      411K/s              "
      },
      {
       "output_type": "stream",
       "stream": "stdout",
       "text": "\r 2% [                                       ] 827,329      438K/s              "
      },
      {
       "output_type": "stream",
       "stream": "stdout",
       "text": "\r 2% [>                                      ] 1,003,833    479K/s              "
      },
      {
       "output_type": "stream",
       "stream": "stdout",
       "text": "\r 3% [>                                      ] 1,252,809    543K/s              "
      },
      {
       "output_type": "stream",
       "stream": "stdout",
       "text": "\r 3% [>                                      ] 1,473,057    585K/s              "
      },
      {
       "output_type": "stream",
       "stream": "stdout",
       "text": "\r 4% [>                                      ] 1,663,209    610K/s              "
      },
      {
       "output_type": "stream",
       "stream": "stdout",
       "text": "\r 4% [>                                      ] 1,791,801    610K/s              "
      },
      {
       "output_type": "stream",
       "stream": "stdout",
       "text": "\r 5% [=>                                     ] 1,947,753    619K/s  eta 57s     "
      },
      {
       "output_type": "stream",
       "stream": "stdout",
       "text": "\r 5% [=>                                     ] 2,065,401    615K/s  eta 57s     "
      },
      {
       "output_type": "stream",
       "stream": "stdout",
       "text": "\r 5% [=>                                     ] 2,206,305    618K/s  eta 57s     "
      },
      {
       "output_type": "stream",
       "stream": "stdout",
       "text": "\r 6% [=>                                     ] 2,306,169    610K/s  eta 57s     "
      },
      {
       "output_type": "stream",
       "stream": "stdout",
       "text": "\r 6% [=>                                     ] 2,492,217    625K/s  eta 57s     "
      },
      {
       "output_type": "stream",
       "stream": "stdout",
       "text": "\r 6% [=>                                     ] 2,624,913    625K/s  eta 55s     "
      },
      {
       "output_type": "stream",
       "stream": "stdout",
       "text": "\r 7% [=>                                     ] 2,819,169    666K/s  eta 55s     "
      },
      {
       "output_type": "stream",
       "stream": "stdout",
       "text": "\r 7% [==>                                    ] 3,007,953    701K/s  eta 55s     "
      },
      {
       "output_type": "stream",
       "stream": "stdout",
       "text": "\r 8% [==>                                    ] 3,265,137    751K/s  eta 55s     "
      },
      {
       "output_type": "stream",
       "stream": "stdout",
       "text": "\r 9% [==>                                    ] 3,661,825    823K/s  eta 55s     "
      },
      {
       "output_type": "stream",
       "stream": "stdout",
       "text": "\r10% [===>                                   ] 3,912,201    855K/s  eta 45s     "
      },
      {
       "output_type": "stream",
       "stream": "stdout",
       "text": "\r10% [===>                                   ] 4,110,561    867K/s  eta 45s     "
      },
      {
       "output_type": "stream",
       "stream": "stdout",
       "text": "\r11% [===>                                   ] 4,341,753    899K/s  eta 45s     "
      },
      {
       "output_type": "stream",
       "stream": "stdout",
       "text": "\r12% [===>                                   ] 4,560,633    922K/s  eta 45s     "
      },
      {
       "output_type": "stream",
       "stream": "stdout",
       "text": "\r12% [===>                                   ] 4,672,809    915K/s  eta 45s     "
      },
      {
       "output_type": "stream",
       "stream": "stdout",
       "text": "\r12% [===>                                   ] 4,819,185    908K/s  eta 42s     "
      },
      {
       "output_type": "stream",
       "stream": "stdout",
       "text": "\r13% [====>                                  ] 4,976,505    886K/s  eta 42s     "
      },
      {
       "output_type": "stream",
       "stream": "stdout",
       "text": "\r13% [====>                                  ] 5,129,721    870K/s  eta 42s     "
      },
      {
       "output_type": "stream",
       "stream": "stdout",
       "text": "\r13% [====>                                  ] 5,296,617    865K/s  eta 42s     "
      },
      {
       "output_type": "stream",
       "stream": "stdout",
       "text": "\r14% [====>                                  ] 5,515,497    886K/s  eta 42s     "
      },
      {
       "output_type": "stream",
       "stream": "stdout",
       "text": "\r14% [====>                                  ] 5,659,105    883K/s  eta 41s     "
      },
      {
       "output_type": "stream",
       "stream": "stdout",
       "text": "\r15% [====>                                  ] 5,819,193    893K/s  eta 41s     "
      },
      {
       "output_type": "stream",
       "stream": "stdout",
       "text": "\r15% [=====>                                 ] 6,040,809    912K/s  eta 41s     "
      },
      {
       "output_type": "stream",
       "stream": "stdout",
       "text": "\r16% [=====>                                 ] 6,340,401    960K/s  eta 41s     "
      },
      {
       "output_type": "stream",
       "stream": "stdout",
       "text": "\r16% [=====>                                 ] 6,455,313    943K/s  eta 41s     "
      },
      {
       "output_type": "stream",
       "stream": "stdout",
       "text": "\r17% [=====>                                 ] 6,623,545    951K/s  eta 39s     "
      },
      {
       "output_type": "stream",
       "stream": "stdout",
       "text": "\r17% [======>                                ] 6,816,433    951K/s  eta 39s     "
      },
      {
       "output_type": "stream",
       "stream": "stdout",
       "text": "\r18% [======>                                ] 7,121,529    978K/s  eta 39s     "
      },
      {
       "output_type": "stream",
       "stream": "stdout",
       "text": "\r19% [======>                                ] 7,349,985    971K/s  eta 39s     "
      },
      {
       "output_type": "stream",
       "stream": "stdout",
       "text": "\r19% [======>                                ] 7,508,673    915K/s  eta 39s     "
      },
      {
       "output_type": "stream",
       "stream": "stdout",
       "text": "\r20% [======>                                ] 7,708,401    903K/s  eta 36s     "
      },
      {
       "output_type": "stream",
       "stream": "stdout",
       "text": "\r20% [=======>                               ] 7,894,449    900K/s  eta 36s     "
      },
      {
       "output_type": "stream",
       "stream": "stdout",
       "text": "\r21% [=======>                               ] 8,061,345    884K/s  eta 36s     "
      },
      {
       "output_type": "stream",
       "stream": "stdout",
       "text": "\r21% [=======>                               ] 8,162,545    856K/s  eta 36s     "
      },
      {
       "output_type": "stream",
       "stream": "stdout",
       "text": "\r21% [=======>                               ] 8,269,281    855K/s  eta 36s     "
      },
      {
       "output_type": "stream",
       "stream": "stdout",
       "text": "\r22% [=======>                               ] 8,403,345    853K/s  eta 36s     "
      },
      {
       "output_type": "stream",
       "stream": "stdout",
       "text": "\r22% [=======>                               ] 8,615,385    866K/s  eta 36s     "
      },
      {
       "output_type": "stream",
       "stream": "stdout",
       "text": "\r22% [=======>                               ] 8,697,401    794K/s  eta 36s     "
      },
      {
       "output_type": "stream",
       "stream": "stdout",
       "text": "\r24% [========>                              ] 9,162,585    854K/s  eta 36s     "
      },
      {
       "output_type": "stream",
       "stream": "stdout",
       "text": "\r24% [========>                              ] 9,307,593    838K/s  eta 35s     "
      },
      {
       "output_type": "stream",
       "stream": "stdout",
       "text": "\r24% [========>                              ] 9,475,825    843K/s  eta 35s     "
      },
      {
       "output_type": "stream",
       "stream": "stdout",
       "text": "\r25% [========>                              ] 9,693,369    856K/s  eta 35s     "
      },
      {
       "output_type": "stream",
       "stream": "stdout",
       "text": "\r26% [=========>                             ] 9,958,761    866K/s  eta 35s     "
      },
      {
       "output_type": "stream",
       "stream": "stdout",
       "text": "\r26% [=========>                             ] 10,221,417   858K/s  eta 35s     "
      },
      {
       "output_type": "stream",
       "stream": "stdout",
       "text": "\r27% [=========>                             ] 10,403,361   872K/s  eta 33s     "
      },
      {
       "output_type": "stream",
       "stream": "stdout",
       "text": "\r27% [=========>                             ] 10,568,889   872K/s  eta 33s     "
      },
      {
       "output_type": "stream",
       "stream": "stdout",
       "text": "\r28% [=========>                             ] 10,708,393   860K/s  eta 33s     "
      },
      {
       "output_type": "stream",
       "stream": "stdout",
       "text": "\r28% [==========>                            ] 10,901,313   835K/s  eta 33s     "
      },
      {
       "output_type": "stream",
       "stream": "stdout",
       "text": "\r29% [==========>                            ] 11,055,865   819K/s  eta 33s     "
      },
      {
       "output_type": "stream",
       "stream": "stdout",
       "text": "\r29% [==========>                            ] 11,187,225   813K/s  eta 32s     "
      },
      {
       "output_type": "stream",
       "stream": "stdout",
       "text": "\r29% [==========>                            ] 11,371,905   810K/s  eta 32s     "
      },
      {
       "output_type": "stream",
       "stream": "stdout",
       "text": "\r30% [==========>                            ] 11,534,697   805K/s  eta 32s     "
      },
      {
       "output_type": "stream",
       "stream": "stdout",
       "text": "\r30% [===========>                           ] 11,700,225   805K/s  eta 32s     "
      },
      {
       "output_type": "stream",
       "stream": "stdout",
       "text": "\r31% [===========>                           ] 11,873,961   821K/s  eta 32s     "
      },
      {
       "output_type": "stream",
       "stream": "stdout",
       "text": "\r31% [===========>                           ] 12,024,409   830K/s  eta 31s     "
      },
      {
       "output_type": "stream",
       "stream": "stdout",
       "text": "\r32% [===========>                           ] 12,200,913   840K/s  eta 31s     "
      },
      {
       "output_type": "stream",
       "stream": "stdout",
       "text": "\r32% [===========>                           ] 12,341,785   824K/s  eta 31s     "
      },
      {
       "output_type": "stream",
       "stream": "stdout",
       "text": "\r32% [===========>                           ] 12,474,481   892K/s  eta 31s     "
      },
      {
       "output_type": "stream",
       "stream": "stdout",
       "text": "\r33% [===========>                           ] 12,620,857   826K/s  eta 31s     "
      },
      {
       "output_type": "stream",
       "stream": "stdout",
       "text": "\r33% [============>                          ] 12,774,105   827K/s  eta 31s     "
      },
      {
       "output_type": "stream",
       "stream": "stdout",
       "text": "\r34% [============>                          ] 12,919,113   821K/s  eta 31s     "
      },
      {
       "output_type": "stream",
       "stream": "stdout",
       "text": "\r34% [============>                          ] 13,042,233   803K/s  eta 31s     "
      },
      {
       "output_type": "stream",
       "stream": "stdout",
       "text": "\r34% [============>                          ] 13,222,809   786K/s  eta 31s     "
      },
      {
       "output_type": "stream",
       "stream": "stdout",
       "text": "\r35% [============>                          ] 13,370,553   759K/s  eta 31s     "
      },
      {
       "output_type": "stream",
       "stream": "stdout",
       "text": "\r35% [============>                          ] 13,551,129   749K/s  eta 30s     "
      },
      {
       "output_type": "stream",
       "stream": "stdout",
       "text": "\r35% [=============>                         ] 13,660,569   736K/s  eta 30s     "
      },
      {
       "output_type": "stream",
       "stream": "stdout",
       "text": "\r36% [=============>                         ] 13,854,825   752K/s  eta 30s     "
      },
      {
       "output_type": "stream",
       "stream": "stdout",
       "text": "\r36% [=============>                         ] 14,044,977   752K/s  eta 30s     "
      },
      {
       "output_type": "stream",
       "stream": "stdout",
       "text": "\r37% [=============>                         ] 14,168,097   740K/s  eta 30s     "
      },
      {
       "output_type": "stream",
       "stream": "stdout",
       "text": "\r37% [=============>                         ] 14,371,929   760K/s  eta 29s     "
      },
      {
       "output_type": "stream",
       "stream": "stdout",
       "text": "\r38% [=============>                         ] 14,555,241   759K/s  eta 29s     "
      },
      {
       "output_type": "stream",
       "stream": "stdout",
       "text": "\r39% [==============>                        ] 14,817,897   781K/s  eta 29s     "
      },
      {
       "output_type": "stream",
       "stream": "stdout",
       "text": "\r39% [==============>                        ] 15,001,209   788K/s  eta 29s     "
      },
      {
       "output_type": "stream",
       "stream": "stdout",
       "text": "\r40% [==============>                        ] 15,224,193   799K/s  eta 29s     "
      },
      {
       "output_type": "stream",
       "stream": "stdout",
       "text": "\r40% [==============>                        ] 15,529,257   834K/s  eta 27s     "
      },
      {
       "output_type": "stream",
       "stream": "stdout",
       "text": "\r41% [===============>                       ] 15,815,169   861K/s  eta 27s     "
      },
      {
       "output_type": "stream",
       "stream": "stdout",
       "text": "\r42% [===============>                       ] 16,057,305   880K/s  eta 27s     "
      },
      {
       "output_type": "stream",
       "stream": "stdout",
       "text": "\r42% [===============>                       ] 16,261,137   897K/s  eta 27s     "
      },
      {
       "output_type": "stream",
       "stream": "stdout",
       "text": "\r43% [================>                      ] 16,560,729   936K/s  eta 27s     "
      },
      {
       "output_type": "stream",
       "stream": "stdout",
       "text": "\r44% [================>                      ] 16,760,457   949K/s  eta 25s     "
      },
      {
       "output_type": "stream",
       "stream": "stdout",
       "text": "\r44% [================>                      ] 16,946,505   945K/s  eta 25s     "
      },
      {
       "output_type": "stream",
       "stream": "stdout",
       "text": "\r45% [================>                      ] 17,198,217   974K/s  eta 25s     "
      },
      {
       "output_type": "stream",
       "stream": "stdout",
       "text": "\r46% [================>                      ] 17,489,569  1013K/s  eta 25s     "
      },
      {
       "output_type": "stream",
       "stream": "stdout",
       "text": "\r46% [=================>                     ] 17,661,969  1014K/s  eta 25s     "
      },
      {
       "output_type": "stream",
       "stream": "stdout",
       "text": "\r46% [=================>                     ] 17,835,705  1015K/s  eta 23s     "
      },
      {
       "output_type": "stream",
       "stream": "stdout",
       "text": "\r47% [=================>                     ] 18,064,161  1.01M/s  eta 23s     "
      },
      {
       "output_type": "stream",
       "stream": "stdout",
       "text": "\r47% [=================>                     ] 18,210,537  1.01M/s  eta 23s     "
      },
      {
       "output_type": "stream",
       "stream": "stdout",
       "text": "\r48% [=================>                     ] 18,422,545  1.01M/s  eta 23s     "
      },
      {
       "output_type": "stream",
       "stream": "stdout",
       "text": "\r48% [==================>                    ] 18,581,265  1.01M/s  eta 23s     "
      },
      {
       "output_type": "stream",
       "stream": "stdout",
       "text": "\r49% [==================>                    ] 18,711,193  1.01M/s  eta 22s     "
      },
      {
       "output_type": "stream",
       "stream": "stdout",
       "text": "\r49% [==================>                    ] 18,900,009  1.00M/s  eta 22s     "
      },
      {
       "output_type": "stream",
       "stream": "stdout",
       "text": "\r50% [==================>                    ] 19,083,321  1.00M/s  eta 22s     "
      },
      {
       "output_type": "stream",
       "stream": "stdout",
       "text": "\r50% [==================>                    ] 19,283,049  1017K/s  eta 22s     "
      },
      {
       "output_type": "stream",
       "stream": "stdout",
       "text": "\r51% [===================>                   ] 19,540,233  1.00M/s  eta 22s     "
      },
      {
       "output_type": "stream",
       "stream": "stdout",
       "text": "\r52% [===================>                   ] 19,797,417  1.01M/s  eta 21s     "
      },
      {
       "output_type": "stream",
       "stream": "stdout",
       "text": "\r52% [===================>                   ] 19,982,097  1006K/s  eta 21s     "
      },
      {
       "output_type": "stream",
       "stream": "stdout",
       "text": "\r53% [===================>                   ] 20,222,833   991K/s  eta 21s     "
      },
      {
       "output_type": "stream",
       "stream": "stdout",
       "text": "\r53% [===================>                   ] 20,355,529   976K/s  eta 21s     "
      },
      {
       "output_type": "stream",
       "stream": "stdout",
       "text": "\r53% [====================>                  ] 20,470,473   949K/s  eta 21s     "
      },
      {
       "output_type": "stream",
       "stream": "stdout",
       "text": "\r54% [====================>                  ] 20,625,025   916K/s  eta 20s     "
      },
      {
       "output_type": "stream",
       "stream": "stdout",
       "text": "\r54% [====================>                  ] 20,774,169   912K/s  eta 20s     "
      },
      {
       "output_type": "stream",
       "stream": "stdout",
       "text": "\r54% [====================>                  ] 20,876,769   887K/s  eta 20s     "
      },
      {
       "output_type": "stream",
       "stream": "stdout",
       "text": "\r55% [====================>                  ] 21,020,377   860K/s  eta 20s     "
      },
      {
       "output_type": "stream",
       "stream": "stdout",
       "text": "\r55% [====================>                  ] 21,210,561   847K/s  eta 20s     "
      },
      {
       "output_type": "stream",
       "stream": "stdout",
       "text": "\r56% [====================>                  ] 21,410,257   851K/s  eta 19s     "
      },
      {
       "output_type": "stream",
       "stream": "stdout",
       "text": "\r56% [=====================>                 ] 21,603,177   855K/s  eta 19s     "
      },
      {
       "output_type": "stream",
       "stream": "stdout",
       "text": "\r57% [=====================>                 ] 21,917,785   881K/s  eta 19s     "
      },
      {
       "output_type": "stream",
       "stream": "stdout",
       "text": "\r58% [=====================>                 ] 22,310,433   927K/s  eta 19s     "
      },
      {
       "output_type": "stream",
       "stream": "stdout",
       "text": "\r59% [======================>                ] 22,467,753   933K/s  eta 19s     "
      },
      {
       "output_type": "stream",
       "stream": "stdout",
       "text": "\r59% [======================>                ] 22,667,449   946K/s  eta 17s     "
      },
      {
       "output_type": "stream",
       "stream": "stdout",
       "text": "\r60% [======================>                ] 22,802,913   930K/s  eta 17s     "
      },
      {
       "output_type": "stream",
       "stream": "stdout",
       "text": "\r60% [======================>                ] 22,972,545   928K/s  eta 17s     "
      },
      {
       "output_type": "stream",
       "stream": "stdout",
       "text": "\r61% [======================>                ] 23,181,817   929K/s  eta 17s     "
      },
      {
       "output_type": "stream",
       "stream": "stdout",
       "text": "\r61% [=======================>               ] 23,378,841   901K/s  eta 17s     "
      },
      {
       "output_type": "stream",
       "stream": "stdout",
       "text": "\r61% [=======================>               ] 23,527,953   891K/s  eta 16s     "
      },
      {
       "output_type": "stream",
       "stream": "stdout",
       "text": "\r62% [=======================>               ] 23,724,945   888K/s  eta 16s     "
      },
      {
       "output_type": "stream",
       "stream": "stdout",
       "text": "\r62% [=======================>               ] 23,915,097   879K/s  eta 16s     "
      },
      {
       "output_type": "stream",
       "stream": "stdout",
       "text": "\r63% [=======================>               ] 24,101,145   897K/s  eta 16s     "
      },
      {
       "output_type": "stream",
       "stream": "stdout",
       "text": "\r64% [=======================>               ] 24,333,705   922K/s  eta 16s     "
      },
      {
       "output_type": "stream",
       "stream": "stdout",
       "text": "\r64% [========================>              ] 24,674,337   970K/s  eta 15s     "
      },
      {
       "output_type": "stream",
       "stream": "stdout",
       "text": "\r65% [========================>              ] 24,979,401  1009K/s  eta 15s     "
      },
      {
       "output_type": "stream",
       "stream": "stdout",
       "text": "\r66% [========================>              ] 25,135,353  1020K/s  eta 15s     "
      },
      {
       "output_type": "stream",
       "stream": "stdout",
       "text": "\r66% [=========================>             ] 25,328,241  1.01M/s  eta 15s     "
      },
      {
       "output_type": "stream",
       "stream": "stdout",
       "text": "\r67% [=========================>             ] 25,581,321  1.02M/s  eta 15s     "
      },
      {
       "output_type": "stream",
       "stream": "stdout",
       "text": "\r68% [=========================>             ] 25,879,545  1.04M/s  eta 13s     "
      },
      {
       "output_type": "stream",
       "stream": "stdout",
       "text": "\r69% [=========================>             ] 26,272,161  1.08M/s  eta 13s     "
      },
      {
       "output_type": "stream",
       "stream": "stdout",
       "text": "\r70% [==========================>            ] 26,590,873  1.09M/s  eta 13s     "
      },
      {
       "output_type": "stream",
       "stream": "stdout",
       "text": "\r70% [==========================>            ] 26,778,321  1.05M/s  eta 13s     "
      },
      {
       "output_type": "stream",
       "stream": "stdout",
       "text": "\r71% [==========================>            ] 26,982,153  1.04M/s  eta 13s     "
      },
      {
       "output_type": "stream",
       "stream": "stdout",
       "text": "\r71% [==========================>            ] 27,237,937  1.06M/s  eta 12s     "
      },
      {
       "output_type": "stream",
       "stream": "stdout",
       "text": "\r72% [===========================>           ] 27,474,601  1.08M/s  eta 12s     "
      },
      {
       "output_type": "stream",
       "stream": "stdout",
       "text": "\r72% [===========================>           ] 27,627,849  1.07M/s  eta 12s     "
      },
      {
       "output_type": "stream",
       "stream": "stdout",
       "text": "\r73% [===========================>           ] 27,834,417  1.08M/s  eta 12s     "
      },
      {
       "output_type": "stream",
       "stream": "stdout",
       "text": "\r74% [===========================>           ] 28,150,425  1.10M/s  eta 12s     "
      },
      {
       "output_type": "stream",
       "stream": "stdout",
       "text": "\r74% [============================>          ] 28,460,929  1.14M/s  eta 10s     "
      },
      {
       "output_type": "stream",
       "stream": "stdout",
       "text": "\r75% [============================>          ] 28,711,305  1.16M/s  eta 10s     "
      },
      {
       "output_type": "stream",
       "stream": "stdout",
       "text": "\r76% [============================>          ] 28,994,449  1.17M/s  eta 10s     "
      },
      {
       "output_type": "stream",
       "stream": "stdout",
       "text": "\r76% [=============================>         ] 29,224,305  1.18M/s  eta 10s     "
      },
      {
       "output_type": "stream",
       "stream": "stdout",
       "text": "\r77% [=============================>         ] 29,433,609  1.19M/s  eta 10s     "
      },
      {
       "output_type": "stream",
       "stream": "stdout",
       "text": "\r78% [=============================>         ] 29,678,449  1.18M/s  eta 9s      "
      },
      {
       "output_type": "stream",
       "stream": "stdout",
       "text": "\r78% [=============================>         ] 29,885,049  1.14M/s  eta 9s      "
      },
      {
       "output_type": "stream",
       "stream": "stdout",
       "text": "\r79% [==============================>        ] 30,188,745  1.16M/s  eta 9s      "
      },
      {
       "output_type": "stream",
       "stream": "stdout",
       "text": "\r80% [==============================>        ] 30,440,457  1.18M/s  eta 9s      "
      },
      {
       "output_type": "stream",
       "stream": "stdout",
       "text": "\r80% [==============================>        ] 30,640,185  1.18M/s  eta 9s      "
      },
      {
       "output_type": "stream",
       "stream": "stdout",
       "text": "\r81% [==============================>        ] 30,846,753  1.16M/s  eta 8s      "
      },
      {
       "output_type": "stream",
       "stream": "stdout",
       "text": "\r81% [==============================>        ] 31,023,193  1.11M/s  eta 8s      "
      },
      {
       "output_type": "stream",
       "stream": "stdout",
       "text": "\r82% [===============================>       ] 31,228,393  1.08M/s  eta 8s      "
      },
      {
       "output_type": "stream",
       "stream": "stdout",
       "text": "\r82% [===============================>       ] 31,436,361  1.08M/s  eta 8s      "
      },
      {
       "output_type": "stream",
       "stream": "stdout",
       "text": "\r83% [===============================>       ] 31,740,057  1.10M/s  eta 8s      "
      },
      {
       "output_type": "stream",
       "stream": "stdout",
       "text": "\r84% [===============================>       ] 31,984,929  1.11M/s  eta 6s      "
      },
      {
       "output_type": "stream",
       "stream": "stdout",
       "text": "\r85% [================================>      ] 32,324,161  1.12M/s  eta 6s      "
      },
      {
       "output_type": "stream",
       "stream": "stdout",
       "text": "\r85% [================================>      ] 32,529,393  1.13M/s  eta 6s      "
      },
      {
       "output_type": "stream",
       "stream": "stdout",
       "text": "\r86% [================================>      ] 32,720,913  1.13M/s  eta 6s      "
      },
      {
       "output_type": "stream",
       "stream": "stdout",
       "text": "\r86% [================================>      ] 32,839,897  1.10M/s  eta 6s      "
      },
      {
       "output_type": "stream",
       "stream": "stdout",
       "text": "\r86% [================================>      ] 32,943,897  1.04M/s  eta 5s      "
      },
      {
       "output_type": "stream",
       "stream": "stdout",
       "text": "\r87% [================================>      ] 33,105,321  1.03M/s  eta 5s      "
      },
      {
       "output_type": "stream",
       "stream": "stdout",
       "text": "\r87% [=================================>     ] 33,294,105  1.00M/s  eta 5s      "
      },
      {
       "output_type": "stream",
       "stream": "stdout",
       "text": "\r88% [=================================>     ] 33,597,769  1.02M/s  eta 5s      "
      },
      {
       "output_type": "stream",
       "stream": "stdout",
       "text": "\r89% [=================================>     ] 33,818,049  1.02M/s  eta 5s      "
      },
      {
       "output_type": "stream",
       "stream": "stdout",
       "text": "\r89% [=================================>     ] 33,999,993  1.02M/s  eta 4s      "
      },
      {
       "output_type": "stream",
       "stream": "stdout",
       "text": "\r90% [==================================>    ] 34,194,249  1.00M/s  eta 4s      "
      },
      {
       "output_type": "stream",
       "stream": "stdout",
       "text": "\r90% [==================================>    ] 34,376,161  1005K/s  eta 4s      "
      },
      {
       "output_type": "stream",
       "stream": "stdout",
       "text": "\r90% [==================================>    ] 34,526,673   979K/s  eta 4s      "
      },
      {
       "output_type": "stream",
       "stream": "stdout",
       "text": "\r91% [==================================>    ] 34,703,145   968K/s  eta 4s      "
      },
      {
       "output_type": "stream",
       "stream": "stdout",
       "text": "\r91% [==================================>    ] 34,908,345   963K/s  eta 3s      "
      },
      {
       "output_type": "stream",
       "stream": "stdout",
       "text": "\r92% [===================================>   ] 35,097,129   972K/s  eta 3s      "
      },
      {
       "output_type": "stream",
       "stream": "stdout",
       "text": "\r92% [===================================>   ] 35,296,857   970K/s  eta 3s      "
      },
      {
       "output_type": "stream",
       "stream": "stdout",
       "text": "\r93% [===================================>   ] 35,514,369   969K/s  eta 3s      "
      },
      {
       "output_type": "stream",
       "stream": "stdout",
       "text": "\r94% [===================================>   ] 35,722,305   958K/s  eta 3s      "
      },
      {
       "output_type": "stream",
       "stream": "stdout",
       "text": "\r94% [===================================>   ] 35,942,521   950K/s  eta 2s      "
      },
      {
       "output_type": "stream",
       "stream": "stdout",
       "text": "\r95% [====================================>  ] 36,165,537   929K/s  eta 2s      "
      },
      {
       "output_type": "stream",
       "stream": "stdout",
       "text": "\r95% [====================================>  ] 36,337,905   909K/s  eta 2s      "
      },
      {
       "output_type": "stream",
       "stream": "stdout",
       "text": "\r96% [====================================>  ] 36,552,681   913K/s  eta 2s      "
      },
      {
       "output_type": "stream",
       "stream": "stdout",
       "text": "\r96% [====================================>  ] 36,763,353   926K/s  eta 2s      "
      },
      {
       "output_type": "stream",
       "stream": "stdout",
       "text": "\r97% [=====================================> ] 37,075,257   976K/s  eta 1s      "
      },
      {
       "output_type": "stream",
       "stream": "stdout",
       "text": "\r98% [=====================================> ] 37,413,153  1023K/s  eta 1s      "
      },
      {
       "output_type": "stream",
       "stream": "stdout",
       "text": "\r99% [=====================================> ] 37,649,785  1.01M/s  eta 1s      "
      },
      {
       "output_type": "stream",
       "stream": "stdout",
       "text": "\r99% [=====================================> ] 37,856,385  1020K/s  eta 1s      \r100%[======================================>] 37,975,992  1.02M/s   in 40s     \r\n\r\n2013-03-25 18:07:35 (934 KB/s) - `qiime_test/core_set_aligned.fasta.imputed' saved [37975992/37975992]\r\n\r\n"
      },
      {
       "output_type": "stream",
       "stream": "stdout",
       "text": "--2013-03-25 18:07:36--  http://greengenes.lbl.gov/Download/Sequence_Data/lanemask_in_1s_and_0s\r\nResolving greengenes.lbl.gov... 128.32.248.7\r\nConnecting to greengenes.lbl.gov|128.32.248.7|:80... "
      },
      {
       "output_type": "stream",
       "stream": "stdout",
       "text": "connected.\r\nHTTP request sent, awaiting response... "
      },
      {
       "output_type": "stream",
       "stream": "stdout",
       "text": "200 OK\r\nLength: 7683 (7.5K) [text/plain]\r\nSaving to: `qiime_test/lanemask_in_1s_and_0s'\r\n\r\n\r 0% [                                       ] 0           --.-K/s              \r100%[======================================>] 7,683       --.-K/s   in 0s      \r\n\r\n2013-03-25 18:07:36 (361 MB/s) - `qiime_test/lanemask_in_1s_and_0s' saved [7683/7683]\r\n\r\n"
      }
     ],
     "prompt_number": 1
    },
    {
     "cell_type": "code",
     "collapsed": false,
     "input": "# get qiime dependcies and set env for running in KBase VM\nimport os\nfrom os import environ, chdir, mkdir\nfrom os.path import join\nnb_dir = os.getcwd()\nenviron['RDP_JAR_PATH'] = '/kb/runtime/rdp_classifier_2.2/rdp_classifier-2.2.jar'\nenviron['QIIME_CONFIG_FP'] = join(nb_dir, '.qiime_config')\n# create qiime config\nqconf = open('.qiime_config', 'w')\nqconf.write(\"%s\\t%s\\n\"%('qiime_scripts_dir', '/usr/local/bin'))\nqconf.write(\"%s\\t%s\\n\"%('temp_dir', join(nb_dir, 'tmp')))\nqconf.write(\"%s\\t%s\\n\"%('pynast_template_alignment_fp', join(nb_dir, base_dir, 'core_set_aligned.fasta.imputed')))\nqconf.write(\"%s\\t%s\\n\"%('template_alignment_lanemask_fp', join(nb_dir, base_dir, 'lanemask_in_1s_and_0s')))\nqconf.close()",
     "language": "python",
     "metadata": {},
     "outputs": [],
     "prompt_number": 2
    },
    {
     "cell_type": "code",
     "collapsed": false,
     "input": "# these are only available in the current development branch of IPython\nfrom IPython.display import FileLinks, FileLink\notu_base = join(base_dir, \"gg_12_10_otus\")\nreference_seqs = join(otu_base, \"rep_set/97_otus.fasta\")\nreference_tree = join(otu_base, \"trees/97_otus.tree\")\nreference_tax = join(otu_base, \"taxonomy/97_otu_taxonomy.txt\")",
     "language": "python",
     "metadata": {},
     "outputs": [],
     "prompt_number": 3
    },
    {
     "cell_type": "markdown",
     "metadata": {},
     "source": "Start by seeing what files are in our tutorial direcotry. We can do this using `ls` as we would on the command line, but in this case we prefix with an `!` to tell IPython that we're issuing a `bash` (i.e., command line) command, rather than a python command."
    },
    {
     "cell_type": "code",
     "collapsed": false,
     "input": "data_dir = join(base_dir, 'moving_pictures_tutorial')\n!ls $data_dir",
     "language": "python",
     "metadata": {},
     "outputs": [
      {
       "output_type": "stream",
       "stream": "stdout",
       "text": "454_map.txt\t\t filtered_mapping_l5.txt      subsampled_454_seqs.fna\r\nfiltered_mapping_l1.txt  filtered_mapping_l6.txt      subsampled_fastq\r\nfiltered_mapping_l2.txt  procrustes_metadata_map.txt  ucrC_fast_params.txt\r\nfiltered_mapping_l3.txt  procrustes_sid_map.txt\r\nfiltered_mapping_l4.txt  README.txt\r\n"
      }
     ],
     "prompt_number": 4
    },
    {
     "cell_type": "markdown",
     "metadata": {},
     "source": "QIIME additionally supports more convenient output formattting for the IPython notebook so you can directly interact with or download your data."
    },
    {
     "cell_type": "code",
     "collapsed": false,
     "input": "FileLinks(base_dir)",
     "language": "python",
     "metadata": {},
     "outputs": [
      {
       "html": "qiime_test/<br>\n&nbsp;&nbsp;<a href='files/qiime_test/lanemask_in_1s_and_0s' target='_blank'>lanemask_in_1s_and_0s</a><br>\n&nbsp;&nbsp;<a href='files/qiime_test/core_set_aligned.fasta.imputed' target='_blank'>core_set_aligned.fasta.imputed</a><br>\nqiime_test/gg_12_10_otus/<br>\n&nbsp;&nbsp;<a href='files/qiime_test/gg_12_10_otus/note' target='_blank'>note</a><br>\nqiime_test/gg_12_10_otus/otus/<br>\n&nbsp;&nbsp;<a href='files/qiime_test/gg_12_10_otus/otus/88_otu_map.txt' target='_blank'>88_otu_map.txt</a><br>\n&nbsp;&nbsp;<a href='files/qiime_test/gg_12_10_otus/otus/97_clusters.uc' target='_blank'>97_clusters.uc</a><br>\n&nbsp;&nbsp;<a href='files/qiime_test/gg_12_10_otus/otus/85_clusters.uc' target='_blank'>85_clusters.uc</a><br>\n&nbsp;&nbsp;<a href='files/qiime_test/gg_12_10_otus/otus/67_clusters.uc' target='_blank'>67_clusters.uc</a><br>\n&nbsp;&nbsp;<a href='files/qiime_test/gg_12_10_otus/otus/82_otu_map.txt' target='_blank'>82_otu_map.txt</a><br>\n&nbsp;&nbsp;<a href='files/qiime_test/gg_12_10_otus/otus/91_otu_map.txt' target='_blank'>91_otu_map.txt</a><br>\n&nbsp;&nbsp;<a href='files/qiime_test/gg_12_10_otus/otus/97_otu_map.txt' target='_blank'>97_otu_map.txt</a><br>\n&nbsp;&nbsp;<a href='files/qiime_test/gg_12_10_otus/otus/64_otu_map.txt' target='_blank'>64_otu_map.txt</a><br>\n&nbsp;&nbsp;<a href='files/qiime_test/gg_12_10_otus/otus/99_clusters.uc' target='_blank'>99_clusters.uc</a><br>\n&nbsp;&nbsp;<a href='files/qiime_test/gg_12_10_otus/otus/73_clusters.uc' target='_blank'>73_clusters.uc</a><br>\n&nbsp;&nbsp;<a href='files/qiime_test/gg_12_10_otus/otus/79_clusters.uc' target='_blank'>79_clusters.uc</a><br>\n&nbsp;&nbsp;<a href='files/qiime_test/gg_12_10_otus/otus/88_clusters.uc' target='_blank'>88_clusters.uc</a><br>\n&nbsp;&nbsp;<a href='files/qiime_test/gg_12_10_otus/otus/61_otu_map.txt' target='_blank'>61_otu_map.txt</a><br>\n&nbsp;&nbsp;<a href='files/qiime_test/gg_12_10_otus/otus/76_clusters.uc' target='_blank'>76_clusters.uc</a><br>\n&nbsp;&nbsp;<a href='files/qiime_test/gg_12_10_otus/otus/73_otu_map.txt' target='_blank'>73_otu_map.txt</a><br>\n&nbsp;&nbsp;<a href='files/qiime_test/gg_12_10_otus/otus/94_clusters.uc' target='_blank'>94_clusters.uc</a><br>\n&nbsp;&nbsp;<a href='files/qiime_test/gg_12_10_otus/otus/82_clusters.uc' target='_blank'>82_clusters.uc</a><br>\n&nbsp;&nbsp;<a href='files/qiime_test/gg_12_10_otus/otus/70_clusters.uc' target='_blank'>70_clusters.uc</a><br>\n&nbsp;&nbsp;<a href='files/qiime_test/gg_12_10_otus/otus/70_otu_map.txt' target='_blank'>70_otu_map.txt</a><br>\n&nbsp;&nbsp;<a href='files/qiime_test/gg_12_10_otus/otus/67_otu_map.txt' target='_blank'>67_otu_map.txt</a><br>\n&nbsp;&nbsp;<a href='files/qiime_test/gg_12_10_otus/otus/64_clusters.uc' target='_blank'>64_clusters.uc</a><br>\n&nbsp;&nbsp;<a href='files/qiime_test/gg_12_10_otus/otus/61_clusters.uc' target='_blank'>61_clusters.uc</a><br>\n&nbsp;&nbsp;<a href='files/qiime_test/gg_12_10_otus/otus/76_otu_map.txt' target='_blank'>76_otu_map.txt</a><br>\n&nbsp;&nbsp;<a href='files/qiime_test/gg_12_10_otus/otus/79_otu_map.txt' target='_blank'>79_otu_map.txt</a><br>\n&nbsp;&nbsp;<a href='files/qiime_test/gg_12_10_otus/otus/85_otu_map.txt' target='_blank'>85_otu_map.txt</a><br>\n&nbsp;&nbsp;<a href='files/qiime_test/gg_12_10_otus/otus/99_otu_map.txt' target='_blank'>99_otu_map.txt</a><br>\n&nbsp;&nbsp;<a href='files/qiime_test/gg_12_10_otus/otus/91_clusters.uc' target='_blank'>91_clusters.uc</a><br>\n&nbsp;&nbsp;<a href='files/qiime_test/gg_12_10_otus/otus/94_otu_map.txt' target='_blank'>94_otu_map.txt</a><br>\nqiime_test/gg_12_10_otus/rep_set/<br>\n&nbsp;&nbsp;<a href='files/qiime_test/gg_12_10_otus/rep_set/91_otus.fasta' target='_blank'>91_otus.fasta</a><br>\n&nbsp;&nbsp;<a href='files/qiime_test/gg_12_10_otus/rep_set/64_otus.fasta' target='_blank'>64_otus.fasta</a><br>\n&nbsp;&nbsp;<a href='files/qiime_test/gg_12_10_otus/rep_set/79_otus.fasta' target='_blank'>79_otus.fasta</a><br>\n&nbsp;&nbsp;<a href='files/qiime_test/gg_12_10_otus/rep_set/76_otus.fasta' target='_blank'>76_otus.fasta</a><br>\n&nbsp;&nbsp;<a href='files/qiime_test/gg_12_10_otus/rep_set/97_otus.fasta' target='_blank'>97_otus.fasta</a><br>\n&nbsp;&nbsp;<a href='files/qiime_test/gg_12_10_otus/rep_set/94_otus.fasta' target='_blank'>94_otus.fasta</a><br>\n&nbsp;&nbsp;<a href='files/qiime_test/gg_12_10_otus/rep_set/73_otus.fasta' target='_blank'>73_otus.fasta</a><br>\n&nbsp;&nbsp;<a href='files/qiime_test/gg_12_10_otus/rep_set/82_otus.fasta' target='_blank'>82_otus.fasta</a><br>\n&nbsp;&nbsp;<a href='files/qiime_test/gg_12_10_otus/rep_set/85_otus.fasta' target='_blank'>85_otus.fasta</a><br>\n&nbsp;&nbsp;<a href='files/qiime_test/gg_12_10_otus/rep_set/67_otus.fasta' target='_blank'>67_otus.fasta</a><br>\n&nbsp;&nbsp;<a href='files/qiime_test/gg_12_10_otus/rep_set/61_otus.fasta' target='_blank'>61_otus.fasta</a><br>\n&nbsp;&nbsp;<a href='files/qiime_test/gg_12_10_otus/rep_set/99_otus.fasta' target='_blank'>99_otus.fasta</a><br>\n&nbsp;&nbsp;<a href='files/qiime_test/gg_12_10_otus/rep_set/88_otus.fasta' target='_blank'>88_otus.fasta</a><br>\n&nbsp;&nbsp;<a href='files/qiime_test/gg_12_10_otus/rep_set/70_otus.fasta' target='_blank'>70_otus.fasta</a><br>\nqiime_test/gg_12_10_otus/taxonomy/<br>\n&nbsp;&nbsp;<a href='files/qiime_test/gg_12_10_otus/taxonomy/73_otu_taxonomy.txt' target='_blank'>73_otu_taxonomy.txt</a><br>\n&nbsp;&nbsp;<a href='files/qiime_test/gg_12_10_otus/taxonomy/97_otu_taxonomy.txt' target='_blank'>97_otu_taxonomy.txt</a><br>\n&nbsp;&nbsp;<a href='files/qiime_test/gg_12_10_otus/taxonomy/70_otu_taxonomy.txt' target='_blank'>70_otu_taxonomy.txt</a><br>\n&nbsp;&nbsp;<a href='files/qiime_test/gg_12_10_otus/taxonomy/85_otu_taxonomy.txt' target='_blank'>85_otu_taxonomy.txt</a><br>\n&nbsp;&nbsp;<a href='files/qiime_test/gg_12_10_otus/taxonomy/76_otu_taxonomy.txt' target='_blank'>76_otu_taxonomy.txt</a><br>\n&nbsp;&nbsp;<a href='files/qiime_test/gg_12_10_otus/taxonomy/67_otu_taxonomy.txt' target='_blank'>67_otu_taxonomy.txt</a><br>\n&nbsp;&nbsp;<a href='files/qiime_test/gg_12_10_otus/taxonomy/94_otu_taxonomy.txt' target='_blank'>94_otu_taxonomy.txt</a><br>\n&nbsp;&nbsp;<a href='files/qiime_test/gg_12_10_otus/taxonomy/64_otu_taxonomy.txt' target='_blank'>64_otu_taxonomy.txt</a><br>\n&nbsp;&nbsp;<a href='files/qiime_test/gg_12_10_otus/taxonomy/99_otu_taxonomy.txt' target='_blank'>99_otu_taxonomy.txt</a><br>\n&nbsp;&nbsp;<a href='files/qiime_test/gg_12_10_otus/taxonomy/82_otu_taxonomy.txt' target='_blank'>82_otu_taxonomy.txt</a><br>\n&nbsp;&nbsp;<a href='files/qiime_test/gg_12_10_otus/taxonomy/79_otu_taxonomy.txt' target='_blank'>79_otu_taxonomy.txt</a><br>\n&nbsp;&nbsp;<a href='files/qiime_test/gg_12_10_otus/taxonomy/61_otu_taxonomy.txt' target='_blank'>61_otu_taxonomy.txt</a><br>\n&nbsp;&nbsp;<a href='files/qiime_test/gg_12_10_otus/taxonomy/88_otu_taxonomy.txt' target='_blank'>88_otu_taxonomy.txt</a><br>\n&nbsp;&nbsp;<a href='files/qiime_test/gg_12_10_otus/taxonomy/91_otu_taxonomy.txt' target='_blank'>91_otu_taxonomy.txt</a><br>\nqiime_test/gg_12_10_otus/trees/<br>\n&nbsp;&nbsp;<a href='files/qiime_test/gg_12_10_otus/trees/88_otus.tree' target='_blank'>88_otus.tree</a><br>\n&nbsp;&nbsp;<a href='files/qiime_test/gg_12_10_otus/trees/82_otus.tree' target='_blank'>82_otus.tree</a><br>\n&nbsp;&nbsp;<a href='files/qiime_test/gg_12_10_otus/trees/73_otus.tree' target='_blank'>73_otus.tree</a><br>\n&nbsp;&nbsp;<a href='files/qiime_test/gg_12_10_otus/trees/76_otus.tree' target='_blank'>76_otus.tree</a><br>\n&nbsp;&nbsp;<a href='files/qiime_test/gg_12_10_otus/trees/67_otus.tree' target='_blank'>67_otus.tree</a><br>\n&nbsp;&nbsp;<a href='files/qiime_test/gg_12_10_otus/trees/97_otus.tree' target='_blank'>97_otus.tree</a><br>\n&nbsp;&nbsp;<a href='files/qiime_test/gg_12_10_otus/trees/79_otus.tree' target='_blank'>79_otus.tree</a><br>\n&nbsp;&nbsp;<a href='files/qiime_test/gg_12_10_otus/trees/70_otus.tree' target='_blank'>70_otus.tree</a><br>\n&nbsp;&nbsp;<a href='files/qiime_test/gg_12_10_otus/trees/85_otus.tree' target='_blank'>85_otus.tree</a><br>\n&nbsp;&nbsp;<a href='files/qiime_test/gg_12_10_otus/trees/94_otus.tree' target='_blank'>94_otus.tree</a><br>\n&nbsp;&nbsp;<a href='files/qiime_test/gg_12_10_otus/trees/61_otus.tree' target='_blank'>61_otus.tree</a><br>\n&nbsp;&nbsp;<a href='files/qiime_test/gg_12_10_otus/trees/99_otus.tree' target='_blank'>99_otus.tree</a><br>\n&nbsp;&nbsp;<a href='files/qiime_test/gg_12_10_otus/trees/64_otus.tree' target='_blank'>64_otus.tree</a><br>\n&nbsp;&nbsp;<a href='files/qiime_test/gg_12_10_otus/trees/91_otus.tree' target='_blank'>91_otus.tree</a><br>\nqiime_test/moving_pictures_tutorial/<br>\n&nbsp;&nbsp;<a href='files/qiime_test/moving_pictures_tutorial/procrustes_sid_map.txt' target='_blank'>procrustes_sid_map.txt</a><br>\n&nbsp;&nbsp;<a href='files/qiime_test/moving_pictures_tutorial/filtered_mapping_l4.txt' target='_blank'>filtered_mapping_l4.txt</a><br>\n&nbsp;&nbsp;<a href='files/qiime_test/moving_pictures_tutorial/filtered_mapping_l5.txt' target='_blank'>filtered_mapping_l5.txt</a><br>\n&nbsp;&nbsp;<a href='files/qiime_test/moving_pictures_tutorial/filtered_mapping_l6.txt' target='_blank'>filtered_mapping_l6.txt</a><br>\n&nbsp;&nbsp;<a href='files/qiime_test/moving_pictures_tutorial/filtered_mapping_l2.txt' target='_blank'>filtered_mapping_l2.txt</a><br>\n&nbsp;&nbsp;<a href='files/qiime_test/moving_pictures_tutorial/454_map.txt' target='_blank'>454_map.txt</a><br>\n&nbsp;&nbsp;<a href='files/qiime_test/moving_pictures_tutorial/filtered_mapping_l3.txt' target='_blank'>filtered_mapping_l3.txt</a><br>\n&nbsp;&nbsp;<a href='files/qiime_test/moving_pictures_tutorial/ucrC_fast_params.txt' target='_blank'>ucrC_fast_params.txt</a><br>\n&nbsp;&nbsp;<a href='files/qiime_test/moving_pictures_tutorial/README.txt' target='_blank'>README.txt</a><br>\n&nbsp;&nbsp;<a href='files/qiime_test/moving_pictures_tutorial/filtered_mapping_l1.txt' target='_blank'>filtered_mapping_l1.txt</a><br>\n&nbsp;&nbsp;<a href='files/qiime_test/moving_pictures_tutorial/subsampled_454_seqs.fna' target='_blank'>subsampled_454_seqs.fna</a><br>\n&nbsp;&nbsp;<a href='files/qiime_test/moving_pictures_tutorial/procrustes_metadata_map.txt' target='_blank'>procrustes_metadata_map.txt</a><br>\nqiime_test/moving_pictures_tutorial/subsampled_fastq/<br>\n&nbsp;&nbsp;<a href='files/qiime_test/moving_pictures_tutorial/subsampled_fastq/subsampled_s_6_sequence_barcodes.fastq' target='_blank'>subsampled_s_6_sequence_barcodes.fastq</a><br>\n&nbsp;&nbsp;<a href='files/qiime_test/moving_pictures_tutorial/subsampled_fastq/subsampled_s_2_sequence_barcodes.fastq' target='_blank'>subsampled_s_2_sequence_barcodes.fastq</a><br>\n&nbsp;&nbsp;<a href='files/qiime_test/moving_pictures_tutorial/subsampled_fastq/subsampled_s_3_sequence.fastq' target='_blank'>subsampled_s_3_sequence.fastq</a><br>\n&nbsp;&nbsp;<a href='files/qiime_test/moving_pictures_tutorial/subsampled_fastq/subsampled_s_4_sequence.fastq' target='_blank'>subsampled_s_4_sequence.fastq</a><br>\n&nbsp;&nbsp;<a href='files/qiime_test/moving_pictures_tutorial/subsampled_fastq/subsampled_s_1_sequence_barcodes.fastq' target='_blank'>subsampled_s_1_sequence_barcodes.fastq</a><br>\n&nbsp;&nbsp;<a href='files/qiime_test/moving_pictures_tutorial/subsampled_fastq/subsampled_s_6_sequence.fastq' target='_blank'>subsampled_s_6_sequence.fastq</a><br>\n&nbsp;&nbsp;<a href='files/qiime_test/moving_pictures_tutorial/subsampled_fastq/subsampled_s_5_sequence.fastq' target='_blank'>subsampled_s_5_sequence.fastq</a><br>\n&nbsp;&nbsp;<a href='files/qiime_test/moving_pictures_tutorial/subsampled_fastq/subsampled_s_4_sequence_barcodes.fastq' target='_blank'>subsampled_s_4_sequence_barcodes.fastq</a><br>\n&nbsp;&nbsp;<a href='files/qiime_test/moving_pictures_tutorial/subsampled_fastq/subsampled_s_2_sequence.fastq' target='_blank'>subsampled_s_2_sequence.fastq</a><br>\n&nbsp;&nbsp;<a href='files/qiime_test/moving_pictures_tutorial/subsampled_fastq/subsampled_s_1_sequence.fastq' target='_blank'>subsampled_s_1_sequence.fastq</a><br>\n&nbsp;&nbsp;<a href='files/qiime_test/moving_pictures_tutorial/subsampled_fastq/subsampled_s_3_sequence_barcodes.fastq' target='_blank'>subsampled_s_3_sequence_barcodes.fastq</a><br>\n&nbsp;&nbsp;<a href='files/qiime_test/moving_pictures_tutorial/subsampled_fastq/subsampled_s_5_sequence_barcodes.fastq' target='_blank'>subsampled_s_5_sequence_barcodes.fastq</a><br>",
       "output_type": "pyout",
       "prompt_number": 5,
       "text": "qiime_test/\n  lanemask_in_1s_and_0s\n  core_set_aligned.fasta.imputed\nqiime_test/gg_12_10_otus/\n  note\nqiime_test/gg_12_10_otus/otus/\n  88_otu_map.txt\n  97_clusters.uc\n  85_clusters.uc\n  67_clusters.uc\n  82_otu_map.txt\n  91_otu_map.txt\n  97_otu_map.txt\n  64_otu_map.txt\n  99_clusters.uc\n  73_clusters.uc\n  79_clusters.uc\n  88_clusters.uc\n  61_otu_map.txt\n  76_clusters.uc\n  73_otu_map.txt\n  94_clusters.uc\n  82_clusters.uc\n  70_clusters.uc\n  70_otu_map.txt\n  67_otu_map.txt\n  64_clusters.uc\n  61_clusters.uc\n  76_otu_map.txt\n  79_otu_map.txt\n  85_otu_map.txt\n  99_otu_map.txt\n  91_clusters.uc\n  94_otu_map.txt\nqiime_test/gg_12_10_otus/rep_set/\n  91_otus.fasta\n  64_otus.fasta\n  79_otus.fasta\n  76_otus.fasta\n  97_otus.fasta\n  94_otus.fasta\n  73_otus.fasta\n  82_otus.fasta\n  85_otus.fasta\n  67_otus.fasta\n  61_otus.fasta\n  99_otus.fasta\n  88_otus.fasta\n  70_otus.fasta\nqiime_test/gg_12_10_otus/taxonomy/\n  73_otu_taxonomy.txt\n  97_otu_taxonomy.txt\n  70_otu_taxonomy.txt\n  85_otu_taxonomy.txt\n  76_otu_taxonomy.txt\n  67_otu_taxonomy.txt\n  94_otu_taxonomy.txt\n  64_otu_taxonomy.txt\n  99_otu_taxonomy.txt\n  82_otu_taxonomy.txt\n  79_otu_taxonomy.txt\n  61_otu_taxonomy.txt\n  88_otu_taxonomy.txt\n  91_otu_taxonomy.txt\nqiime_test/gg_12_10_otus/trees/\n  88_otus.tree\n  82_otus.tree\n  73_otus.tree\n  76_otus.tree\n  67_otus.tree\n  97_otus.tree\n  79_otus.tree\n  70_otus.tree\n  85_otus.tree\n  94_otus.tree\n  61_otus.tree\n  99_otus.tree\n  64_otus.tree\n  91_otus.tree\nqiime_test/moving_pictures_tutorial/\n  procrustes_sid_map.txt\n  filtered_mapping_l4.txt\n  filtered_mapping_l5.txt\n  filtered_mapping_l6.txt\n  filtered_mapping_l2.txt\n  454_map.txt\n  filtered_mapping_l3.txt\n  ucrC_fast_params.txt\n  README.txt\n  filtered_mapping_l1.txt\n  subsampled_454_seqs.fna\n  procrustes_metadata_map.txt\nqiime_test/moving_pictures_tutorial/subsampled_fastq/\n  subsampled_s_6_sequence_barcodes.fastq\n  subsampled_s_2_sequence_barcodes.fastq\n  subsampled_s_3_sequence.fastq\n  subsampled_s_4_sequence.fastq\n  subsampled_s_1_sequence_barcodes.fastq\n  subsampled_s_6_sequence.fastq\n  subsampled_s_5_sequence.fastq\n  subsampled_s_4_sequence_barcodes.fastq\n  subsampled_s_2_sequence.fastq\n  subsampled_s_1_sequence.fastq\n  subsampled_s_3_sequence_barcodes.fastq\n  subsampled_s_5_sequence_barcodes.fastq"
      }
     ],
     "prompt_number": 5
    },
    {
     "cell_type": "heading",
     "level": 2,
     "metadata": {},
     "source": "First, let's check our mapping file for errors"
    },
    {
     "cell_type": "code",
     "collapsed": false,
     "input": "!check_id_map.py -o $base_dir/cid/ -m $data_dir/filtered_mapping_l1.txt",
     "language": "python",
     "metadata": {},
     "outputs": [
      {
       "output_type": "stream",
       "stream": "stdout",
       "text": "No errors or warnings were found in mapping file.\r\n"
      }
     ],
     "prompt_number": 6
    },
    {
     "cell_type": "markdown",
     "metadata": {},
     "source": "In this case there were no errors, but if there were we would review the resulting html summary to find out what errors are present. You could then fix those in a spreadsheet program or text editor. To view that html file, call ``FileLinks`` on the output directory from the previous step and click the link to the ``html`` file."
    },
    {
     "cell_type": "code",
     "collapsed": false,
     "input": "FileLinks(base_dir+'/cid/')",
     "language": "python",
     "metadata": {},
     "outputs": [
      {
       "html": "qiime_test/cid/<br>\n&nbsp;&nbsp;<a href='files/qiime_test/cid/overlib.js' target='_blank'>overlib.js</a><br>\n&nbsp;&nbsp;<a href='files/qiime_test/cid/filtered_mapping_l1.log' target='_blank'>filtered_mapping_l1.log</a><br>\n&nbsp;&nbsp;<a href='files/qiime_test/cid/filtered_mapping_l1.html' target='_blank'>filtered_mapping_l1.html</a><br>\n&nbsp;&nbsp;<a href='files/qiime_test/cid/filtered_mapping_l1_corrected.txt' target='_blank'>filtered_mapping_l1_corrected.txt</a><br>",
       "output_type": "pyout",
       "prompt_number": 7,
       "text": "qiime_test/cid/\n  overlib.js\n  filtered_mapping_l1.log\n  filtered_mapping_l1.html\n  filtered_mapping_l1_corrected.txt"
      }
     ],
     "prompt_number": 7
    },
    {
     "cell_type": "heading",
     "level": 2,
     "metadata": {},
     "source": "Demultiplexing and quality filtering seqeunces"
    },
    {
     "cell_type": "code",
     "collapsed": false,
     "input": "!split_libraries_fastq.py -o $base_dir/slout/ -i $data_dir/subsampled_fastq/subsampled_s_1_sequence.fastq,$data_dir/subsampled_fastq/subsampled_s_2_sequence.fastq,$data_dir/subsampled_fastq/subsampled_s_3_sequence.fastq,$data_dir/subsampled_fastq/subsampled_s_4_sequence.fastq,$data_dir/subsampled_fastq/subsampled_s_5_sequence.fastq,$data_dir/subsampled_fastq/subsampled_s_6_sequence.fastq -b $data_dir/subsampled_fastq/subsampled_s_1_sequence_barcodes.fastq,$data_dir/subsampled_fastq/subsampled_s_2_sequence_barcodes.fastq,$data_dir/subsampled_fastq/subsampled_s_3_sequence_barcodes.fastq,$data_dir/subsampled_fastq/subsampled_s_4_sequence_barcodes.fastq,$data_dir/subsampled_fastq/subsampled_s_5_sequence_barcodes.fastq,$data_dir/subsampled_fastq/subsampled_s_6_sequence_barcodes.fastq -m $data_dir/filtered_mapping_l1.txt,$data_dir/filtered_mapping_l2.txt,$data_dir/filtered_mapping_l3.txt,$data_dir/filtered_mapping_l4.txt,$data_dir/filtered_mapping_l5.txt,$data_dir/filtered_mapping_l6.txt",
     "language": "python",
     "metadata": {},
     "outputs": [],
     "prompt_number": 8
    },
    {
     "cell_type": "markdown",
     "metadata": {},
     "source": "We often want to see the results of running a command. Here we can do that by calling our output formatter again, this time passing the output directory from the previous step."
    },
    {
     "cell_type": "code",
     "collapsed": false,
     "input": "FileLinks(base_dir+'/slout/')",
     "language": "python",
     "metadata": {},
     "outputs": [
      {
       "html": "qiime_test/slout/<br>\n&nbsp;&nbsp;<a href='files/qiime_test/slout/split_library_log.txt' target='_blank'>split_library_log.txt</a><br>\n&nbsp;&nbsp;<a href='files/qiime_test/slout/seqs.fna' target='_blank'>seqs.fna</a><br>\n&nbsp;&nbsp;<a href='files/qiime_test/slout/histograms.txt' target='_blank'>histograms.txt</a><br>",
       "output_type": "pyout",
       "prompt_number": 9,
       "text": "qiime_test/slout/\n  split_library_log.txt\n  seqs.fna\n  histograms.txt"
      }
     ],
     "prompt_number": 9
    },
    {
     "cell_type": "code",
     "collapsed": false,
     "input": "!count_seqs.py -i $base_dir/slout/seqs.fna",
     "language": "python",
     "metadata": {},
     "outputs": [
      {
       "output_type": "stream",
       "stream": "stdout",
       "text": "\r\n66189  : qiime_test/slout/seqs.fna (Sequence lengths (mean +/- std): 132.1182 +/- 9.6185)\r\n66189  : Total\r\n"
      }
     ],
     "prompt_number": 10
    },
    {
     "cell_type": "heading",
     "level": 2,
     "metadata": {},
     "source": "OTU picking: using an open-reference OTU picking protocol by searching reads agsint the Greengenes database."
    },
    {
     "cell_type": "code",
     "collapsed": false,
     "input": "!pick_subsampled_reference_otus_through_otu_table.py -o $base_dir/ucrss_fast/ -i $base_dir/slout/seqs.fna -r $reference_seqs -p $data_dir/ucrC_fast_params.txt",
     "language": "python",
     "metadata": {},
     "outputs": [],
     "prompt_number": 11
    },
    {
     "cell_type": "code",
     "collapsed": false,
     "input": "FileLinks(base_dir+'/ucrss_fast/')",
     "language": "python",
     "metadata": {},
     "outputs": [
      {
       "html": "qiime_test/ucrss_fast/<br>\n&nbsp;&nbsp;<a href='files/qiime_test/ucrss_fast/otu_table_mc2_w_tax.biom' target='_blank'>otu_table_mc2_w_tax.biom</a><br>\n&nbsp;&nbsp;<a href='files/qiime_test/ucrss_fast/otu_table_mc2.biom' target='_blank'>otu_table_mc2.biom</a><br>\n&nbsp;&nbsp;<a href='files/qiime_test/ucrss_fast/final_otu_map.txt' target='_blank'>final_otu_map.txt</a><br>\n&nbsp;&nbsp;<a href='files/qiime_test/ucrss_fast/otu_table_mc2_w_tax_no_pynast_failures.biom' target='_blank'>otu_table_mc2_w_tax_no_pynast_failures.biom</a><br>\n&nbsp;&nbsp;<a href='files/qiime_test/ucrss_fast/new_refseqs.fna' target='_blank'>new_refseqs.fna</a><br>\n&nbsp;&nbsp;<a href='files/qiime_test/ucrss_fast/final_otu_map_mc2.txt' target='_blank'>final_otu_map_mc2.txt</a><br>\n&nbsp;&nbsp;<a href='files/qiime_test/ucrss_fast/rep_set.fna' target='_blank'>rep_set.fna</a><br>\n&nbsp;&nbsp;<a href='files/qiime_test/ucrss_fast/log_20130325180805.txt' target='_blank'>log_20130325180805.txt</a><br>\n&nbsp;&nbsp;<a href='files/qiime_test/ucrss_fast/rep_set.tre' target='_blank'>rep_set.tre</a><br>\nqiime_test/ucrss_fast/prefilter_otus/<br>\n&nbsp;&nbsp;<a href='files/qiime_test/ucrss_fast/prefilter_otus/seqs_failures.txt' target='_blank'>seqs_failures.txt</a><br>\n&nbsp;&nbsp;<a href='files/qiime_test/ucrss_fast/prefilter_otus/seqs_otus.log' target='_blank'>seqs_otus.log</a><br>\n&nbsp;&nbsp;<a href='files/qiime_test/ucrss_fast/prefilter_otus/prefiltered_seqs.fna' target='_blank'>prefiltered_seqs.fna</a><br>\n&nbsp;&nbsp;<a href='files/qiime_test/ucrss_fast/prefilter_otus/seqs_otus.txt' target='_blank'>seqs_otus.txt</a><br>\n&nbsp;&nbsp;<a href='files/qiime_test/ucrss_fast/prefilter_otus/seqs_clusters.uc' target='_blank'>seqs_clusters.uc</a><br>\nqiime_test/ucrss_fast/pynast_aligned_seqs/<br>\n&nbsp;&nbsp;<a href='files/qiime_test/ucrss_fast/pynast_aligned_seqs/rep_set_aligned.fasta' target='_blank'>rep_set_aligned.fasta</a><br>\n&nbsp;&nbsp;<a href='files/qiime_test/ucrss_fast/pynast_aligned_seqs/rep_set_log.txt' target='_blank'>rep_set_log.txt</a><br>\n&nbsp;&nbsp;<a href='files/qiime_test/ucrss_fast/pynast_aligned_seqs/rep_set_aligned_pfiltered.fasta' target='_blank'>rep_set_aligned_pfiltered.fasta</a><br>\n&nbsp;&nbsp;<a href='files/qiime_test/ucrss_fast/pynast_aligned_seqs/rep_set_failures.fasta' target='_blank'>rep_set_failures.fasta</a><br>\nqiime_test/ucrss_fast/rdp_assigned_taxonomy/<br>\n&nbsp;&nbsp;<a href='files/qiime_test/ucrss_fast/rdp_assigned_taxonomy/rep_set_tax_assignments.txt' target='_blank'>rep_set_tax_assignments.txt</a><br>\n&nbsp;&nbsp;<a href='files/qiime_test/ucrss_fast/rdp_assigned_taxonomy/rep_set_tax_assignments.log' target='_blank'>rep_set_tax_assignments.log</a><br>\nqiime_test/ucrss_fast/step1_otus/<br>\n&nbsp;&nbsp;<a href='files/qiime_test/ucrss_fast/step1_otus/prefiltered_seqs_clusters.uc' target='_blank'>prefiltered_seqs_clusters.uc</a><br>\n&nbsp;&nbsp;<a href='files/qiime_test/ucrss_fast/step1_otus/prefiltered_seqs_otus.log' target='_blank'>prefiltered_seqs_otus.log</a><br>\n&nbsp;&nbsp;<a href='files/qiime_test/ucrss_fast/step1_otus/prefiltered_seqs_failures.txt' target='_blank'>prefiltered_seqs_failures.txt</a><br>\n&nbsp;&nbsp;<a href='files/qiime_test/ucrss_fast/step1_otus/failures.fasta' target='_blank'>failures.fasta</a><br>\n&nbsp;&nbsp;<a href='files/qiime_test/ucrss_fast/step1_otus/subsampled_failures.fasta' target='_blank'>subsampled_failures.fasta</a><br>\n&nbsp;&nbsp;<a href='files/qiime_test/ucrss_fast/step1_otus/step1_rep_set.fna' target='_blank'>step1_rep_set.fna</a><br>\n&nbsp;&nbsp;<a href='files/qiime_test/ucrss_fast/step1_otus/prefiltered_seqs_otus.txt' target='_blank'>prefiltered_seqs_otus.txt</a><br>\nqiime_test/ucrss_fast/step2_otus/<br>\n&nbsp;&nbsp;<a href='files/qiime_test/ucrss_fast/step2_otus/subsampled_failures_otus.txt' target='_blank'>subsampled_failures_otus.txt</a><br>\n&nbsp;&nbsp;<a href='files/qiime_test/ucrss_fast/step2_otus/subsampled_failures_clusters.uc' target='_blank'>subsampled_failures_clusters.uc</a><br>\n&nbsp;&nbsp;<a href='files/qiime_test/ucrss_fast/step2_otus/subsampled_failures_otus.log' target='_blank'>subsampled_failures_otus.log</a><br>\n&nbsp;&nbsp;<a href='files/qiime_test/ucrss_fast/step2_otus/step2_rep_set.fna' target='_blank'>step2_rep_set.fna</a><br>\nqiime_test/ucrss_fast/step3_otus/<br>\n&nbsp;&nbsp;<a href='files/qiime_test/ucrss_fast/step3_otus/failures_failures.txt' target='_blank'>failures_failures.txt</a><br>\n&nbsp;&nbsp;<a href='files/qiime_test/ucrss_fast/step3_otus/failures_clusters.uc' target='_blank'>failures_clusters.uc</a><br>\n&nbsp;&nbsp;<a href='files/qiime_test/ucrss_fast/step3_otus/failures_otus.log' target='_blank'>failures_otus.log</a><br>\n&nbsp;&nbsp;<a href='files/qiime_test/ucrss_fast/step3_otus/failures_otus.txt' target='_blank'>failures_otus.txt</a><br>\n&nbsp;&nbsp;<a href='files/qiime_test/ucrss_fast/step3_otus/failures_failures.fasta' target='_blank'>failures_failures.fasta</a><br>\nqiime_test/ucrss_fast/step4_otus/<br>\n&nbsp;&nbsp;<a href='files/qiime_test/ucrss_fast/step4_otus/failures_failures_clusters.uc' target='_blank'>failures_failures_clusters.uc</a><br>\n&nbsp;&nbsp;<a href='files/qiime_test/ucrss_fast/step4_otus/step4_rep_set.fna' target='_blank'>step4_rep_set.fna</a><br>\n&nbsp;&nbsp;<a href='files/qiime_test/ucrss_fast/step4_otus/failures_failures_otus.log' target='_blank'>failures_failures_otus.log</a><br>\n&nbsp;&nbsp;<a href='files/qiime_test/ucrss_fast/step4_otus/failures_failures_otus.txt' target='_blank'>failures_failures_otus.txt</a><br>",
       "output_type": "pyout",
       "prompt_number": 12,
       "text": "qiime_test/ucrss_fast/\n  otu_table_mc2_w_tax.biom\n  otu_table_mc2.biom\n  final_otu_map.txt\n  otu_table_mc2_w_tax_no_pynast_failures.biom\n  new_refseqs.fna\n  final_otu_map_mc2.txt\n  rep_set.fna\n  log_20130325180805.txt\n  rep_set.tre\nqiime_test/ucrss_fast/prefilter_otus/\n  seqs_failures.txt\n  seqs_otus.log\n  prefiltered_seqs.fna\n  seqs_otus.txt\n  seqs_clusters.uc\nqiime_test/ucrss_fast/pynast_aligned_seqs/\n  rep_set_aligned.fasta\n  rep_set_log.txt\n  rep_set_aligned_pfiltered.fasta\n  rep_set_failures.fasta\nqiime_test/ucrss_fast/rdp_assigned_taxonomy/\n  rep_set_tax_assignments.txt\n  rep_set_tax_assignments.log\nqiime_test/ucrss_fast/step1_otus/\n  prefiltered_seqs_clusters.uc\n  prefiltered_seqs_otus.log\n  prefiltered_seqs_failures.txt\n  failures.fasta\n  subsampled_failures.fasta\n  step1_rep_set.fna\n  prefiltered_seqs_otus.txt\nqiime_test/ucrss_fast/step2_otus/\n  subsampled_failures_otus.txt\n  subsampled_failures_clusters.uc\n  subsampled_failures_otus.log\n  step2_rep_set.fna\nqiime_test/ucrss_fast/step3_otus/\n  failures_failures.txt\n  failures_clusters.uc\n  failures_otus.log\n  failures_otus.txt\n  failures_failures.fasta\nqiime_test/ucrss_fast/step4_otus/\n  failures_failures_clusters.uc\n  step4_rep_set.fna\n  failures_failures_otus.log\n  failures_failures_otus.txt"
      }
     ],
     "prompt_number": 12
    },
    {
     "cell_type": "code",
     "collapsed": false,
     "input": "!print_biom_table_summary.py -i $base_dir/ucrss_fast/otu_table_mc2_w_tax_no_pynast_failures.biom",
     "language": "python",
     "metadata": {},
     "outputs": [
      {
       "output_type": "stream",
       "stream": "stdout",
       "text": "Num samples: 61\r\nNum observations: 1846\r\nTotal count: 63403.0\r\nTable density (fraction of non-zero values): 0.0859\r\nTable md5 (unzipped): 935d09466cf02aa0840a804a3ec1a7ba\r\n\r\nCounts/sample summary:\r\n Min: 122.0\r\n Max: 2561.0\r\n Median: 891.0\r\n Mean: 1039.39344262\r\n Std. dev.: 758.9929324\r\n Sample Metadata Categories: None provided\r\n Observation Metadata Categories: taxonomy\r\n\r\nCounts/sample detail:\r\n L3S237: 122.0\r\n L3S235: 173.0\r\n L3S372: 186.0\r\n L3S373: 227.0\r\n L3S368: 238.0\r\n L3S370: 242.0\r\n L3S367: 243.0\r\n L3S236: 257.0\r\n L3S369: 260.0\r\n L3S238: 271.0\r\n L3S9: 271.0\r\n L3S8: 275.0\r\n L3S6: 279.0\r\n L3S371: 283.0\r\n L3S7: 301.0\r\n L5S234: 365.0\r\n L5S231: 381.0\r\n L5S235: 414.0\r\n L5S99: 426.0\r\n L5S98: 433.0\r\n L5S230: 442.0\r\n L5S232: 457.0\r\n L5S233: 459.0\r\n L5S229: 505.0\r\n L5S97: 512.0\r\n L5S100: 522.0\r\n L2S236: 584.0\r\n L2S234: 721.0\r\n L2S231: 769.0\r\n L2S229: 844.0\r\n L2S233: 891.0\r\n L2S99: 899.0\r\n L2S230: 935.0\r\n L2S232: 957.0\r\n L2S100: 1029.0\r\n L2S97: 1050.0\r\n L2S235: 1059.0\r\n L1S4: 1079.0\r\n L2S98: 1097.0\r\n L1S3: 1206.0\r\n L1S1: 1312.0\r\n L1S131: 1556.0\r\n L1S134: 1574.0\r\n L1S132: 1698.0\r\n L4S146: 1748.0\r\n L1S129: 1753.0\r\n L1S130: 1766.0\r\n L1S135: 1766.0\r\n L1S133: 1893.0\r\n L1S2: 1899.0\r\n L6S100: 1994.0\r\n L6S101: 2040.0\r\n L1S136: 2063.0\r\n L4S144: 2127.0\r\n L4S145: 2147.0\r\n L6S102: 2206.0\r\n L1S287: 2317.0\r\n L6S103: 2367.0\r\n L4S147: 2441.0\r\n L1S290: 2511.0\r\n L1S289: 2561.0\r\n"
      }
     ],
     "prompt_number": 13
    },
    {
     "cell_type": "heading",
     "level": 2,
     "metadata": {},
     "source": "Create a single mapping file from the per-lane mapping files."
    },
    {
     "cell_type": "code",
     "collapsed": false,
     "input": "!merge_mapping_files.py -o $base_dir/combined_mapping_file.txt -m $data_dir/filtered_mapping_l1.txt,$data_dir/filtered_mapping_l2.txt,$data_dir/filtered_mapping_l3.txt,$data_dir/filtered_mapping_l4.txt,$data_dir/filtered_mapping_l5.txt,$data_dir/filtered_mapping_l6.txt",
     "language": "python",
     "metadata": {},
     "outputs": [],
     "prompt_number": 14
    },
    {
     "cell_type": "code",
     "collapsed": false,
     "input": "!head $base_dir/combined_mapping_file.txt",
     "language": "python",
     "metadata": {},
     "outputs": [
      {
       "output_type": "stream",
       "stream": "stdout",
       "text": "#SampleID\tBarcodeSequence\tLinkerPrimerSequence\tdays_since_epoch\tSamplePlate\ttimestamp\tSampleType\tmonth\tPrimerPlate\tWellID\tyear\tday\tsubject\tDescription\r\nL6S100\tGTCGCTGTCTTC\tGTGCCAGCMGCCGCGGTAA\t14355\t20\t20090421\tTongue\t4\t5\td1\t2009\t21\t2\tRK_Tong_4_21_2009\r\nL2S229\tCAACTCATCGTA\tGTGCCAGCMGCCGCGGTAA\t14355\t7\t20090421\tL_palm\t4\t2\te5\t2009\t21\t1\tAB_L_Palm_4_21_2009\r\nL6S102\tGTTGACGACAGC\tGTGCCAGCMGCCGCGGTAA\t14357\t20\t20090423\tTongue\t4\t5\tf1\t2009\t23\t2\tRK_Tong_4_23_2009\r\nL6S103\tTACGCGCTGAGA\tGTGCCAGCMGCCGCGGTAA\t14358\t20\t20090424\tTongue\t4\t5\tg1\t2009\t24\t2\tRK_Tong_4_24_2009\r\nL3S369\tATACAGAGCTCC\tGTGCCAGCMGCCGCGGTAA\t14357\t12\t20090423\tR_palm\t4\t2\ta11\t2009\t23\t1\tAB_R_Palm_4_23_2009\r\nL3S368\tCATCTGTAGCGA\tGTGCCAGCMGCCGCGGTAA\t14356\t12\t20090422\tR_palm\t4\t2\th10\t2009\t22\t1\tAB_R_Palm_4_22_2009\r\nL2S100\tACGCTCATGGAT\tGTGCCAGCMGCCGCGGTAA\t14176\t6\t20081024\tL_palm\t10\t1\td1\t2008\t24\t1\tAB_L_Palm_10_24_2008\r\nL3S373\tCACATCTAACAC\tGTGCCAGCMGCCGCGGTAA\t14175\t12\t20081023\tR_palm\t10\t2\te11\t2008\t23\t2\tRK_R_Palm_10_23_2008\r\nL3S370\tATCCTCAGTAGT\tGTGCCAGCMGCCGCGGTAA\t14358\t12\t20090424\tR_palm\t4\t2\tb11\t2009\t24\t1\tAB_R_Palm_4_24_2009\r\n"
      }
     ],
     "prompt_number": 15
    },
    {
     "cell_type": "markdown",
     "metadata": {},
     "source": "To view a single file (rather than a directory) we use the ``FileLink`` function instead of the ``FileLinks`` function."
    },
    {
     "cell_type": "code",
     "collapsed": false,
     "input": "FileLink(base_dir+'/combined_mapping_file.txt')",
     "language": "python",
     "metadata": {},
     "outputs": [
      {
       "html": "<a href='files/qiime_test/combined_mapping_file.txt' target='_blank'>qiime_test/combined_mapping_file.txt</a><br>",
       "output_type": "pyout",
       "prompt_number": 16,
       "text": "/mnt/notebook/qiime_test/combined_mapping_file.txt"
      }
     ],
     "prompt_number": 16
    },
    {
     "cell_type": "heading",
     "level": 2,
     "metadata": {},
     "source": "Run diversity analyses"
    },
    {
     "cell_type": "markdown",
     "metadata": {},
     "source": "Here we're running the ``core_diversity_analyses.py`` script which applies many of the \"first-pass\" diversity analyses that users are generally interested in. The main output that users will interact with is the ``index.html`` file, which provides links into the different analysis results."
    },
    {
     "cell_type": "code",
     "collapsed": false,
     "input": "!core_diversity_analyses.py -o $base_dir/cd258/ -i $base_dir/ucrss_fast/otu_table_mc2_w_tax_no_pynast_failures.biom -m $base_dir/combined_mapping_file.txt -t $base_dir/ucrss_fast/rep_set.tre -e 258 -c \"SampleType,days_since_epoch\"",
     "language": "python",
     "metadata": {},
     "outputs": [
      {
       "output_type": "stream",
       "stream": "stdout",
       "text": "This code was only tested with Matplotlib-1.1.0\r\n\r\n"
      },
      {
       "output_type": "stream",
       "stream": "stdout",
       "text": "This code was only tested with Matplotlib-1.1.0\r\n\r\n"
      },
      {
       "output_type": "stream",
       "stream": "stdout",
       "text": "This code was only tested with Matplotlib-1.1.0\r\n\r\n"
      },
      {
       "output_type": "stream",
       "stream": "stdout",
       "text": "This code was only tested with Matplotlib-1.1.0\r\n\r\n"
      },
      {
       "output_type": "stream",
       "stream": "stdout",
       "text": "This code was only tested with Matplotlib-1.1.0\r\n\r\n"
      },
      {
       "output_type": "stream",
       "stream": "stdout",
       "text": "This code was only tested with Matplotlib-1.1.0\r\n\r\n"
      },
      {
       "output_type": "stream",
       "stream": "stdout",
       "text": "This code was only tested with Matplotlib-1.1.0\r\n\r\n"
      },
      {
       "output_type": "stream",
       "stream": "stdout",
       "text": "Warning, the following samples were in the category mapping file but not the OTU table and will be ignored: \r\nL3S368\r\n\r\nL3S373\r\n\r\nL3S370\r\n\r\nL3S367\r\n\r\nL3S372\r\n\r\nL3S237\r\n\r\nL3S236\r\n\r\nL3S235\r\n\r\n\r\n"
      },
      {
       "output_type": "stream",
       "stream": "stdout",
       "text": "Warning, the following samples were in the category mapping file but not the OTU table and will be ignored: \r\nL3S368\r\n\r\nL3S373\r\n\r\nL3S370\r\n\r\nL3S367\r\n\r\nL3S372\r\n\r\nL3S237\r\n\r\nL3S236\r\n\r\nL3S235\r\n\r\n\r\n"
      }
     ],
     "prompt_number": 17
    },
    {
     "cell_type": "code",
     "collapsed": false,
     "input": "FileLink(base_dir+'/cd258/index.html')",
     "language": "python",
     "metadata": {},
     "outputs": [
      {
       "html": "<a href='files/qiime_test/cd258/index.html' target='_blank'>qiime_test/cd258/index.html</a><br>",
       "output_type": "pyout",
       "prompt_number": 18,
       "text": "/mnt/notebook/qiime_test/cd258/index.html"
      }
     ],
     "prompt_number": 18
    },
    {
     "cell_type": "code",
     "collapsed": false,
     "input": "",
     "language": "python",
     "metadata": {},
     "outputs": [],
     "prompt_number": 18
    }
   ],
   "metadata": {}
  }
 ]
}