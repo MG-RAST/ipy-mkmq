{
 "metadata": {
  "created": "2013-02-26T16:57:53.178771",
  "description": "Example of using KBNB to compare functional analysis of metagenomes",
  "name": "KBNB: functional comparison demo",
  "permission": "view",
  "type": "ipynb",
  "user": "public",
  "uuid": "3cb8124c-7d09-4ce3-bf53-352f41104fbd"
 },
 "nbformat": 3,
 "nbformat_minor": 0,
 "worksheets": [
  {
   "cells": [
    {
     "cell_type": "markdown",
     "metadata": {},
     "source": "#KBase Notebook Demonstration \n#Tuesday, February 26, 2013"
    },
    {
     "cell_type": "markdown",
     "metadata": {},
     "source": "###Objective:  Compairing functional abundances of metagenomic sequences.\n###Inputs: KBase metagenome IDs (single or multiple)\n###Outputs:  Flexible visualizations of functional profiles\n- Exploration of results at different levels\n- Subselection\n- View barcharts\n- View heatmaps\n- View PCoAs"
    },
    {
     "cell_type": "heading",
     "level": 4,
     "metadata": {},
     "source": "Initiate the KBase Notebook to have access to KBase functions."
    },
    {
     "cell_type": "code",
     "collapsed": false,
     "input": "init_ipy()",
     "language": "python",
     "metadata": {},
     "outputs": [
      {
       "javascript": "$.getScript(\"http://raw.github.com/MG-RAST/Retina/master/js/bootstrap.min.js\", function () {\n$.getScript(\"http://raw.github.com/MG-RAST/Retina/master/js/retina.js\", function () {\n$.getScript(\"http://raw.github.com/MG-RAST/Retina/master/js/stm.js\", function () {\n$.getScript(\"http://raw.github.com/MG-RAST/Retina/master/js/ipy.js\", function () {\n\n\t\t\t(function(){\n\t\t\t\tRetina.init( { library_resource: 'http://raw.github.com/MG-RAST/Retina/master/js/'});\n\t\t\t})();\n\t\t});\n});\n});\n});\n",
       "output_type": "display_data",
       "text": "<IPython.core.display.Javascript at 0x40a52d0>"
      }
     ],
     "prompt_number": 1
    },
    {
     "cell_type": "heading",
     "level": 4,
     "metadata": {},
     "source": "Load the project of interest.  Here, we load all the WGS metagenomes from Kirsten Hofmockel's MG-RAST project.<br>\nThis is done twice, once for metagenomes with Subsystems annotated functions, and once for metagenomes with KEGG annotated functions."
    },
    {
     "cell_type": "code",
     "collapsed": false,
     "input": "wgs = ['mgm4509396.3','mgm4509397.3','mgm4509398.3','mgm4509399.3','mgm4509400.3','mgm4509401.3','mgm4509402.3','mgm4509403.3','mgm4509404.3','mgm4509405.3','mgm4509406.3','mgm4509407.3','mgm4510006.3','mgm4510007.3','mgm4510008.3','mgm4510009.3','mgm4511166.3','mgm4511167.3','mgm4511168.3','mgm4511169.3','mgm4511170.3','mgm4511171.3','mgm4511172.3','mgm4511173.3','mgm4511174.3','mgm4511175.3','mgm4511176.3','mgm4511177.3','mgm4512893.3','mgm4512894.3','mgm4512895.3','mgm4512896.3','mgm4512897.3','mgm4512898.3','mgm4512899.3','mgm4512900.3','mgm4512901.3','mgm4512902.3','mgm4512903.3','mgm4512946.3','mgm4512947.3','mgm4512948.3','mgm4512949.3','mgm4514436.3','mgm4514437.3','mgm4514438.3','mgm4514706.3','mgm4514707.3']\nsubsystem_data = get_analysis_set(ids=wgs, method='WGS', function_source='Subsystems')\nkegg_data = get_analysis_set(ids=wgs, method='WGS', function_source='KO')",
     "language": "python",
     "metadata": {},
     "outputs": [
      {
       "output_type": "stream",
       "stream": "stdout",
       "text": "Loading AnalysisSet for selected metagenomes from cached object\nLoading AnalysisSet for selected metagenomes from cached object"
      },
      {
       "output_type": "stream",
       "stream": "stdout",
       "text": "\n"
      }
     ],
     "prompt_number": 2
    },
    {
     "cell_type": "heading",
     "level": 4,
     "metadata": {},
     "source": "Select the datasets of interest. One can compare multiple metagenomic datasets. Let's take a look at four of the Hofmockel soil assembled metagenomes."
    },
    {
     "cell_type": "code",
     "collapsed": false,
     "input": "sub_selected_datasets = ['mgm4512946.3', 'mgm4512947.3', 'mgm4512948.3', 'mgm4512949.3']\nsubsystem_data.display_mgs = sub_selected_datasets \nkegg_data.display_mgs = sub_selected_datasets",
     "language": "python",
     "metadata": {},
     "outputs": [],
     "prompt_number": 3
    },
    {
     "cell_type": "heading",
     "level": 4,
     "metadata": {},
     "source": "Let's explore the functional annotations For Subsystems and KEGG at the top level."
    },
    {
     "cell_type": "code",
     "collapsed": false,
     "input": "print 'Subsystems'\nsubsystem_data.barchart(annot='function', level='level1', normalize=1, col_name=False)\nprint 'KEGG'\nkegg_data.barchart(annot='function', level='level1', normalize=1, col_name=False)",
     "language": "python",
     "metadata": {},
     "outputs": [
      {
       "output_type": "stream",
       "stream": "stdout",
       "text": "Subsystems\n"
      },
      {
       "html": "<div id='div_graph_KaDuRl9A'></div>",
       "output_type": "display_data",
       "text": "<IPython.core.display.HTML at 0x5b40d10>"
      },
      {
       "javascript": "\n\t\t\t(function(){\n\t\t\t\tRetina.add_renderer({\"name\": \"graph\", \"resource\": 'http://raw.github.com/MG-RAST/Retina/master/renderers/', \"filename\": \"renderer.graph.js\" });\n\t\t\t\tRetina.load_renderer(\"graph\").then( function () { Retina.Renderer.create('graph', {width: 1160, height: 840, type: 'row', target: document.getElementById('div_graph_KaDuRl9A'), data: [{\"data\": [0.8603434991625544, 0.9085826333599905, 0.5183992995948663, 0.708941685503108, 0.9643299646104238, 0.8199801259638348, 0.7062022812700918, 0.17671474318795516, 0.6782576462638435, 0.385998333736827, 0.8598480753477363, 0.7678359643325481, 0.9605238208565471, 0.6185451615238339, 0.7346623058749562, 0.8158012294375881, 0.7978039523518524, 0.5927964233815813, 0.44583381969998925, 0.5609632810154657, 0.9498719425868623, 0.9076295057994039, 0.8067635150940959, 0.8680335307207525, 0.5792325741605634, 0.8226602644504424, 0.6451521003003515, 0.8070292954877251], \"name\": \"mgm4512946.3\", \"fill\": \"#3366cc\"}, {\"data\": [0.8635625378079321, 0.9080981584939382, 0.5231458217283828, 0.7040482307253115, 0.9633640213847875, 0.8188165787480554, 0.7106455541830646, 0.17961428938957927, 0.6793091458301996, 0.37867817855098057, 0.8629525475571823, 0.7719076942660338, 0.9605603347235477, 0.6211614490738652, 0.7299012808597319, 0.817613270802145, 0.7949262715539197, 0.591011483180498, 0.4427526655500854, 0.5594817223232188, 0.9491672735641757, 0.9067988612539832, 0.8058665618186279, 0.8691685200599815, 0.5852932216859125, 0.8207561300881849, 0.6458501622329267, 0.8042850076395431], \"name\": \"mgm4512947.3\", \"fill\": \"#dc3912\"}, {\"data\": [0.866306467752881, 0.9073874962065289, 0.5420347691709339, 0.6861629490637148, 0.9622386820701139, 0.8222430692439893, 0.7209077833421255, 0.18737173565880022, 0.673443749417349, 0.3496909377792144, 0.860688907020466, 0.7639993033304627, 0.9530176804390486, 0.6128854464941179, 0.7333625493645014, 0.8270599401952016, 0.7928715026790564, 0.5954918170325579, 0.45834339490889775, 0.5429304559436369, 0.9558027527078493, 0.9124051422941573, 0.8067629077247879, 0.8703246467705381, 0.6012571976223251, 0.8133200492198297, 0.6523368891490972, 0.7980887524736113], \"name\": \"mgm4512948.3\", \"fill\": \"#ff9900\"}, {\"data\": [0.8629090062829269, 0.9075274160124848, 0.5201449195557644, 0.7021584701126707, 0.9637132068552104, 0.8240662682398315, 0.709173189570633, 0.1783230388071792, 0.6738637517242115, 0.3947114553142352, 0.8630476930230379, 0.7662800590180765, 0.9611501186687674, 0.6080992031051874, 0.7275256548058721, 0.8158250302210348, 0.7995689947575048, 0.5890759759275291, 0.4493173718735244, 0.5531316426943409, 0.9547962075664931, 0.9117806343241394, 0.8062876093259875, 0.8691490590329372, 0.5841637597181206, 0.8220157314171498, 0.6470724740340217, 0.803859033086928], \"name\": \"mgm4512949.3\", \"fill\": \"#109618\"}], title: '', x_labels: [\"Amino Acids and Derivatives\", \"Carbohydrates\", \"Cell Division and Cell Cycle\", \"Cell Wall and Capsule\", \"Clustering-based subsystems\", \"Cofactors, Vitamins, Prosthetic Groups, Pigments\", \"DNA Metabolism\", \"Dormancy and Sporulation\", \"Fatty Acids, Lipids, and Isoprenoids\", \"Iron acquisition and metabolism\", \"Membrane Transport\", \"Metabolism of Aromatic Compounds\", \"Miscellaneous\", \"Motility and Chemotaxis\", \"Nitrogen Metabolism\", \"Nucleosides and Nucleotides\", \"Phages, Prophages, Transposable elements, Plasmids\", \"Phosphorus Metabolism\", \"Photosynthesis\", \"Potassium metabolism\", \"Protein Metabolism\", \"RNA Metabolism\", \"Regulation and Cell signaling\", \"Respiration\", \"Secondary Metabolism\", \"Stress Response\", \"Sulfur Metabolism\", \"Virulence, Disease and Defense\"], x_title: '', y_title: '', show_legend: true, legend_position: 'left', title_color: 'black', x_title_color: 'black', y_title_color: 'black', x_labels_rotation: '0', x_tick_interval: 0.000000, y_tick_interval: 30.000000, x_labeled_tick_interval: 1.000000, y_labeled_tick_interval: 0.100000, default_line_color: 'black', default_line_width: 1, chartArea: [360, 0.02, 0.85, 0.95], legendArea: [0.87, 0.05, 0.2, 140]}).render(); });\n                        })();\n\t\t",
       "output_type": "display_data",
       "text": "<IPython.core.display.Javascript at 0x5b40d10>"
      },
      {
       "output_type": "stream",
       "stream": "stdout",
       "text": "KEGG\n"
      },
      {
       "html": "<div id='div_graph_DrHaoWaI'></div>",
       "output_type": "display_data",
       "text": "<IPython.core.display.HTML at 0x5b40d10>"
      },
      {
       "javascript": "\n\t\t\t(function(){\n\t\t\t\tRetina.add_renderer({\"name\": \"graph\", \"resource\": 'http://raw.github.com/MG-RAST/Retina/master/renderers/', \"filename\": \"renderer.graph.js\" });\n\t\t\t\tRetina.load_renderer(\"graph\").then( function () { Retina.Renderer.create('graph', {width: 1059, height: 180, type: 'row', target: document.getElementById('div_graph_DrHaoWaI'), data: [{\"data\": [0.35008104141360247, 0.6125018785885423, 0.5343334259904433, 0.05015720952310753, 0.898972569730131, 0.060779211316748835], \"name\": \"mgm4512946.3\", \"fill\": \"#3366cc\"}, {\"data\": [0.34604665949740604, 0.612894311538059, 0.5326772962771048, 0.053288418786522324, 0.9010621733650375, 0.06085647709844778], \"name\": \"mgm4512947.3\", \"fill\": \"#dc3912\"}, {\"data\": [0.34106965329789807, 0.5974814097626416, 0.5559817983236159, 0.05833453418510109, 0.8993176606106908, 0.05464028038262556], \"name\": \"mgm4512948.3\", \"fill\": \"#ff9900\"}, {\"data\": [0.34506335358741475, 0.6085840405079809, 0.5436883292548071, 0.042042848368065454, 0.8977309681403266, 0.06971579670397945], \"name\": \"mgm4512949.3\", \"fill\": \"#109618\"}], title: '', x_labels: [\"Cellular Processes\", \"Environmental Information Processing\", \"Genetic Information Processing\", \"Human Diseases\", \"Metabolism\", \"Organismal Systems\"], x_title: '', y_title: '', show_legend: true, legend_position: 'left', title_color: 'black', x_title_color: 'black', y_title_color: 'black', x_labels_rotation: '0', x_tick_interval: 0.000000, y_tick_interval: 30.000000, x_labeled_tick_interval: 1.000000, y_labeled_tick_interval: 0.100000, default_line_color: 'black', default_line_width: 1, chartArea: [259, 0.02, 0.85, 0.95], legendArea: [0.87, 0.05, 0.2, 140]}).render(); });\n                        })();\n\t\t",
       "output_type": "display_data",
       "text": "<IPython.core.display.Javascript at 0x5b40d10>"
      }
     ],
     "prompt_number": 4
    },
    {
     "cell_type": "code",
     "collapsed": false,
     "input": "print 'Subsystems'\nsubsystem_data.heatmap(annot='function', level='level1', normalize=1, col_name=False)\nprint 'KEGG'\nkegg_data.heatmap(annot='function', level='level1', normalize=1, col_name=False)",
     "language": "python",
     "metadata": {},
     "outputs": [
      {
       "output_type": "stream",
       "stream": "stdout",
       "text": "Subsystems\n"
      },
      {
       "html": "<div id='div_heatmap_pj69syu5'></div>",
       "output_type": "display_data",
       "text": "<IPython.core.display.HTML at 0x5b402d0>"
      },
      {
       "javascript": "\n            (function(){\n                Retina.add_renderer({ name: 'heatmap', resource: 'http://raw.github.com/MG-RAST/Retina/master/renderers/', filename: 'renderer.heatmap.js' });\n                Retina.load_renderer('heatmap').then( function () {\n                    window.heatmap_uSCMGIgp = Retina.Renderer.create('heatmap', {width: 1060, height: 600, target: document.getElementById('div_heatmap_pj69syu5'), data: {\"colindex\": [2, 1, 4, 3], \"rows\": [\"Amino Acids and Derivatives\", \"Carbohydrates\", \"Cell Division and Cell Cycle\", \"Cell Wall and Capsule\", \"Clustering-based subsystems\", \"Cofactors, Vitamins, Prosthetic Groups, Pigments\", \"DNA Metabolism\", \"Dormancy and Sporulation\", \"Fatty Acids, Lipids, and Isoprenoids\", \"Iron acquisition and metabolism\", \"Membrane Transport\", \"Metabolism of Aromatic Compounds\", \"Miscellaneous\", \"Motility and Chemotaxis\", \"Nitrogen Metabolism\", \"Nucleosides and Nucleotides\", \"Phages, Prophages, Transposable elements, Plasmids\", \"Phosphorus Metabolism\", \"Photosynthesis\", \"Potassium metabolism\", \"Protein Metabolism\", \"RNA Metabolism\", \"Regulation and Cell signaling\", \"Respiration\", \"Secondary Metabolism\", \"Stress Response\", \"Sulfur Metabolism\", \"Virulence, Disease and Defense\"], \"rowindex\": [12, 16, 6, 26, 17, 23, 28, 21, 5, 13, 2, 22, 24, 1, 11, 15, 4, 7, 9, 27, 14, 18, 25, 3, 20, 8, 10, 19], \"rowdend\": [[-1, -11, 0.000994492887776016], [-2, -22, 0.00158500090662112], [-23, -28, 0.00201121002333012], [-6, -26, 0.00237562210465378], [-5, -13, 0.00239227008065668], [-16, 4, 0.00412595580391847], [-24, 1, 0.0048366614809829], [-21, 5, 0.0057503917883202], [-18, -25, 0.00634965240597161], [-17, 3, 0.00646913327580895], [-4, -7, 0.00904640739883378], [-15, 11, 0.020504844048218], [-9, -27, 0.0216159560165309], [6, 10, 0.0258273780607703], [-14, 9, 0.0259750477881704], [-3, -20, 0.0261056105835555], [-12, 14, 0.0413569499543396], [2, 7, 0.0563789447009813], [12, 13, 0.0669346073832461], [-10, -19, 0.0868804871216319], [15, 16, 0.0942957906074514], [8, 18, 0.126118773362479], [17, 22, 0.32194911097952], [19, 21, 0.332623871426225], [-8, 20, 0.490597756107235], [24, 25, 0.912510389386731], [23, 26, 1.68677140336413]], \"coldend\": [[-1, -2, 0.00177093536830327], [-4, 1, 0.00253004594183929], [-3, 2, 0.0075229383874903]], \"data\": [[0.860343499163, 0.863562537808, 0.866306467753, 0.862909006283], [0.90858263336, 0.908098158494, 0.907387496207, 0.907527416012], [0.518399299595, 0.523145821728, 0.542034769171, 0.520144919556], [0.708941685503, 0.704048230725, 0.686162949064, 0.702158470113], [0.96432996461, 0.963364021385, 0.96223868207, 0.963713206855], [0.819980125964, 0.818816578748, 0.822243069244, 0.82406626824], [0.70620228127, 0.710645554183, 0.720907783342, 0.709173189571], [0.176714743188, 0.17961428939, 0.187371735659, 0.178323038807], [0.678257646264, 0.67930914583, 0.673443749417, 0.673863751724], [0.385998333737, 0.378678178551, 0.349690937779, 0.394711455314], [0.859848075348, 0.862952547557, 0.86068890702, 0.863047693023], [0.767835964333, 0.771907694266, 0.76399930333, 0.766280059018], [0.960523820857, 0.960560334724, 0.953017680439, 0.961150118669], [0.618545161524, 0.621161449074, 0.612885446494, 0.608099203105], [0.734662305875, 0.72990128086, 0.733362549365, 0.727525654806], [0.815801229438, 0.817613270802, 0.827059940195, 0.815825030221], [0.797803952352, 0.794926271554, 0.792871502679, 0.799568994758], [0.592796423382, 0.59101148318, 0.595491817033, 0.589075975928], [0.4458338197, 0.44275266555, 0.458343394909, 0.449317371874], [0.560963281015, 0.559481722323, 0.542930455944, 0.553131642694], [0.949871942587, 0.949167273564, 0.955802752708, 0.954796207566], [0.907629505799, 0.906798861254, 0.912405142294, 0.911780634324], [0.806763515094, 0.805866561819, 0.806762907725, 0.806287609326], [0.868033530721, 0.86916852006, 0.870324646771, 0.869149059033], [0.579232574161, 0.585293221686, 0.601257197622, 0.584163759718], [0.82266026445, 0.820756130088, 0.81332004922, 0.822015731417], [0.6451521003, 0.645850162233, 0.652336889149, 0.647072474034], [0.807029295488, 0.80428500764, 0.798088752474, 0.803859033087]], \"columns\": [\"mgm4512946.3\", \"mgm4512947.3\", \"mgm4512948.3\", \"mgm4512949.3\"]}, selectedRows: [], tree_height: 50, tree_width: 200, legend_height: 250, legend_width: 360, row_text_size: 15, col_text_size: 15, min_cell_height: 19} );\n                    window.heatmap_uSCMGIgp.render();\n                });\n            })();\n        ",
       "output_type": "display_data",
       "text": "<IPython.core.display.Javascript at 0x5b402d0>"
      },
      {
       "output_type": "stream",
       "stream": "stdout",
       "text": "KEGG\n"
      },
      {
       "html": "<div id='div_heatmap_wQoanI7q'></div>",
       "output_type": "display_data",
       "text": "<IPython.core.display.HTML at 0x5b40490>"
      },
      {
       "javascript": "\n            (function(){\n                Retina.add_renderer({ name: 'heatmap', resource: 'http://raw.github.com/MG-RAST/Retina/master/renderers/', filename: 'renderer.heatmap.js' });\n                Retina.load_renderer('heatmap').then( function () {\n                    window.heatmap_TArh4S9R = Retina.Renderer.create('heatmap', {width: 959, height: 600, target: document.getElementById('div_heatmap_wQoanI7q'), data: {\"colindex\": [2, 1, 4, 3], \"rows\": [\"Cellular Processes\", \"Environmental Information Processing\", \"Genetic Information Processing\", \"Human Diseases\", \"Metabolism\", \"Organismal Systems\"], \"rowindex\": [4, 6, 1, 5, 2, 3], \"rowdend\": [[-2, -3, 0.0575842943348955], [-4, -6, 0.110172597362035], [-5, 1, 0.27515324317479], [-1, 3, 0.38728734174606], [2, 4, 1.85029097703612]], \"coldend\": [[-1, -2, 0.00227000722649212], [-4, 1, 0.00939211437570868], [-3, 2, 0.0147748230883478]], \"data\": [[0.350081041414, 0.346046659497, 0.341069653298, 0.345063353587], [0.612501878589, 0.612894311538, 0.597481409763, 0.608584040508], [0.53433342599, 0.532677296277, 0.555981798324, 0.543688329255], [0.0501572095231, 0.0532884187865, 0.0583345341851, 0.0420428483681], [0.89897256973, 0.901062173365, 0.899317660611, 0.89773096814], [0.0607792113167, 0.0608564770984, 0.0546402803826, 0.069715796704]], \"columns\": [\"mgm4512946.3\", \"mgm4512947.3\", \"mgm4512948.3\", \"mgm4512949.3\"]}, selectedRows: [], tree_height: 50, tree_width: 200, legend_height: 250, legend_width: 259, row_text_size: 15, col_text_size: 15, min_cell_height: 19} );\n                    window.heatmap_TArh4S9R.render();\n                });\n            })();\n        ",
       "output_type": "display_data",
       "text": "<IPython.core.display.Javascript at 0x5b40490>"
      }
     ],
     "prompt_number": 5
    },
    {
     "cell_type": "heading",
     "level": 4,
     "metadata": {},
     "source": "Now we create groupings for our datasets.\nWe bin the metagenomes by agacultural treatment ('PF' and 'CC') and by soil type ('Micro', 'MM', 'SM', 'LM', 'WS')."
    },
    {
     "cell_type": "code",
     "collapsed": false,
     "input": "grouped_mgs = []\ncrops = {}\nsoils = {}\nctype = set()\nstype = set()\nfor mg in subsystem_data.level1['abundance'].biom['columns']:\n    if mg['name'].startswith('P') or mg['name'].startswith('C'):\n        grouped_mgs.append(mg['id'])\n        parts = mg['name'].strip().split('-')\n        crops[mg['id']] = filter(lambda x: not x.isdigit(), parts[0])\n        soils[mg['id']] = parts[1]\n        ctype.add(filter(lambda x: not x.isdigit(), parts[0]))\n        stype.add(parts[1])\nctype = list(ctype)\nstype = list(stype)",
     "language": "python",
     "metadata": {},
     "outputs": [],
     "prompt_number": 11
    },
    {
     "cell_type": "heading",
     "level": 4,
     "metadata": {},
     "source": "Next we create colored sets of the above groupings for using in PCoA analysis."
    },
    {
     "cell_type": "code",
     "collapsed": false,
     "input": "colors = google_palette(10)\ncrop_colors = dict([(ctype[i], colors[i]) for i in range(len(ctype))])\nsoil_colors = dict([(stype[i], colors[i]) for i in range(len(stype))])\n\ndef color_groups(group, args):\n    mmap = crops if group == 'crop' else soils\n    cmap = crop_colors if group == 'crop' else soil_colors\n    for s in args['data']['series']:\n        mg = s['name']\n        s['name'] = mmap[mg]\n        s['color'] = cmap[mmap[mg]]\n    return args",
     "language": "python",
     "metadata": {},
     "outputs": [],
     "prompt_number": 20
    },
    {
     "cell_type": "heading",
     "level": 4,
     "metadata": {},
     "source": "Here we can explore the changes in PCoA plots at different levels between Subsystems and KEGG.<br>\nA different data set can be viewed, in this case grouped metagenomes."
    },
    {
     "cell_type": "code",
     "collapsed": false,
     "input": "subsystem_data.display_mgs = grouped_mgs\nkegg_data.display_mgs = grouped_mgs",
     "language": "python",
     "metadata": {},
     "outputs": [],
     "prompt_number": 13
    },
    {
     "cell_type": "heading",
     "level": 4,
     "metadata": {},
     "source": "First we look at the top level."
    },
    {
     "cell_type": "code",
     "collapsed": false,
     "input": "sargs = subsystem_data.pco(title='Subsystems level 1', annot='function', level='level1', normalize=1, col_name=False, arg_list=True)\nkargs = kegg_data.pco(title='KEGG level 1', annot='function', level='level1', normalize=1, col_name=False, arg_list=True)\nsargs = color_groups('soil', sargs)\nkargs = color_groups('soil', kargs)\nIpy.RETINA.plot(**sargs)\nIpy.RETINA.plot(**kargs)",
     "language": "python",
     "metadata": {},
     "outputs": [
      {
       "html": "<div id='div_pco_XRcemkn5'></div>",
       "output_type": "display_data",
       "text": "<IPython.core.display.HTML at 0x140d2750>"
      },
      {
       "javascript": "\n\t\t\t(function(){\n\t\t\t\tRetina.add_renderer({\"name\": \"plot\", \"resource\": 'http://raw.github.com/MG-RAST/Retina/master/renderers/', \"filename\": \"renderer.plot.js\" });\n\t\t\t\tRetina.load_renderer(\"plot\").then( function () { Retina.Renderer.create('plot', {width: 700, height: 600, target: document.getElementById('div_pco_XRcemkn5'), data: {\"series\": [{\"color\": \"#990099\", \"shape\": \"circle\", \"name\": \"SM\", \"filled\": 1}, {\"color\": \"#990099\", \"shape\": \"circle\", \"name\": \"SM\", \"filled\": 1}, {\"color\": \"#dc3912\", \"shape\": \"circle\", \"name\": \"Micro\", \"filled\": 1}, {\"color\": \"#dc3912\", \"shape\": \"circle\", \"name\": \"Micro\", \"filled\": 1}, {\"color\": \"#ff9900\", \"shape\": \"circle\", \"name\": \"LM\", \"filled\": 1}, {\"color\": \"#dc3912\", \"shape\": \"circle\", \"name\": \"Micro\", \"filled\": 1}, {\"color\": \"#ff9900\", \"shape\": \"circle\", \"name\": \"LM\", \"filled\": 1}, {\"color\": \"#109618\", \"shape\": \"circle\", \"name\": \"WS\", \"filled\": 1}, {\"color\": \"#990099\", \"shape\": \"circle\", \"name\": \"SM\", \"filled\": 1}, {\"color\": \"#dc3912\", \"shape\": \"circle\", \"name\": \"Micro\", \"filled\": 1}, {\"color\": \"#ff9900\", \"shape\": \"circle\", \"name\": \"LM\", \"filled\": 1}, {\"color\": \"#109618\", \"shape\": \"circle\", \"name\": \"WS\", \"filled\": 1}, {\"color\": \"#109618\", \"shape\": \"circle\", \"name\": \"WS\", \"filled\": 1}, {\"color\": \"#ff9900\", \"shape\": \"circle\", \"name\": \"LM\", \"filled\": 1}, {\"color\": \"#3366cc\", \"shape\": \"circle\", \"name\": \"MM\", \"filled\": 1}, {\"color\": \"#3366cc\", \"shape\": \"circle\", \"name\": \"MM\", \"filled\": 1}, {\"color\": \"#3366cc\", \"shape\": \"circle\", \"name\": \"MM\", \"filled\": 1}, {\"color\": \"#3366cc\", \"shape\": \"circle\", \"name\": \"MM\", \"filled\": 1}, {\"color\": \"#990099\", \"shape\": \"circle\", \"name\": \"SM\", \"filled\": 1}, {\"color\": \"#dc3912\", \"shape\": \"circle\", \"name\": \"Micro\", \"filled\": 1}, {\"color\": \"#dc3912\", \"shape\": \"circle\", \"name\": \"Micro\", \"filled\": 1}, {\"color\": \"#dc3912\", \"shape\": \"circle\", \"name\": \"Micro\", \"filled\": 1}, {\"color\": \"#dc3912\", \"shape\": \"circle\", \"name\": \"Micro\", \"filled\": 1}, {\"color\": \"#109618\", \"shape\": \"circle\", \"name\": \"WS\", \"filled\": 1}, {\"color\": \"#ff9900\", \"shape\": \"circle\", \"name\": \"LM\", \"filled\": 1}, {\"color\": \"#dc3912\", \"shape\": \"circle\", \"name\": \"Micro\", \"filled\": 1}, {\"color\": \"#990099\", \"shape\": \"circle\", \"name\": \"SM\", \"filled\": 1}, {\"color\": \"#109618\", \"shape\": \"circle\", \"name\": \"WS\", \"filled\": 1}, {\"color\": \"#dc3912\", \"shape\": \"circle\", \"name\": \"Micro\", \"filled\": 1}, {\"color\": \"#109618\", \"shape\": \"circle\", \"name\": \"WS\", \"filled\": 1}, {\"color\": \"#ff9900\", \"shape\": \"circle\", \"name\": \"LM\", \"filled\": 1}, {\"color\": \"#dc3912\", \"shape\": \"circle\", \"name\": \"Micro\", \"filled\": 1}, {\"color\": \"#990099\", \"shape\": \"circle\", \"name\": \"SM\", \"filled\": 1}, {\"color\": \"#ff9900\", \"shape\": \"circle\", \"name\": \"LM\", \"filled\": 1}, {\"color\": \"#dc3912\", \"shape\": \"circle\", \"name\": \"Micro\", \"filled\": 1}], \"points\": [[{\"y\": 1.61294045745966, \"x\": -0.809800429215488}], [{\"y\": -4.59587570233143, \"x\": -1.1267429237773}], [{\"y\": -2.99270728033144, \"x\": -1.5929807155885}], [{\"y\": 1.67328569215275, \"x\": -0.59471490596683}], [{\"y\": 0.966169364543122, \"x\": -1.7489150942485}], [{\"y\": 1.61397767776833, \"x\": -1.70110530482201}], [{\"y\": -3.207968037124, \"x\": -1.615487441419}], [{\"y\": 0.899094180330311, \"x\": -1.841431795675}], [{\"y\": 1.85658330487484, \"x\": -0.166700725907349}], [{\"y\": 1.17652827798431, \"x\": -1.14475453680377}], [{\"y\": -3.11263327756445, \"x\": -1.71990919535991}], [{\"y\": -5.06242197423918, \"x\": -0.783187512771314}], [{\"y\": 1.74251516784143, \"x\": -1.74560864637321}], [{\"y\": 1.77130148173821, \"x\": -1.35016490054219}], [{\"y\": 1.77972422903061, \"x\": -0.697901022407795}], [{\"y\": -1.63086409794217, \"x\": 1.64362293277569}], [{\"y\": 1.95021104989727, \"x\": -1.24663509647288}], [{\"y\": -2.91647877767399, \"x\": -1.41682976460762}], [{\"y\": 1.6140910713374, \"x\": -2.00610613923384}], [{\"y\": 1.76739455850206, \"x\": -1.43119680278523}], [{\"y\": -4.45011442732194, \"x\": 1.05478531277832}], [{\"y\": -1.48943049914808, \"x\": 1.95328592374199}], [{\"y\": 1.77605806202587, \"x\": -1.34929379633011}], [{\"y\": 1.65217727880227, \"x\": -1.62582559463015}], [{\"y\": 0.616490984348351, \"x\": 1.98162485943262}], [{\"y\": 0.392802450382061, \"x\": 2.12635794350051}], [{\"y\": 0.43541209008887, \"x\": 2.13601602501331}], [{\"y\": 0.517395173298265, \"x\": 2.11192166082267}], [{\"y\": 0.430972121982302, \"x\": 2.1849225979417}], [{\"y\": 0.444305598687467, \"x\": 2.15888297625967}], [{\"y\": 0.584334631247251, \"x\": 2.04707323715202}], [{\"y\": 0.469656021341472, \"x\": 2.10883227565873}], [{\"y\": 0.435465377062932, \"x\": 2.09299264395672}], [{\"y\": 0.694122559375825, \"x\": 2.04913440329625}], [{\"y\": 0.585485211573412, \"x\": 2.06583955260783}]]}, title: 'Subsystems level 1', show_legend: true, legend_position: 'right', connected: false, show_dots: true, x_min: -2.425209, x_max: 2.604025, y_min: -5.763685, y_max: 2.651474, x_title: 'PCO1 r^2 0.45553', y_title: 'PCO2 r^2 0.29278'}).render(); });\n                        })();\n\t\t",
       "output_type": "display_data",
       "text": "<IPython.core.display.Javascript at 0x140d2750>"
      },
      {
       "html": "<div id='div_pco_eeE28d3n'></div>",
       "output_type": "display_data",
       "text": "<IPython.core.display.HTML at 0x140d2bd0>"
      },
      {
       "javascript": "\n\t\t\t(function(){\n\t\t\t\tRetina.add_renderer({\"name\": \"plot\", \"resource\": 'http://raw.github.com/MG-RAST/Retina/master/renderers/', \"filename\": \"renderer.plot.js\" });\n\t\t\t\tRetina.load_renderer(\"plot\").then( function () { Retina.Renderer.create('plot', {width: 700, height: 600, target: document.getElementById('div_pco_eeE28d3n'), data: {\"series\": [{\"color\": \"#990099\", \"shape\": \"circle\", \"name\": \"SM\", \"filled\": 1}, {\"color\": \"#990099\", \"shape\": \"circle\", \"name\": \"SM\", \"filled\": 1}, {\"color\": \"#dc3912\", \"shape\": \"circle\", \"name\": \"Micro\", \"filled\": 1}, {\"color\": \"#dc3912\", \"shape\": \"circle\", \"name\": \"Micro\", \"filled\": 1}, {\"color\": \"#ff9900\", \"shape\": \"circle\", \"name\": \"LM\", \"filled\": 1}, {\"color\": \"#dc3912\", \"shape\": \"circle\", \"name\": \"Micro\", \"filled\": 1}, {\"color\": \"#ff9900\", \"shape\": \"circle\", \"name\": \"LM\", \"filled\": 1}, {\"color\": \"#109618\", \"shape\": \"circle\", \"name\": \"WS\", \"filled\": 1}, {\"color\": \"#990099\", \"shape\": \"circle\", \"name\": \"SM\", \"filled\": 1}, {\"color\": \"#dc3912\", \"shape\": \"circle\", \"name\": \"Micro\", \"filled\": 1}, {\"color\": \"#ff9900\", \"shape\": \"circle\", \"name\": \"LM\", \"filled\": 1}, {\"color\": \"#109618\", \"shape\": \"circle\", \"name\": \"WS\", \"filled\": 1}, {\"color\": \"#109618\", \"shape\": \"circle\", \"name\": \"WS\", \"filled\": 1}, {\"color\": \"#ff9900\", \"shape\": \"circle\", \"name\": \"LM\", \"filled\": 1}, {\"color\": \"#3366cc\", \"shape\": \"circle\", \"name\": \"MM\", \"filled\": 1}, {\"color\": \"#3366cc\", \"shape\": \"circle\", \"name\": \"MM\", \"filled\": 1}, {\"color\": \"#3366cc\", \"shape\": \"circle\", \"name\": \"MM\", \"filled\": 1}, {\"color\": \"#3366cc\", \"shape\": \"circle\", \"name\": \"MM\", \"filled\": 1}, {\"color\": \"#990099\", \"shape\": \"circle\", \"name\": \"SM\", \"filled\": 1}, {\"color\": \"#dc3912\", \"shape\": \"circle\", \"name\": \"Micro\", \"filled\": 1}, {\"color\": \"#dc3912\", \"shape\": \"circle\", \"name\": \"Micro\", \"filled\": 1}, {\"color\": \"#dc3912\", \"shape\": \"circle\", \"name\": \"Micro\", \"filled\": 1}, {\"color\": \"#dc3912\", \"shape\": \"circle\", \"name\": \"Micro\", \"filled\": 1}, {\"color\": \"#109618\", \"shape\": \"circle\", \"name\": \"WS\", \"filled\": 1}, {\"color\": \"#ff9900\", \"shape\": \"circle\", \"name\": \"LM\", \"filled\": 1}, {\"color\": \"#dc3912\", \"shape\": \"circle\", \"name\": \"Micro\", \"filled\": 1}, {\"color\": \"#990099\", \"shape\": \"circle\", \"name\": \"SM\", \"filled\": 1}, {\"color\": \"#109618\", \"shape\": \"circle\", \"name\": \"WS\", \"filled\": 1}, {\"color\": \"#dc3912\", \"shape\": \"circle\", \"name\": \"Micro\", \"filled\": 1}, {\"color\": \"#109618\", \"shape\": \"circle\", \"name\": \"WS\", \"filled\": 1}, {\"color\": \"#ff9900\", \"shape\": \"circle\", \"name\": \"LM\", \"filled\": 1}, {\"color\": \"#dc3912\", \"shape\": \"circle\", \"name\": \"Micro\", \"filled\": 1}, {\"color\": \"#990099\", \"shape\": \"circle\", \"name\": \"SM\", \"filled\": 1}, {\"color\": \"#ff9900\", \"shape\": \"circle\", \"name\": \"LM\", \"filled\": 1}, {\"color\": \"#dc3912\", \"shape\": \"circle\", \"name\": \"Micro\", \"filled\": 1}], \"points\": [[{\"y\": 0.177401723364145, \"x\": -0.546296215370832}], [{\"y\": 3.65050510611571, \"x\": -0.82611294739469}], [{\"y\": 1.30447669880805, \"x\": -0.704171218319112}], [{\"y\": -1.45710604928797, \"x\": -0.39777666331665}], [{\"y\": -0.113492115423205, \"x\": -0.532644065873385}], [{\"y\": 0.690181974332445, \"x\": -0.581397253832432}], [{\"y\": -1.19362265925032, \"x\": -0.615864078405455}], [{\"y\": 1.04469438763889, \"x\": -0.539939122064406}], [{\"y\": -0.732321827111787, \"x\": -0.254047042350613}], [{\"y\": 0.849270082067724, \"x\": -0.804763729592855}], [{\"y\": 0.675023309446966, \"x\": -0.454435885752921}], [{\"y\": 3.99620681583538, \"x\": -0.711210392028577}], [{\"y\": -0.113583017959939, \"x\": -0.577135301503869}], [{\"y\": -1.5812822106148, \"x\": -0.909600780080128}], [{\"y\": -0.88882125664552, \"x\": -0.566075571701712}], [{\"y\": -0.528472700043084, \"x\": 0.0224695558453975}], [{\"y\": -0.996957872416163, \"x\": -0.364443635747626}], [{\"y\": -1.49950416414968, \"x\": -0.574003397957195}], [{\"y\": -0.0681644908445554, \"x\": -0.568545963721074}], [{\"y\": -1.17400208450865, \"x\": -0.327915452512299}], [{\"y\": 2.38802564131434, \"x\": -0.328680042484844}], [{\"y\": -1.69206298451634, \"x\": 0.707047753199879}], [{\"y\": -2.19116481691843, \"x\": -0.461851292951492}], [{\"y\": -3.28967432898953, \"x\": -0.507372744627781}], [{\"y\": -0.0466141310733646, \"x\": 0.993679804989135}], [{\"y\": 0.545452890511953, \"x\": 1.08265590555889}], [{\"y\": 0.143062098593057, \"x\": 1.03883123838068}], [{\"y\": -0.0377862664244302, \"x\": 1.01611944366433}], [{\"y\": 0.400388332758821, \"x\": 1.06097512074017}], [{\"y\": 0.659917686518999, \"x\": 1.05477541382001}], [{\"y\": 0.291423453986193, \"x\": 1.02119560031509}], [{\"y\": 0.344253351365805, \"x\": 1.06369553333006}], [{\"y\": 0.44027262121759, \"x\": 1.07253015203411}], [{\"y\": -0.227499535002966, \"x\": 0.989360522703045}], [{\"y\": 0.231576337304665, \"x\": 1.03094675300914}]]}, title: 'KEGG level 1', show_legend: true, legend_position: 'right', connected: false, show_dots: true, x_min: -1.108826, x_max: 1.281882, y_min: -4.018262, y_max: 4.724795, x_title: 'PCO1 r^2 0.61705', y_title: 'PCO2 r^2 0.16940'}).render(); });\n                        })();\n\t\t",
       "output_type": "display_data",
       "text": "<IPython.core.display.Javascript at 0x140d9790>"
      }
     ],
     "prompt_number": 26
    },
    {
     "cell_type": "heading",
     "level": 4,
     "metadata": {},
     "source": "Next the second level down"
    },
    {
     "cell_type": "code",
     "collapsed": false,
     "input": "sargs = subsystem_data.pco(title='Subsystems level 2', annot='function', level='level2', normalize=1, col_name=False, arg_list=True)\nkargs = kegg_data.pco(title='KEGG level 2', annot='function', level='level2', normalize=1, col_name=False, arg_list=True)\nsargs = color_groups('soil', sargs)\nkargs = color_groups('soil', kargs)\nIpy.RETINA.plot(**sargs)\nIpy.RETINA.plot(**kargs)",
     "language": "python",
     "metadata": {},
     "outputs": [
      {
       "html": "<div id='div_pco_rfAO5Zlf'></div>",
       "output_type": "display_data",
       "text": "<IPython.core.display.HTML at 0x2ca44790>"
      },
      {
       "javascript": "\n\t\t\t(function(){\n\t\t\t\tRetina.add_renderer({\"name\": \"plot\", \"resource\": 'http://raw.github.com/MG-RAST/Retina/master/renderers/', \"filename\": \"renderer.plot.js\" });\n\t\t\t\tRetina.load_renderer(\"plot\").then( function () { Retina.Renderer.create('plot', {width: 700, height: 600, target: document.getElementById('div_pco_rfAO5Zlf'), data: {\"series\": [{\"color\": \"#990099\", \"shape\": \"circle\", \"name\": \"SM\", \"filled\": 1}, {\"color\": \"#990099\", \"shape\": \"circle\", \"name\": \"SM\", \"filled\": 1}, {\"color\": \"#dc3912\", \"shape\": \"circle\", \"name\": \"Micro\", \"filled\": 1}, {\"color\": \"#dc3912\", \"shape\": \"circle\", \"name\": \"Micro\", \"filled\": 1}, {\"color\": \"#ff9900\", \"shape\": \"circle\", \"name\": \"LM\", \"filled\": 1}, {\"color\": \"#dc3912\", \"shape\": \"circle\", \"name\": \"Micro\", \"filled\": 1}, {\"color\": \"#ff9900\", \"shape\": \"circle\", \"name\": \"LM\", \"filled\": 1}, {\"color\": \"#109618\", \"shape\": \"circle\", \"name\": \"WS\", \"filled\": 1}, {\"color\": \"#990099\", \"shape\": \"circle\", \"name\": \"SM\", \"filled\": 1}, {\"color\": \"#dc3912\", \"shape\": \"circle\", \"name\": \"Micro\", \"filled\": 1}, {\"color\": \"#ff9900\", \"shape\": \"circle\", \"name\": \"LM\", \"filled\": 1}, {\"color\": \"#109618\", \"shape\": \"circle\", \"name\": \"WS\", \"filled\": 1}, {\"color\": \"#109618\", \"shape\": \"circle\", \"name\": \"WS\", \"filled\": 1}, {\"color\": \"#ff9900\", \"shape\": \"circle\", \"name\": \"LM\", \"filled\": 1}, {\"color\": \"#3366cc\", \"shape\": \"circle\", \"name\": \"MM\", \"filled\": 1}, {\"color\": \"#3366cc\", \"shape\": \"circle\", \"name\": \"MM\", \"filled\": 1}, {\"color\": \"#3366cc\", \"shape\": \"circle\", \"name\": \"MM\", \"filled\": 1}, {\"color\": \"#3366cc\", \"shape\": \"circle\", \"name\": \"MM\", \"filled\": 1}, {\"color\": \"#990099\", \"shape\": \"circle\", \"name\": \"SM\", \"filled\": 1}, {\"color\": \"#dc3912\", \"shape\": \"circle\", \"name\": \"Micro\", \"filled\": 1}, {\"color\": \"#dc3912\", \"shape\": \"circle\", \"name\": \"Micro\", \"filled\": 1}, {\"color\": \"#dc3912\", \"shape\": \"circle\", \"name\": \"Micro\", \"filled\": 1}, {\"color\": \"#dc3912\", \"shape\": \"circle\", \"name\": \"Micro\", \"filled\": 1}, {\"color\": \"#109618\", \"shape\": \"circle\", \"name\": \"WS\", \"filled\": 1}, {\"color\": \"#ff9900\", \"shape\": \"circle\", \"name\": \"LM\", \"filled\": 1}, {\"color\": \"#dc3912\", \"shape\": \"circle\", \"name\": \"Micro\", \"filled\": 1}, {\"color\": \"#990099\", \"shape\": \"circle\", \"name\": \"SM\", \"filled\": 1}, {\"color\": \"#109618\", \"shape\": \"circle\", \"name\": \"WS\", \"filled\": 1}, {\"color\": \"#dc3912\", \"shape\": \"circle\", \"name\": \"Micro\", \"filled\": 1}, {\"color\": \"#109618\", \"shape\": \"circle\", \"name\": \"WS\", \"filled\": 1}, {\"color\": \"#ff9900\", \"shape\": \"circle\", \"name\": \"LM\", \"filled\": 1}, {\"color\": \"#dc3912\", \"shape\": \"circle\", \"name\": \"Micro\", \"filled\": 1}, {\"color\": \"#990099\", \"shape\": \"circle\", \"name\": \"SM\", \"filled\": 1}, {\"color\": \"#ff9900\", \"shape\": \"circle\", \"name\": \"LM\", \"filled\": 1}, {\"color\": \"#dc3912\", \"shape\": \"circle\", \"name\": \"Micro\", \"filled\": 1}], \"points\": [[{\"y\": 0.155091749342872, \"x\": -0.807744964159228}], [{\"y\": 4.65822417955987, \"x\": -0.791077676844873}], [{\"y\": 1.96162780481781, \"x\": -0.872214791373909}], [{\"y\": -2.20128262065874, \"x\": -0.766355418084055}], [{\"y\": 1.72156529764491, \"x\": -0.917230069585719}], [{\"y\": -2.21577250404934, \"x\": -0.804765112783811}], [{\"y\": 4.49568302800693, \"x\": -0.814159999435942}], [{\"y\": 2.40635085117592, \"x\": -0.966677852066198}], [{\"y\": -5.49826585686526, \"x\": -0.372084544412728}], [{\"y\": -1.03488092159446, \"x\": -0.831506606727256}], [{\"y\": 2.42151983485461, \"x\": -0.866500549245932}], [{\"y\": 4.29876304202215, \"x\": -0.854243889117005}], [{\"y\": -2.30375651991483, \"x\": -0.799517141830649}], [{\"y\": -0.654265140094908, \"x\": -0.89751433537415}], [{\"y\": -0.581194295708213, \"x\": -0.750589827949845}], [{\"y\": -3.74429417830837, \"x\": 0.0673272212021613}], [{\"y\": -1.0963584874832, \"x\": -0.741291291719249}], [{\"y\": 3.34001883828575, \"x\": -0.862038574849471}], [{\"y\": -1.02140014391816, \"x\": -0.830889608273211}], [{\"y\": -1.63644962448023, \"x\": -0.820679117358422}], [{\"y\": 4.23421964095735, \"x\": -0.153899285510243}], [{\"y\": 4.88897097586109, \"x\": 0.279723479094906}], [{\"y\": -6.08871770791298, \"x\": -0.604489201815809}], [{\"y\": -7.11522829008269, \"x\": -0.623397405770093}], [{\"y\": -0.203384148050326, \"x\": 1.48460406789756}], [{\"y\": 0.174943880105999, \"x\": 1.5074916112097}], [{\"y\": 0.0749675032628941, \"x\": 1.47934992058718}], [{\"y\": 0.0473645100078533, \"x\": 1.47843947316108}], [{\"y\": 0.0916085854408036, \"x\": 1.49002210828603}], [{\"y\": 0.195219247392528, \"x\": 1.4830721586556}], [{\"y\": 0.0303834119329145, \"x\": 1.48176094865813}], [{\"y\": 0.230814013951247, \"x\": 1.50466539375094}], [{\"y\": 0.194920353925472, \"x\": 1.50032901675365}], [{\"y\": -0.00336523901434951, \"x\": 1.47908609969987}], [{\"y\": -0.223641070412906, \"x\": 1.51299576533099}]]}, title: 'Subsystems level 2', show_legend: true, legend_position: 'right', connected: false, show_dots: true, x_min: -1.214645, x_max: 1.760963, y_min: -8.315648, y_max: 6.089391, x_title: 'PCO1 r^2 0.71879', y_title: 'PCO2 r^2 0.09555'}).render(); });\n                        })();\n\t\t",
       "output_type": "display_data",
       "text": "<IPython.core.display.Javascript at 0x2ca44790>"
      },
      {
       "html": "<div id='div_pco_R1CpBPtt'></div>",
       "output_type": "display_data",
       "text": "<IPython.core.display.HTML at 0x2d092750>"
      },
      {
       "javascript": "\n\t\t\t(function(){\n\t\t\t\tRetina.add_renderer({\"name\": \"plot\", \"resource\": 'http://raw.github.com/MG-RAST/Retina/master/renderers/', \"filename\": \"renderer.plot.js\" });\n\t\t\t\tRetina.load_renderer(\"plot\").then( function () { Retina.Renderer.create('plot', {width: 700, height: 600, target: document.getElementById('div_pco_R1CpBPtt'), data: {\"series\": [{\"color\": \"#990099\", \"shape\": \"circle\", \"name\": \"SM\", \"filled\": 1}, {\"color\": \"#990099\", \"shape\": \"circle\", \"name\": \"SM\", \"filled\": 1}, {\"color\": \"#dc3912\", \"shape\": \"circle\", \"name\": \"Micro\", \"filled\": 1}, {\"color\": \"#dc3912\", \"shape\": \"circle\", \"name\": \"Micro\", \"filled\": 1}, {\"color\": \"#ff9900\", \"shape\": \"circle\", \"name\": \"LM\", \"filled\": 1}, {\"color\": \"#dc3912\", \"shape\": \"circle\", \"name\": \"Micro\", \"filled\": 1}, {\"color\": \"#ff9900\", \"shape\": \"circle\", \"name\": \"LM\", \"filled\": 1}, {\"color\": \"#109618\", \"shape\": \"circle\", \"name\": \"WS\", \"filled\": 1}, {\"color\": \"#990099\", \"shape\": \"circle\", \"name\": \"SM\", \"filled\": 1}, {\"color\": \"#dc3912\", \"shape\": \"circle\", \"name\": \"Micro\", \"filled\": 1}, {\"color\": \"#ff9900\", \"shape\": \"circle\", \"name\": \"LM\", \"filled\": 1}, {\"color\": \"#109618\", \"shape\": \"circle\", \"name\": \"WS\", \"filled\": 1}, {\"color\": \"#109618\", \"shape\": \"circle\", \"name\": \"WS\", \"filled\": 1}, {\"color\": \"#ff9900\", \"shape\": \"circle\", \"name\": \"LM\", \"filled\": 1}, {\"color\": \"#3366cc\", \"shape\": \"circle\", \"name\": \"MM\", \"filled\": 1}, {\"color\": \"#3366cc\", \"shape\": \"circle\", \"name\": \"MM\", \"filled\": 1}, {\"color\": \"#3366cc\", \"shape\": \"circle\", \"name\": \"MM\", \"filled\": 1}, {\"color\": \"#3366cc\", \"shape\": \"circle\", \"name\": \"MM\", \"filled\": 1}, {\"color\": \"#990099\", \"shape\": \"circle\", \"name\": \"SM\", \"filled\": 1}, {\"color\": \"#dc3912\", \"shape\": \"circle\", \"name\": \"Micro\", \"filled\": 1}, {\"color\": \"#dc3912\", \"shape\": \"circle\", \"name\": \"Micro\", \"filled\": 1}, {\"color\": \"#dc3912\", \"shape\": \"circle\", \"name\": \"Micro\", \"filled\": 1}, {\"color\": \"#dc3912\", \"shape\": \"circle\", \"name\": \"Micro\", \"filled\": 1}, {\"color\": \"#109618\", \"shape\": \"circle\", \"name\": \"WS\", \"filled\": 1}, {\"color\": \"#ff9900\", \"shape\": \"circle\", \"name\": \"LM\", \"filled\": 1}, {\"color\": \"#dc3912\", \"shape\": \"circle\", \"name\": \"Micro\", \"filled\": 1}, {\"color\": \"#990099\", \"shape\": \"circle\", \"name\": \"SM\", \"filled\": 1}, {\"color\": \"#109618\", \"shape\": \"circle\", \"name\": \"WS\", \"filled\": 1}, {\"color\": \"#dc3912\", \"shape\": \"circle\", \"name\": \"Micro\", \"filled\": 1}, {\"color\": \"#109618\", \"shape\": \"circle\", \"name\": \"WS\", \"filled\": 1}, {\"color\": \"#ff9900\", \"shape\": \"circle\", \"name\": \"LM\", \"filled\": 1}, {\"color\": \"#dc3912\", \"shape\": \"circle\", \"name\": \"Micro\", \"filled\": 1}, {\"color\": \"#990099\", \"shape\": \"circle\", \"name\": \"SM\", \"filled\": 1}, {\"color\": \"#ff9900\", \"shape\": \"circle\", \"name\": \"LM\", \"filled\": 1}, {\"color\": \"#dc3912\", \"shape\": \"circle\", \"name\": \"Micro\", \"filled\": 1}], \"points\": [[{\"y\": 0.162969193135025, \"x\": -1.54064326942629}], [{\"y\": 0.419751947920563, \"x\": -1.67242058344369}], [{\"y\": -0.899156833908695, \"x\": -1.43574933579871}], [{\"y\": -0.654060939356386, \"x\": -0.96521300691958}], [{\"y\": -1.00731830226407, \"x\": -1.53145192470975}], [{\"y\": -0.85833267258366, \"x\": -1.39128340260281}], [{\"y\": 3.49053359544353, \"x\": -0.963009210944339}], [{\"y\": -0.819914497611279, \"x\": -1.47802859068086}], [{\"y\": -0.164332541085409, \"x\": 0.411144062063952}], [{\"y\": 0.690870564037787, \"x\": -1.12688944396556}], [{\"y\": 0.705638687933802, \"x\": -1.13407541608273}], [{\"y\": 3.94145871100129, \"x\": -1.15518301287417}], [{\"y\": -0.657378491723451, \"x\": -1.25821638020237}], [{\"y\": -1.45829745273038, \"x\": -1.50492338147438}], [{\"y\": 1.21415373279888, \"x\": -1.44198256611439}], [{\"y\": 2.30095756935827, \"x\": 0.742394407676335}], [{\"y\": -0.513347073967233, \"x\": -1.25261254161854}], [{\"y\": -1.13800123445412, \"x\": -1.4080952247877}], [{\"y\": -1.05026260044489, \"x\": -1.26471156576205}], [{\"y\": -1.42095994478345, \"x\": -1.33566562201726}], [{\"y\": 12.6316506898806, \"x\": 1.71091450962221}], [{\"y\": 1.75556836031393, \"x\": 0.731207161677567}], [{\"y\": -1.24364889793965, \"x\": -1.25263036913738}], [{\"y\": -1.12925611448069, \"x\": -1.35121567219237}], [{\"y\": -1.003505949932, \"x\": 2.11995154220213}], [{\"y\": -1.08444362002614, \"x\": 2.04143388902866}], [{\"y\": -1.16023115343816, \"x\": 2.03786220884021}], [{\"y\": -1.54708358914115, \"x\": 2.10370250203159}], [{\"y\": -0.818214357702409, \"x\": 2.02168662352128}], [{\"y\": -1.27965808620107, \"x\": 2.08591250243035}], [{\"y\": -0.965523316868781, \"x\": 2.0864067323528}], [{\"y\": -1.55267112221791, \"x\": 2.07062258239922}], [{\"y\": -1.73063175272088, \"x\": 2.09107101555866}], [{\"y\": -1.75700219529053, \"x\": 2.13081604605563}], [{\"y\": -1.40032031095132, \"x\": 2.07887473529431}]]}, title: 'KEGG level 2', show_legend: true, legend_position: 'right', connected: false, show_dots: true, x_min: -2.052744, x_max: 2.511140, y_min: -3.195867, y_max: 14.070516, x_title: 'PCO1 r^2 0.55491', y_title: 'PCO2 r^2 0.20944'}).render(); });\n                        })();\n\t\t",
       "output_type": "display_data",
       "text": "<IPython.core.display.Javascript at 0x2d092750>"
      }
     ],
     "prompt_number": 22
    },
    {
     "cell_type": "heading",
     "level": 4,
     "metadata": {},
     "source": "Now the third level down, called the 'subsystems' level in the Subsystems annotation."
    },
    {
     "cell_type": "code",
     "collapsed": false,
     "input": "sargs = subsystem_data.pco(title='Subsystems level 3', annot='function', level='level3', normalize=1, col_name=False, arg_list=True)\nkargs = kegg_data.pco(title='KEGG level 3', annot='function', level='level3', normalize=1, col_name=False, arg_list=True)\nsargs = color_groups('soil', sargs)\nkargs = color_groups('soil', kargs)\nIpy.RETINA.plot(**sargs)\nIpy.RETINA.plot(**kargs)",
     "language": "python",
     "metadata": {},
     "outputs": [
      {
       "html": "<div id='div_pco_CpMRMQ2I'></div>",
       "output_type": "display_data",
       "text": "<IPython.core.display.HTML at 0x2a611d0>"
      },
      {
       "javascript": "\n\t\t\t(function(){\n\t\t\t\tRetina.add_renderer({\"name\": \"plot\", \"resource\": 'http://raw.github.com/MG-RAST/Retina/master/renderers/', \"filename\": \"renderer.plot.js\" });\n\t\t\t\tRetina.load_renderer(\"plot\").then( function () { Retina.Renderer.create('plot', {width: 700, height: 600, target: document.getElementById('div_pco_CpMRMQ2I'), data: {\"series\": [{\"color\": \"#990099\", \"shape\": \"circle\", \"name\": \"SM\", \"filled\": 1}, {\"color\": \"#990099\", \"shape\": \"circle\", \"name\": \"SM\", \"filled\": 1}, {\"color\": \"#dc3912\", \"shape\": \"circle\", \"name\": \"Micro\", \"filled\": 1}, {\"color\": \"#dc3912\", \"shape\": \"circle\", \"name\": \"Micro\", \"filled\": 1}, {\"color\": \"#ff9900\", \"shape\": \"circle\", \"name\": \"LM\", \"filled\": 1}, {\"color\": \"#dc3912\", \"shape\": \"circle\", \"name\": \"Micro\", \"filled\": 1}, {\"color\": \"#ff9900\", \"shape\": \"circle\", \"name\": \"LM\", \"filled\": 1}, {\"color\": \"#109618\", \"shape\": \"circle\", \"name\": \"WS\", \"filled\": 1}, {\"color\": \"#990099\", \"shape\": \"circle\", \"name\": \"SM\", \"filled\": 1}, {\"color\": \"#dc3912\", \"shape\": \"circle\", \"name\": \"Micro\", \"filled\": 1}, {\"color\": \"#ff9900\", \"shape\": \"circle\", \"name\": \"LM\", \"filled\": 1}, {\"color\": \"#109618\", \"shape\": \"circle\", \"name\": \"WS\", \"filled\": 1}, {\"color\": \"#109618\", \"shape\": \"circle\", \"name\": \"WS\", \"filled\": 1}, {\"color\": \"#ff9900\", \"shape\": \"circle\", \"name\": \"LM\", \"filled\": 1}, {\"color\": \"#3366cc\", \"shape\": \"circle\", \"name\": \"MM\", \"filled\": 1}, {\"color\": \"#3366cc\", \"shape\": \"circle\", \"name\": \"MM\", \"filled\": 1}, {\"color\": \"#3366cc\", \"shape\": \"circle\", \"name\": \"MM\", \"filled\": 1}, {\"color\": \"#3366cc\", \"shape\": \"circle\", \"name\": \"MM\", \"filled\": 1}, {\"color\": \"#990099\", \"shape\": \"circle\", \"name\": \"SM\", \"filled\": 1}, {\"color\": \"#dc3912\", \"shape\": \"circle\", \"name\": \"Micro\", \"filled\": 1}, {\"color\": \"#dc3912\", \"shape\": \"circle\", \"name\": \"Micro\", \"filled\": 1}, {\"color\": \"#dc3912\", \"shape\": \"circle\", \"name\": \"Micro\", \"filled\": 1}, {\"color\": \"#dc3912\", \"shape\": \"circle\", \"name\": \"Micro\", \"filled\": 1}, {\"color\": \"#109618\", \"shape\": \"circle\", \"name\": \"WS\", \"filled\": 1}, {\"color\": \"#ff9900\", \"shape\": \"circle\", \"name\": \"LM\", \"filled\": 1}, {\"color\": \"#dc3912\", \"shape\": \"circle\", \"name\": \"Micro\", \"filled\": 1}, {\"color\": \"#990099\", \"shape\": \"circle\", \"name\": \"SM\", \"filled\": 1}, {\"color\": \"#109618\", \"shape\": \"circle\", \"name\": \"WS\", \"filled\": 1}, {\"color\": \"#dc3912\", \"shape\": \"circle\", \"name\": \"Micro\", \"filled\": 1}, {\"color\": \"#109618\", \"shape\": \"circle\", \"name\": \"WS\", \"filled\": 1}, {\"color\": \"#ff9900\", \"shape\": \"circle\", \"name\": \"LM\", \"filled\": 1}, {\"color\": \"#dc3912\", \"shape\": \"circle\", \"name\": \"Micro\", \"filled\": 1}, {\"color\": \"#990099\", \"shape\": \"circle\", \"name\": \"SM\", \"filled\": 1}, {\"color\": \"#ff9900\", \"shape\": \"circle\", \"name\": \"LM\", \"filled\": 1}, {\"color\": \"#dc3912\", \"shape\": \"circle\", \"name\": \"Micro\", \"filled\": 1}], \"points\": [[{\"y\": -0.299099603175016, \"x\": -0.38897284569116}], [{\"y\": -3.0976859485623, \"x\": -0.395481835573664}], [{\"y\": -1.17354527434227, \"x\": -0.394265925690937}], [{\"y\": 1.91788679290612, \"x\": -0.327225485621975}], [{\"y\": -1.5230250843398, \"x\": -0.39821452410281}], [{\"y\": 0.43096119808985, \"x\": -0.366784544835312}], [{\"y\": -2.84727427693686, \"x\": -0.402731115659543}], [{\"y\": -1.71179713126507, \"x\": -0.39801816899739}], [{\"y\": 4.01272732037371, \"x\": -0.207468374908523}], [{\"y\": -0.574188213499612, \"x\": -0.385523175906979}], [{\"y\": -1.59459275122006, \"x\": -0.399107692854271}], [{\"y\": -3.35453856799236, \"x\": -0.399778791457895}], [{\"y\": 1.36530189490913, \"x\": -0.366393339013865}], [{\"y\": 1.21843137022266, \"x\": -0.361380196493078}], [{\"y\": 0.691217779594184, \"x\": -0.350899755900744}], [{\"y\": 4.91936322689253, \"x\": -0.0243463333572504}], [{\"y\": 0.779747504254627, \"x\": -0.360286648970132}], [{\"y\": -1.48537602884916, \"x\": -0.395200720790606}], [{\"y\": 0.805989197632762, \"x\": -0.364841357761759}], [{\"y\": 1.44829089103811, \"x\": -0.34755014875695}], [{\"y\": -3.67602634299671, \"x\": -0.187584794176416}], [{\"y\": -0.139742230751995, \"x\": -0.0362243238058019}], [{\"y\": 3.48413215949166, \"x\": -0.27833942080757}], [{\"y\": 2.99186557973378, \"x\": -0.300662824295708}], [{\"y\": -0.152810985587256, \"x\": 0.710030301148662}], [{\"y\": -0.420638915718069, \"x\": 0.72250387038091}], [{\"y\": -0.192441086624541, \"x\": 0.713815626104731}], [{\"y\": -0.333688444228477, \"x\": 0.711827830740979}], [{\"y\": -0.199345584308226, \"x\": 0.70940453776509}], [{\"y\": -0.193292515780551, \"x\": 0.707110262870123}], [{\"y\": -0.0139385559711199, \"x\": 0.701114955407585}], [{\"y\": -0.375413309744795, \"x\": 0.720509085078952}], [{\"y\": -0.384969468708119, \"x\": 0.717638633180733}], [{\"y\": -0.235256912725908, \"x\": 0.704783199405876}], [{\"y\": -0.0872276818108806, \"x\": 0.718544043346694}]]}, title: 'Subsystems level 3', show_legend: true, legend_position: 'right', connected: false, show_dots: true, x_min: -0.515255, x_max: 0.835027, y_min: -4.535565, y_max: 5.778902, x_title: 'PCO1 r^2 0.81474', y_title: 'PCO2 r^2 0.05375'}).render(); });\n                        })();\n\t\t",
       "output_type": "display_data",
       "text": "<IPython.core.display.Javascript at 0x2a611d0>"
      },
      {
       "html": "<div id='div_pco_gkDFKTLo'></div>",
       "output_type": "display_data",
       "text": "<IPython.core.display.HTML at 0x1beede10>"
      },
      {
       "javascript": "\n\t\t\t(function(){\n\t\t\t\tRetina.add_renderer({\"name\": \"plot\", \"resource\": 'http://raw.github.com/MG-RAST/Retina/master/renderers/', \"filename\": \"renderer.plot.js\" });\n\t\t\t\tRetina.load_renderer(\"plot\").then( function () { Retina.Renderer.create('plot', {width: 700, height: 600, target: document.getElementById('div_pco_gkDFKTLo'), data: {\"series\": [{\"color\": \"#990099\", \"shape\": \"circle\", \"name\": \"SM\", \"filled\": 1}, {\"color\": \"#990099\", \"shape\": \"circle\", \"name\": \"SM\", \"filled\": 1}, {\"color\": \"#dc3912\", \"shape\": \"circle\", \"name\": \"Micro\", \"filled\": 1}, {\"color\": \"#dc3912\", \"shape\": \"circle\", \"name\": \"Micro\", \"filled\": 1}, {\"color\": \"#ff9900\", \"shape\": \"circle\", \"name\": \"LM\", \"filled\": 1}, {\"color\": \"#dc3912\", \"shape\": \"circle\", \"name\": \"Micro\", \"filled\": 1}, {\"color\": \"#ff9900\", \"shape\": \"circle\", \"name\": \"LM\", \"filled\": 1}, {\"color\": \"#109618\", \"shape\": \"circle\", \"name\": \"WS\", \"filled\": 1}, {\"color\": \"#990099\", \"shape\": \"circle\", \"name\": \"SM\", \"filled\": 1}, {\"color\": \"#dc3912\", \"shape\": \"circle\", \"name\": \"Micro\", \"filled\": 1}, {\"color\": \"#ff9900\", \"shape\": \"circle\", \"name\": \"LM\", \"filled\": 1}, {\"color\": \"#109618\", \"shape\": \"circle\", \"name\": \"WS\", \"filled\": 1}, {\"color\": \"#109618\", \"shape\": \"circle\", \"name\": \"WS\", \"filled\": 1}, {\"color\": \"#ff9900\", \"shape\": \"circle\", \"name\": \"LM\", \"filled\": 1}, {\"color\": \"#3366cc\", \"shape\": \"circle\", \"name\": \"MM\", \"filled\": 1}, {\"color\": \"#3366cc\", \"shape\": \"circle\", \"name\": \"MM\", \"filled\": 1}, {\"color\": \"#3366cc\", \"shape\": \"circle\", \"name\": \"MM\", \"filled\": 1}, {\"color\": \"#3366cc\", \"shape\": \"circle\", \"name\": \"MM\", \"filled\": 1}, {\"color\": \"#990099\", \"shape\": \"circle\", \"name\": \"SM\", \"filled\": 1}, {\"color\": \"#dc3912\", \"shape\": \"circle\", \"name\": \"Micro\", \"filled\": 1}, {\"color\": \"#dc3912\", \"shape\": \"circle\", \"name\": \"Micro\", \"filled\": 1}, {\"color\": \"#dc3912\", \"shape\": \"circle\", \"name\": \"Micro\", \"filled\": 1}, {\"color\": \"#dc3912\", \"shape\": \"circle\", \"name\": \"Micro\", \"filled\": 1}, {\"color\": \"#109618\", \"shape\": \"circle\", \"name\": \"WS\", \"filled\": 1}, {\"color\": \"#ff9900\", \"shape\": \"circle\", \"name\": \"LM\", \"filled\": 1}, {\"color\": \"#dc3912\", \"shape\": \"circle\", \"name\": \"Micro\", \"filled\": 1}, {\"color\": \"#990099\", \"shape\": \"circle\", \"name\": \"SM\", \"filled\": 1}, {\"color\": \"#109618\", \"shape\": \"circle\", \"name\": \"WS\", \"filled\": 1}, {\"color\": \"#dc3912\", \"shape\": \"circle\", \"name\": \"Micro\", \"filled\": 1}, {\"color\": \"#109618\", \"shape\": \"circle\", \"name\": \"WS\", \"filled\": 1}, {\"color\": \"#ff9900\", \"shape\": \"circle\", \"name\": \"LM\", \"filled\": 1}, {\"color\": \"#dc3912\", \"shape\": \"circle\", \"name\": \"Micro\", \"filled\": 1}, {\"color\": \"#990099\", \"shape\": \"circle\", \"name\": \"SM\", \"filled\": 1}, {\"color\": \"#ff9900\", \"shape\": \"circle\", \"name\": \"LM\", \"filled\": 1}, {\"color\": \"#dc3912\", \"shape\": \"circle\", \"name\": \"Micro\", \"filled\": 1}], \"points\": [[{\"y\": -0.225347480977387, \"x\": -0.475804944347288}], [{\"y\": 2.27506775583678, \"x\": -0.550524171902686}], [{\"y\": 0.444873724658839, \"x\": -0.5245339071919}], [{\"y\": -2.06836450475983, \"x\": -0.343697373283133}], [{\"y\": 0.241173482803724, \"x\": -0.494514294400594}], [{\"y\": -1.21870932782421, \"x\": -0.433468074161253}], [{\"y\": 1.73287756444454, \"x\": -0.522679236564136}], [{\"y\": 0.0940083067278218, \"x\": -0.497937368634045}], [{\"y\": -1.73630753389076, \"x\": -0.253168952989826}], [{\"y\": -0.290113930616978, \"x\": -0.460836683972677}], [{\"y\": 0.0174966287070283, \"x\": -0.47437464071471}], [{\"y\": 2.92053264904091, \"x\": -0.550980559361172}], [{\"y\": -0.813715585515159, \"x\": -0.449866245897191}], [{\"y\": -1.01115435399163, \"x\": -0.416753790707976}], [{\"y\": -0.722258375132024, \"x\": -0.465361469846339}], [{\"y\": -1.46379385692419, \"x\": 0.0489790564524021}], [{\"y\": -1.4394559415375, \"x\": -0.416366831062761}], [{\"y\": 0.0278333710463333, \"x\": -0.494522795637131}], [{\"y\": -0.225165054943007, \"x\": -0.4754027386456}], [{\"y\": -1.72660172690083, \"x\": -0.38756692712726}], [{\"y\": 8.00336728435442, \"x\": -0.136291694045824}], [{\"y\": 2.57666711065993, \"x\": -0.0320562904327454}], [{\"y\": -2.84444846480628, \"x\": -0.28198237753028}], [{\"y\": -1.89545137925117, \"x\": -0.410672080173262}], [{\"y\": -0.0750218185654154, \"x\": 0.861120716072011}], [{\"y\": -0.0183089139825511, \"x\": 0.868654661546327}], [{\"y\": -0.0456237391205853, \"x\": 0.852591758823763}], [{\"y\": 0.0221030303267494, \"x\": 0.873011823268064}], [{\"y\": -0.121763071804234, \"x\": 0.852635390445858}], [{\"y\": -0.0821087218871775, \"x\": 0.839867052050364}], [{\"y\": -0.00500148662000359, \"x\": 0.83730124729062}], [{\"y\": -0.0538149386479824, \"x\": 0.876705933801794}], [{\"y\": -0.0530084641956261, \"x\": 0.893091732918865}], [{\"y\": 0.0268246352586736, \"x\": 0.867809348088447}], [{\"y\": -0.247286871971226, \"x\": 0.877594727871275}]]}, title: 'KEGG level 3', show_legend: true, legend_position: 'right', connected: false, show_dots: true, x_min: -0.695388, x_max: 1.037499, y_min: -3.929230, y_max: 9.088149, x_title: 'PCO1 r^2 0.77561', y_title: 'PCO2 r^2 0.08260'}).render(); });\n                        })();\n\t\t",
       "output_type": "display_data",
       "text": "<IPython.core.display.Javascript at 0x1beede10>"
      }
     ],
     "prompt_number": 23
    },
    {
     "cell_type": "heading",
     "level": 4,
     "metadata": {},
     "source": "Finally we can look at the bottom or function level plots."
    },
    {
     "cell_type": "code",
     "collapsed": false,
     "input": "# this takes a long time for R to calculate\nsargs = subsystem_data.pco(title='Subsystems functions', annot='function', level='function', normalize=1, col_name=False, arg_list=True)\nkargs = kegg_data.pco(title='KEGG functions', annot='function', level='function', normalize=1, col_name=False, arg_list=True)\nsargs = color_groups('soil', sargs)\nkargs = color_groups('soil', kargs)\nIpy.RETINA.plot(**sargs)\nIpy.RETINA.plot(**kargs)",
     "language": "python",
     "metadata": {},
     "outputs": [],
     "prompt_number": "*"
    },
    {
     "cell_type": "code",
     "collapsed": false,
     "input": "",
     "language": "python",
     "metadata": {},
     "outputs": [],
     "prompt_number": 10
    }
   ],
   "metadata": {}
  }
 ]
}