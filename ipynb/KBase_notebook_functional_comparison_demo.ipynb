{
 "metadata": {
  "type": "ipynb",
  "name": "KBNB: functional comparison demo",
  "user": "public",
  "uuid": "3cb8124c-7d09-4ce3-bf53-352f41104fbd",
  "created": "2013-02-22T14:25:02.105134",
  "permission": "view",
  "description": "Example of using KBNB to compare functional analysis of metagenomes"
 },
 "nbformat": 3,
 "nbformat_minor": 0,
 "worksheets": [
  {
   "cells": [
    {
     "cell_type": "markdown",
     "metadata": {},
     "source": "#KBase Notebook Demonstration \n#Tuesday, February 26, 2013"
    },
    {
     "cell_type": "markdown",
     "metadata": {},
     "source": "###Objective:  Compairing functional abundances of metagenomic sequences.\n###Inputs: MG-RAST metagenome IDs (single or multiple)\n###Outputs:  Flexible visualizations of functional profiles\n- Exploration of results at different levels\n- Subselection\n- View barcharts\n- View heatmaps\n- View PCoAs"
    },
    {
     "cell_type": "markdown",
     "metadata": {},
     "source": "Initiate the KBase Notebook to have access to KBase functions."
    },
    {
     "cell_type": "code",
     "collapsed": false,
     "input": "init_ipy()",
     "language": "python",
     "metadata": {},
     "outputs": [
      {
       "javascript": "$.getScript(\"http://raw.github.com/MG-RAST/Retina/master/js/bootstrap.min.js\", function () {\n$.getScript(\"http://raw.github.com/MG-RAST/Retina/master/js/retina.js\", function () {\n$.getScript(\"http://raw.github.com/MG-RAST/Retina/master/js/stm.js\", function () {\n$.getScript(\"http://raw.github.com/MG-RAST/Retina/master/js/ipy.js\", function () {\n\n\t\t\t(function(){\n\t\t\t\tRetina.init( { library_resource: 'http://raw.github.com/MG-RAST/Retina/master/js/'});\n\t\t\t})();\n\t\t});\n});\n});\n});\n",
       "output_type": "display_data",
       "text": "<IPython.core.display.Javascript at 0x2b6ebd0>"
      }
     ],
     "prompt_number": 1
    },
    {
     "cell_type": "markdown",
     "metadata": {},
     "source": "Load the project of interest.  Here, we load all the WGS metagenomes from Kirsten Hofmockel's MG-RAST project.<br>\nThis is done twice, once for metagenomes with Subsystems annotated functions, and once for metagenomes with KEGG annotated functions."
    },
    {
     "cell_type": "code",
     "collapsed": false,
     "input": "wgs = ['mgm4509396.3','mgm4509397.3','mgm4509398.3','mgm4509399.3','mgm4509400.3','mgm4509401.3','mgm4509402.3','mgm4509403.3','mgm4509404.3','mgm4509405.3','mgm4509406.3','mgm4509407.3','mgm4510006.3','mgm4510007.3','mgm4510008.3','mgm4510009.3','mgm4511166.3','mgm4511167.3','mgm4511168.3','mgm4511169.3','mgm4511170.3','mgm4511171.3','mgm4511172.3','mgm4511173.3','mgm4511174.3','mgm4511175.3','mgm4511176.3','mgm4511177.3','mgm4512893.3','mgm4512894.3','mgm4512895.3','mgm4512896.3','mgm4512897.3','mgm4512898.3','mgm4512899.3','mgm4512900.3','mgm4512901.3','mgm4512902.3','mgm4512903.3','mgm4512946.3','mgm4512947.3','mgm4512948.3','mgm4512949.3','mgm4514436.3','mgm4514437.3','mgm4514438.3','mgm4514706.3','mgm4514707.3']\nsubsystem_data = get_analysis_set(ids=wgs, method='WGS', function_source='Subsystems')\nkegg_data = get_analysis_set(ids=wgs, method='WGS', function_source='KO')",
     "language": "python",
     "metadata": {},
     "outputs": [
      {
       "output_type": "stream",
       "stream": "stdout",
       "text": "Loading AnalysisSet for selected metagenomes from cached object\nLoading AnalysisSet for selected metagenomes from cached object"
      },
      {
       "output_type": "stream",
       "stream": "stdout",
       "text": "\n"
      }
     ],
     "prompt_number": 2
    },
    {
     "cell_type": "markdown",
     "metadata": {},
     "source": "Select the datasets of interest. One can compare multiple metagenomic datasets. Let's take a look at four of the Hofmockel soil assembled metagenomes."
    },
    {
     "cell_type": "code",
     "collapsed": false,
     "input": "sub_selected_datasets = ['mgm4512946.3', 'mgm4512947.3', 'mgm4512948.3', 'mgm4512949.3']\nsubsystem_data.display_mgs = sub_selected_datasets \nkegg_data.display_mgs = sub_selected_datasets ",
     "language": "python",
     "metadata": {},
     "outputs": [],
     "prompt_number": 3
    },
    {
     "cell_type": "markdown",
     "metadata": {},
     "source": "Let's explore the functional annotations For Subsystems and KEGG at the top level."
    },
    {
     "cell_type": "code",
     "collapsed": false,
     "input": "print 'Subsystems'\nsubsystem_data.barchart(annot='function', level='level1', normalize=1, col_name=False)\nprint 'KEGG'\nkegg_data.barchart(annot='function', level='level1', normalize=1, col_name=False)",
     "language": "python",
     "metadata": {},
     "outputs": [
      {
       "output_type": "stream",
       "stream": "stdout",
       "text": "Subsystems\n"
      },
      {
       "html": "<div id='div_graph_Z4GemF6X'></div>",
       "output_type": "display_data",
       "text": "<IPython.core.display.HTML at 0x2bd3910>"
      },
      {
       "javascript": "\n\t\t\t(function(){\n\t\t\t\tRetina.add_renderer({\"name\": \"graph\", \"resource\": 'http://raw.github.com/MG-RAST/Retina/master/renderers/', \"filename\": \"renderer.graph.js\" });\n\t\t\t\tRetina.load_renderer(\"graph\").then( function () { Retina.Renderer.create('graph', {width: 1160, height: 840, type: 'row', target: document.getElementById('div_graph_Z4GemF6X'), data: [{\"data\": [0.8603434991625544, 0.9085826333599905, 0.5183992995948663, 0.708941685503108, 0.9643299646104238, 0.8199801259638348, 0.7062022812700918, 0.17671474318795516, 0.6782576462638435, 0.385998333736827, 0.8598480753477363, 0.7678359643325481, 0.9605238208565471, 0.6185451615238339, 0.7346623058749562, 0.8158012294375881, 0.7978039523518524, 0.5927964233815813, 0.44583381969998925, 0.5609632810154657, 0.9498719425868623, 0.9076295057994039, 0.8067635150940959, 0.8680335307207525, 0.5792325741605634, 0.8226602644504424, 0.6451521003003515, 0.8070292954877251], \"name\": \"mgm4512946.3\", \"fill\": \"#3366cc\"}, {\"data\": [0.8635625378079321, 0.9080981584939382, 0.5231458217283828, 0.7040482307253115, 0.9633640213847875, 0.8188165787480554, 0.7106455541830646, 0.17961428938957927, 0.6793091458301996, 0.37867817855098057, 0.8629525475571823, 0.7719076942660338, 0.9605603347235477, 0.6211614490738652, 0.7299012808597319, 0.817613270802145, 0.7949262715539197, 0.591011483180498, 0.4427526655500854, 0.5594817223232188, 0.9491672735641757, 0.9067988612539832, 0.8058665618186279, 0.8691685200599815, 0.5852932216859125, 0.8207561300881849, 0.6458501622329267, 0.8042850076395431], \"name\": \"mgm4512947.3\", \"fill\": \"#dc3912\"}, {\"data\": [0.866306467752881, 0.9073874962065289, 0.5420347691709339, 0.6861629490637148, 0.9622386820701139, 0.8222430692439893, 0.7209077833421255, 0.18737173565880022, 0.673443749417349, 0.3496909377792144, 0.860688907020466, 0.7639993033304627, 0.9530176804390486, 0.6128854464941179, 0.7333625493645014, 0.8270599401952016, 0.7928715026790564, 0.5954918170325579, 0.45834339490889775, 0.5429304559436369, 0.9558027527078493, 0.9124051422941573, 0.8067629077247879, 0.8703246467705381, 0.6012571976223251, 0.8133200492198297, 0.6523368891490972, 0.7980887524736113], \"name\": \"mgm4512948.3\", \"fill\": \"#ff9900\"}, {\"data\": [0.8629090062829269, 0.9075274160124848, 0.5201449195557644, 0.7021584701126707, 0.9637132068552104, 0.8240662682398315, 0.709173189570633, 0.1783230388071792, 0.6738637517242115, 0.3947114553142352, 0.8630476930230379, 0.7662800590180765, 0.9611501186687674, 0.6080992031051874, 0.7275256548058721, 0.8158250302210348, 0.7995689947575048, 0.5890759759275291, 0.4493173718735244, 0.5531316426943409, 0.9547962075664931, 0.9117806343241394, 0.8062876093259875, 0.8691490590329372, 0.5841637597181206, 0.8220157314171498, 0.6470724740340217, 0.803859033086928], \"name\": \"mgm4512949.3\", \"fill\": \"#109618\"}], title: '', x_labels: [\"Amino Acids and Derivatives\", \"Carbohydrates\", \"Cell Division and Cell Cycle\", \"Cell Wall and Capsule\", \"Clustering-based subsystems\", \"Cofactors, Vitamins, Prosthetic Groups, Pigments\", \"DNA Metabolism\", \"Dormancy and Sporulation\", \"Fatty Acids, Lipids, and Isoprenoids\", \"Iron acquisition and metabolism\", \"Membrane Transport\", \"Metabolism of Aromatic Compounds\", \"Miscellaneous\", \"Motility and Chemotaxis\", \"Nitrogen Metabolism\", \"Nucleosides and Nucleotides\", \"Phages, Prophages, Transposable elements, Plasmids\", \"Phosphorus Metabolism\", \"Photosynthesis\", \"Potassium metabolism\", \"Protein Metabolism\", \"RNA Metabolism\", \"Regulation and Cell signaling\", \"Respiration\", \"Secondary Metabolism\", \"Stress Response\", \"Sulfur Metabolism\", \"Virulence, Disease and Defense\"], x_title: '', y_title: '', show_legend: true, legend_position: 'left', title_color: 'black', x_title_color: 'black', y_title_color: 'black', x_labels_rotation: '0', x_tick_interval: 0.000000, y_tick_interval: 30.000000, x_labeled_tick_interval: 1.000000, y_labeled_tick_interval: 0.100000, default_line_color: 'black', default_line_width: 1, chartArea: [360, 0.02, 0.85, 0.95], legendArea: [0.87, 0.05, 0.2, 140]}).render(); });\n                        })();\n\t\t",
       "output_type": "display_data",
       "text": "<IPython.core.display.Javascript at 0x2bd3910>"
      },
      {
       "output_type": "stream",
       "stream": "stdout",
       "text": "KEGG\n"
      },
      {
       "html": "<div id='div_graph_k3oYUIzz'></div>",
       "output_type": "display_data",
       "text": "<IPython.core.display.HTML at 0x2bd3910>"
      },
      {
       "javascript": "\n\t\t\t(function(){\n\t\t\t\tRetina.add_renderer({\"name\": \"graph\", \"resource\": 'http://raw.github.com/MG-RAST/Retina/master/renderers/', \"filename\": \"renderer.graph.js\" });\n\t\t\t\tRetina.load_renderer(\"graph\").then( function () { Retina.Renderer.create('graph', {width: 1059, height: 180, type: 'row', target: document.getElementById('div_graph_k3oYUIzz'), data: [{\"data\": [0.35008104141360247, 0.6125018785885423, 0.5343334259904433, 0.05015720952310753, 0.898972569730131, 0.060779211316748835], \"name\": \"mgm4512946.3\", \"fill\": \"#3366cc\"}, {\"data\": [0.34604665949740604, 0.612894311538059, 0.5326772962771048, 0.053288418786522324, 0.9010621733650375, 0.06085647709844778], \"name\": \"mgm4512947.3\", \"fill\": \"#dc3912\"}, {\"data\": [0.34106965329789807, 0.5974814097626416, 0.5559817983236159, 0.05833453418510109, 0.8993176606106908, 0.05464028038262556], \"name\": \"mgm4512948.3\", \"fill\": \"#ff9900\"}, {\"data\": [0.34506335358741475, 0.6085840405079809, 0.5436883292548071, 0.042042848368065454, 0.8977309681403266, 0.06971579670397945], \"name\": \"mgm4512949.3\", \"fill\": \"#109618\"}], title: '', x_labels: [\"Cellular Processes\", \"Environmental Information Processing\", \"Genetic Information Processing\", \"Human Diseases\", \"Metabolism\", \"Organismal Systems\"], x_title: '', y_title: '', show_legend: true, legend_position: 'left', title_color: 'black', x_title_color: 'black', y_title_color: 'black', x_labels_rotation: '0', x_tick_interval: 0.000000, y_tick_interval: 30.000000, x_labeled_tick_interval: 1.000000, y_labeled_tick_interval: 0.100000, default_line_color: 'black', default_line_width: 1, chartArea: [259, 0.02, 0.85, 0.95], legendArea: [0.87, 0.05, 0.2, 140]}).render(); });\n                        })();\n\t\t",
       "output_type": "display_data",
       "text": "<IPython.core.display.Javascript at 0x2bd3910>"
      }
     ],
     "prompt_number": 4
    },
    {
     "cell_type": "code",
     "collapsed": false,
     "input": "print 'Subsystems'\nsubsystem_data.heatmap(annot='function', level='level1', normalize=1, col_name=False)\nprint 'KEGG'\nkegg_data.heatmap(annot='function', level='level1', normalize=1, col_name=False)",
     "language": "python",
     "metadata": {},
     "outputs": [
      {
       "output_type": "stream",
       "stream": "stdout",
       "text": "Subsystems\n"
      },
      {
       "html": "<div id='div_heatmap_NrPUzupf'></div>",
       "output_type": "display_data",
       "text": "<IPython.core.display.HTML at 0x2bd3ed0>"
      },
      {
       "javascript": "\n            (function(){\n                Retina.add_renderer({ name: 'heatmap', resource: 'http://raw.github.com/MG-RAST/Retina/master/renderers/', filename: 'renderer.heatmap.js' });\n                Retina.load_renderer('heatmap').then( function () {\n                    window.heatmap_fse7yoJR = Retina.Renderer.create('heatmap', {width: 1060, height: 600, target: document.getElementById('div_heatmap_NrPUzupf'), data: {\"colindex\": [2, 1, 4, 3], \"rows\": [\"Amino Acids and Derivatives\", \"Carbohydrates\", \"Cell Division and Cell Cycle\", \"Cell Wall and Capsule\", \"Clustering-based subsystems\", \"Cofactors, Vitamins, Prosthetic Groups, Pigments\", \"DNA Metabolism\", \"Dormancy and Sporulation\", \"Fatty Acids, Lipids, and Isoprenoids\", \"Iron acquisition and metabolism\", \"Membrane Transport\", \"Metabolism of Aromatic Compounds\", \"Miscellaneous\", \"Motility and Chemotaxis\", \"Nitrogen Metabolism\", \"Nucleosides and Nucleotides\", \"Phages, Prophages, Transposable elements, Plasmids\", \"Phosphorus Metabolism\", \"Photosynthesis\", \"Potassium metabolism\", \"Protein Metabolism\", \"RNA Metabolism\", \"Regulation and Cell signaling\", \"Respiration\", \"Secondary Metabolism\", \"Stress Response\", \"Sulfur Metabolism\", \"Virulence, Disease and Defense\"], \"rowindex\": [12, 16, 6, 26, 17, 23, 28, 21, 5, 13, 2, 22, 24, 1, 11, 15, 4, 7, 9, 27, 14, 18, 25, 3, 20, 8, 10, 19], \"rowdend\": [[-1, -11, 0.000994492887776016], [-2, -22, 0.00158500090662112], [-23, -28, 0.00201121002333012], [-6, -26, 0.00237562210465378], [-5, -13, 0.00239227008065668], [-16, 4, 0.00412595580391847], [-24, 1, 0.0048366614809829], [-21, 5, 0.0057503917883202], [-18, -25, 0.00634965240597161], [-17, 3, 0.00646913327580895], [-4, -7, 0.00904640739883378], [-15, 11, 0.020504844048218], [-9, -27, 0.0216159560165309], [6, 10, 0.0258273780607703], [-14, 9, 0.0259750477881704], [-3, -20, 0.0261056105835555], [-12, 14, 0.0413569499543396], [2, 7, 0.0563789447009813], [12, 13, 0.0669346073832461], [-10, -19, 0.0868804871216319], [15, 16, 0.0942957906074514], [8, 18, 0.126118773362479], [17, 22, 0.32194911097952], [19, 21, 0.332623871426225], [-8, 20, 0.490597756107235], [24, 25, 0.912510389386731], [23, 26, 1.68677140336413]], \"coldend\": [[-1, -2, 0.00177093536830327], [-4, 1, 0.00253004594183929], [-3, 2, 0.0075229383874903]], \"data\": [[0.860343499163, 0.863562537808, 0.866306467753, 0.862909006283], [0.90858263336, 0.908098158494, 0.907387496207, 0.907527416012], [0.518399299595, 0.523145821728, 0.542034769171, 0.520144919556], [0.708941685503, 0.704048230725, 0.686162949064, 0.702158470113], [0.96432996461, 0.963364021385, 0.96223868207, 0.963713206855], [0.819980125964, 0.818816578748, 0.822243069244, 0.82406626824], [0.70620228127, 0.710645554183, 0.720907783342, 0.709173189571], [0.176714743188, 0.17961428939, 0.187371735659, 0.178323038807], [0.678257646264, 0.67930914583, 0.673443749417, 0.673863751724], [0.385998333737, 0.378678178551, 0.349690937779, 0.394711455314], [0.859848075348, 0.862952547557, 0.86068890702, 0.863047693023], [0.767835964333, 0.771907694266, 0.76399930333, 0.766280059018], [0.960523820857, 0.960560334724, 0.953017680439, 0.961150118669], [0.618545161524, 0.621161449074, 0.612885446494, 0.608099203105], [0.734662305875, 0.72990128086, 0.733362549365, 0.727525654806], [0.815801229438, 0.817613270802, 0.827059940195, 0.815825030221], [0.797803952352, 0.794926271554, 0.792871502679, 0.799568994758], [0.592796423382, 0.59101148318, 0.595491817033, 0.589075975928], [0.4458338197, 0.44275266555, 0.458343394909, 0.449317371874], [0.560963281015, 0.559481722323, 0.542930455944, 0.553131642694], [0.949871942587, 0.949167273564, 0.955802752708, 0.954796207566], [0.907629505799, 0.906798861254, 0.912405142294, 0.911780634324], [0.806763515094, 0.805866561819, 0.806762907725, 0.806287609326], [0.868033530721, 0.86916852006, 0.870324646771, 0.869149059033], [0.579232574161, 0.585293221686, 0.601257197622, 0.584163759718], [0.82266026445, 0.820756130088, 0.81332004922, 0.822015731417], [0.6451521003, 0.645850162233, 0.652336889149, 0.647072474034], [0.807029295488, 0.80428500764, 0.798088752474, 0.803859033087]], \"columns\": [\"mgm4512946.3\", \"mgm4512947.3\", \"mgm4512948.3\", \"mgm4512949.3\"]}, selectedRows: [], tree_height: 50, tree_width: 200, legend_height: 250, legend_width: 360, row_text_size: 15, col_text_size: 15, min_cell_height: 19} );\n                    window.heatmap_fse7yoJR.render();\n                });\n            })();\n        ",
       "output_type": "display_data",
       "text": "<IPython.core.display.Javascript at 0x2bd3ed0>"
      },
      {
       "output_type": "stream",
       "stream": "stdout",
       "text": "KEGG\n"
      },
      {
       "html": "<div id='div_heatmap_XgGljDtn'></div>",
       "output_type": "display_data",
       "text": "<IPython.core.display.HTML at 0x158dd50>"
      },
      {
       "javascript": "\n            (function(){\n                Retina.add_renderer({ name: 'heatmap', resource: 'http://raw.github.com/MG-RAST/Retina/master/renderers/', filename: 'renderer.heatmap.js' });\n                Retina.load_renderer('heatmap').then( function () {\n                    window.heatmap_eCJMN75W = Retina.Renderer.create('heatmap', {width: 959, height: 600, target: document.getElementById('div_heatmap_XgGljDtn'), data: {\"colindex\": [2, 1, 4, 3], \"rows\": [\"Cellular Processes\", \"Environmental Information Processing\", \"Genetic Information Processing\", \"Human Diseases\", \"Metabolism\", \"Organismal Systems\"], \"rowindex\": [4, 6, 1, 5, 2, 3], \"rowdend\": [[-2, -3, 0.0575842943348955], [-4, -6, 0.110172597362035], [-5, 1, 0.27515324317479], [-1, 3, 0.38728734174606], [2, 4, 1.85029097703612]], \"coldend\": [[-1, -2, 0.00227000722649212], [-4, 1, 0.00939211437570868], [-3, 2, 0.0147748230883478]], \"data\": [[0.350081041414, 0.346046659497, 0.341069653298, 0.345063353587], [0.612501878589, 0.612894311538, 0.597481409763, 0.608584040508], [0.53433342599, 0.532677296277, 0.555981798324, 0.543688329255], [0.0501572095231, 0.0532884187865, 0.0583345341851, 0.0420428483681], [0.89897256973, 0.901062173365, 0.899317660611, 0.89773096814], [0.0607792113167, 0.0608564770984, 0.0546402803826, 0.069715796704]], \"columns\": [\"mgm4512946.3\", \"mgm4512947.3\", \"mgm4512948.3\", \"mgm4512949.3\"]}, selectedRows: [], tree_height: 50, tree_width: 200, legend_height: 250, legend_width: 259, row_text_size: 15, col_text_size: 15, min_cell_height: 19} );\n                    window.heatmap_eCJMN75W.render();\n                });\n            })();\n        ",
       "output_type": "display_data",
       "text": "<IPython.core.display.Javascript at 0x158dd50>"
      }
     ],
     "prompt_number": 5
    },
    {
     "cell_type": "markdown",
     "metadata": {},
     "source": "Here we can explore the changes in PCoA plots at different levels between Subsystems and KEGG.<br>\nA different data set can be viewed, in this case all."
    },
    {
     "cell_type": "code",
     "collapsed": false,
     "input": "subsystem_data.display_mgs = wgs\nkegg_data.display_mgs = wgs",
     "language": "python",
     "metadata": {},
     "outputs": [],
     "prompt_number": 6
    },
    {
     "cell_type": "markdown",
     "metadata": {},
     "source": "First we look at the top level."
    },
    {
     "cell_type": "code",
     "collapsed": false,
     "input": "print 'Subsystems'\nsubsystem_data.pco(annot='function', level='level1', normalize=1, col_name=False, legend=False)\nprint 'KEGG'\nkegg_data.pco(annot='function', level='level1', normalize=1, col_name=False, legend=False)",
     "language": "python",
     "metadata": {},
     "outputs": [
      {
       "output_type": "stream",
       "stream": "stdout",
       "text": "Subsystems\n"
      },
      {
       "html": "<div id='div_pco_VWEjhCgz'></div>",
       "output_type": "display_data",
       "text": "<IPython.core.display.HTML at 0x7f2ef8906fd0>"
      },
      {
       "javascript": "\n\t\t\t(function(){\n\t\t\t\tRetina.add_renderer({\"name\": \"plot\", \"resource\": 'http://raw.github.com/MG-RAST/Retina/master/renderers/', \"filename\": \"renderer.plot.js\" });\n\t\t\t\tRetina.load_renderer(\"plot\").then( function () { Retina.Renderer.create('plot', {width: 700, height: 600, target: document.getElementById('div_pco_VWEjhCgz'), data: {\"series\": [{\"color\": \"#3366cc\", \"shape\": \"circle\", \"name\": \"mgm4512946.3\", \"filled\": 1}, {\"color\": \"#dc3912\", \"shape\": \"circle\", \"name\": \"mgm4512947.3\", \"filled\": 1}, {\"color\": \"#ff9900\", \"shape\": \"circle\", \"name\": \"mgm4512948.3\", \"filled\": 1}, {\"color\": \"#109618\", \"shape\": \"circle\", \"name\": \"mgm4512949.3\", \"filled\": 1}], \"points\": [[{\"y\": -159.329630873567, \"x\": -83.1666829756482}], [{\"y\": -280.99267369449, \"x\": -51.9809284326}], [{\"y\": -50.2633434476723, \"x\": 174.094168552688}], [{\"y\": 490.58564801573, \"x\": -38.9465571444394}]]}, title: '', show_legend: false, legend_position: 'right', connected: false, show_dots: true, x_min: -108.892768, x_max: 199.820254, y_min: -358.150506, y_max: 567.743480, x_title: 'PCO1 r^2 0.85346', y_title: 'PCO2 r^2 0.10177'}).render(); });\n                        })();\n\t\t",
       "output_type": "display_data",
       "text": "<IPython.core.display.Javascript at 0x2baf890>"
      },
      {
       "output_type": "stream",
       "stream": "stdout",
       "text": "KEGG\n"
      },
      {
       "html": "<div id='div_pco_ub0fWnn7'></div>",
       "output_type": "display_data",
       "text": "<IPython.core.display.HTML at 0x7f2ef8906ad0>"
      },
      {
       "javascript": "\n\t\t\t(function(){\n\t\t\t\tRetina.add_renderer({\"name\": \"plot\", \"resource\": 'http://raw.github.com/MG-RAST/Retina/master/renderers/', \"filename\": \"renderer.plot.js\" });\n\t\t\t\tRetina.load_renderer(\"plot\").then( function () { Retina.Renderer.create('plot', {width: 700, height: 600, target: document.getElementById('div_pco_ub0fWnn7'), data: {\"series\": [{\"color\": \"#3366cc\", \"shape\": \"circle\", \"name\": \"mgm4512946.3\", \"filled\": 1}, {\"color\": \"#dc3912\", \"shape\": \"circle\", \"name\": \"mgm4512947.3\", \"filled\": 1}, {\"color\": \"#ff9900\", \"shape\": \"circle\", \"name\": \"mgm4512948.3\", \"filled\": 1}, {\"color\": \"#109618\", \"shape\": \"circle\", \"name\": \"mgm4512949.3\", \"filled\": 1}], \"points\": [[{\"y\": -53.8406529102163, \"x\": -36.4842008496825}], [{\"y\": -73.6489917397848, \"x\": -27.0475537782686}], [{\"y\": -6.69592792525607, \"x\": 88.5950468057967}], [{\"y\": 134.185572575257, \"x\": -25.0632921778455}]]}, title: '', show_legend: false, legend_position: 'right', connected: false, show_dots: true, x_min: -48.992126, x_max: 101.102972, y_min: -94.432448, y_max: 154.969029, x_title: 'PCO1 r^2 0.70431', y_title: 'PCO2 r^2 0.28147'}).render(); });\n                        })();\n\t\t",
       "output_type": "display_data",
       "text": "<IPython.core.display.Javascript at 0x7f2ef8906ad0>"
      }
     ],
     "prompt_number": 6
    },
    {
     "cell_type": "markdown",
     "metadata": {},
     "source": "Next the second level down"
    },
    {
     "cell_type": "code",
     "collapsed": false,
     "input": "print 'Subsystems'\nsubsystem_data.pco(annot='function', level='level2', normalize=1, col_name=False, legend=False)\nprint 'KEGG'\nkegg_data.pco(annot='function', level='level2', normalize=1, col_name=False, legend=False)",
     "language": "python",
     "metadata": {},
     "outputs": [
      {
       "output_type": "stream",
       "stream": "stdout",
       "text": "Subsystems\n"
      },
      {
       "html": "<div id='div_pco_QOMvUj8M'></div>",
       "output_type": "display_data",
       "text": "<IPython.core.display.HTML at 0x7f2f0274d550>"
      },
      {
       "javascript": "\n\t\t\t(function(){\n\t\t\t\tRetina.add_renderer({\"name\": \"plot\", \"resource\": 'http://raw.github.com/MG-RAST/Retina/master/renderers/', \"filename\": \"renderer.plot.js\" });\n\t\t\t\tRetina.load_renderer(\"plot\").then( function () { Retina.Renderer.create('plot', {width: 700, height: 600, target: document.getElementById('div_pco_QOMvUj8M'), data: {\"series\": [{\"color\": \"#3366cc\", \"shape\": \"circle\", \"name\": \"mgm4512946.3\", \"filled\": 1}, {\"color\": \"#dc3912\", \"shape\": \"circle\", \"name\": \"mgm4512947.3\", \"filled\": 1}, {\"color\": \"#ff9900\", \"shape\": \"circle\", \"name\": \"mgm4512948.3\", \"filled\": 1}, {\"color\": \"#109618\", \"shape\": \"circle\", \"name\": \"mgm4512949.3\", \"filled\": 1}], \"points\": [[{\"y\": -39.2506909869705, \"x\": -77.1261437192804}], [{\"y\": -160.092367729235, \"x\": -22.4209277927342}], [{\"y\": 6.11353847051951, \"x\": 138.160869403235}], [{\"y\": 193.229520245686, \"x\": -38.6137978912197}]]}, title: '', show_legend: false, legend_position: 'right', connected: false, show_dots: true, x_min: -98.654845, x_max: 159.689571, y_min: -195.424557, y_max: 228.561709, x_title: 'PCO1 r^2 0.63722', y_title: 'PCO2 r^2 0.26686'}).render(); });\n                        })();\n\t\t",
       "output_type": "display_data",
       "text": "<IPython.core.display.Javascript at 0x7f2f0274d550>"
      },
      {
       "output_type": "stream",
       "stream": "stdout",
       "text": "KEGG\n"
      },
      {
       "html": "<div id='div_pco_Vsxzn4Hn'></div>",
       "output_type": "display_data",
       "text": "<IPython.core.display.HTML at 0x7f2f15de4b10>"
      },
      {
       "javascript": "\n\t\t\t(function(){\n\t\t\t\tRetina.add_renderer({\"name\": \"plot\", \"resource\": 'http://raw.github.com/MG-RAST/Retina/master/renderers/', \"filename\": \"renderer.plot.js\" });\n\t\t\t\tRetina.load_renderer(\"plot\").then( function () { Retina.Renderer.create('plot', {width: 700, height: 600, target: document.getElementById('div_pco_Vsxzn4Hn'), data: {\"series\": [{\"color\": \"#3366cc\", \"shape\": \"circle\", \"name\": \"mgm4512946.3\", \"filled\": 1}, {\"color\": \"#dc3912\", \"shape\": \"circle\", \"name\": \"mgm4512947.3\", \"filled\": 1}, {\"color\": \"#ff9900\", \"shape\": \"circle\", \"name\": \"mgm4512948.3\", \"filled\": 1}, {\"color\": \"#109618\", \"shape\": \"circle\", \"name\": \"mgm4512949.3\", \"filled\": 1}], \"points\": [[{\"y\": -14.0915799736139, \"x\": 85.771290253394}], [{\"y\": 264.891189421654, \"x\": -41.794246001597}], [{\"y\": -256.319503004193, \"x\": -47.8244652946569}], [{\"y\": 5.51989355615202, \"x\": 3.84742104285993}]]}, title: '', show_legend: false, legend_position: 'right', connected: false, show_dots: true, x_min: -61.184041, x_max: 99.130866, y_min: -308.440572, y_max: 317.012259, x_title: 'PCO1 r^2 0.90508', y_title: 'PCO2 r^2 0.07585'}).render(); });\n                        })();\n\t\t",
       "output_type": "display_data",
       "text": "<IPython.core.display.Javascript at 0x7f2f15de4b10>"
      }
     ],
     "prompt_number": 7
    },
    {
     "cell_type": "markdown",
     "metadata": {},
     "source": "Now the third level down, called the 'subsystems' level in the Subsystems annotation."
    },
    {
     "cell_type": "code",
     "collapsed": false,
     "input": "print 'Subsystems'\nsubsystem_data.pco(annot='function', level='level3', normalize=1, col_name=False, legend=False)\nprint 'KEGG'\nkegg_data.pco(annot='function', level='level3', normalize=1, col_name=False, legend=False)",
     "language": "python",
     "metadata": {},
     "outputs": [
      {
       "output_type": "stream",
       "stream": "stdout",
       "text": "Subsystems\n"
      },
      {
       "html": "<div id='div_pco_KspxB9Zw'></div>",
       "output_type": "display_data",
       "text": "<IPython.core.display.HTML at 0x2bd3bd0>"
      },
      {
       "javascript": "\n\t\t\t(function(){\n\t\t\t\tRetina.add_renderer({\"name\": \"plot\", \"resource\": 'http://raw.github.com/MG-RAST/Retina/master/renderers/', \"filename\": \"renderer.plot.js\" });\n\t\t\t\tRetina.load_renderer(\"plot\").then( function () { Retina.Renderer.create('plot', {width: 700, height: 600, target: document.getElementById('div_pco_KspxB9Zw'), data: {\"series\": [{\"color\": \"#3366cc\", \"shape\": \"circle\", \"name\": \"mgm4512946.3\", \"filled\": 1}, {\"color\": \"#dc3912\", \"shape\": \"circle\", \"name\": \"mgm4512947.3\", \"filled\": 1}, {\"color\": \"#ff9900\", \"shape\": \"circle\", \"name\": \"mgm4512948.3\", \"filled\": 1}, {\"color\": \"#109618\", \"shape\": \"circle\", \"name\": \"mgm4512949.3\", \"filled\": 1}], \"points\": [[{\"y\": -12.7674176107866, \"x\": 36.2725355598475}], [{\"y\": -84.0807502483112, \"x\": 10.1178998147254}], [{\"y\": 9.83564965498158, \"x\": -69.3261584690317}], [{\"y\": 87.0125182041164, \"x\": 22.9357230944588}]]}, title: '', show_legend: false, legend_position: 'right', connected: false, show_dots: true, x_min: -79.886028, x_max: 46.832405, y_min: -101.190077, y_max: 104.121845, x_title: 'PCO1 r^2 0.56802', y_title: 'PCO2 r^2 0.25732'}).render(); });\n                        })();\n\t\t",
       "output_type": "display_data",
       "text": "<IPython.core.display.Javascript at 0x2bd3bd0>"
      },
      {
       "output_type": "stream",
       "stream": "stdout",
       "text": "KEGG\n"
      },
      {
       "html": "<div id='div_pco_YnGpIkLq'></div>",
       "output_type": "display_data",
       "text": "<IPython.core.display.HTML at 0x7f2edafa9fd0>"
      },
      {
       "javascript": "\n\t\t\t(function(){\n\t\t\t\tRetina.add_renderer({\"name\": \"plot\", \"resource\": 'http://raw.github.com/MG-RAST/Retina/master/renderers/', \"filename\": \"renderer.plot.js\" });\n\t\t\t\tRetina.load_renderer(\"plot\").then( function () { Retina.Renderer.create('plot', {width: 700, height: 600, target: document.getElementById('div_pco_YnGpIkLq'), data: {\"series\": [{\"color\": \"#3366cc\", \"shape\": \"circle\", \"name\": \"mgm4512946.3\", \"filled\": 1}, {\"color\": \"#dc3912\", \"shape\": \"circle\", \"name\": \"mgm4512947.3\", \"filled\": 1}, {\"color\": \"#ff9900\", \"shape\": \"circle\", \"name\": \"mgm4512948.3\", \"filled\": 1}, {\"color\": \"#109618\", \"shape\": \"circle\", \"name\": \"mgm4512949.3\", \"filled\": 1}], \"points\": [[{\"y\": 23.5460180356302, \"x\": -48.9386473301653}], [{\"y\": -102.915331468785, \"x\": -27.3011018118884}], [{\"y\": -19.0567236793349, \"x\": 77.9805308158739}], [{\"y\": 98.4260371124901, \"x\": -1.74078167382015}]]}, title: '', show_legend: false, legend_position: 'right', connected: false, show_dots: true, x_min: -61.630565, x_max: 90.672449, y_min: -123.049468, y_max: 118.560174, x_title: 'PCO1 r^2 0.61940', y_title: 'PCO2 r^2 0.26955'}).render(); });\n                        })();\n\t\t",
       "output_type": "display_data",
       "text": "<IPython.core.display.Javascript at 0x7f2edafa9fd0>"
      }
     ],
     "prompt_number": 8
    },
    {
     "cell_type": "markdown",
     "metadata": {},
     "source": "Finally we can look at the bottom or function level plots."
    },
    {
     "cell_type": "code",
     "collapsed": false,
     "input": "# this takes a long time for R to calculate\nprint 'Subsystems'\nsubsystem_data.pco(annot='function', level='function', normalize=1, col_name=False, legend=False)\nprint 'KEGG'\nkegg_data.pco(annot='function', level='function', normalize=1, col_name=False, legend=False)",
     "language": "python",
     "metadata": {},
     "outputs": [],
     "prompt_number": "*"
    },
    {
     "cell_type": "code",
     "collapsed": false,
     "input": "",
     "language": "python",
     "metadata": {},
     "outputs": []
    }
   ],
   "metadata": {}
  }
 ]
}